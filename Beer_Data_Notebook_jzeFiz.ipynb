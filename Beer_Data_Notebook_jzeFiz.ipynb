{
 "cells": [
  {
   "cell_type": "markdown",
   "metadata": {},
   "source": [
    "# Acquiring Beer Data \n",
    "\n",
    "From Brewerydb: https://www.brewerydb.com/"
   ]
  },
  {
   "cell_type": "code",
   "execution_count": 1,
   "metadata": {},
   "outputs": [],
   "source": [
    "#import dependencies\n",
    "import api_setup as ap\n",
    "from tqdm import tqdm\n",
    "import pandas as pd\n",
    "from pprint import pprint"
   ]
  },
  {
   "cell_type": "code",
   "execution_count": 43,
   "metadata": {},
   "outputs": [
    {
     "name": "stderr",
     "output_type": "stream",
     "text": [
      "C:\\Users\\norfe\\Anaconda3\\lib\\site-packages\\ipykernel_launcher.py:74: FutureWarning: set_value is deprecated and will be removed in a future release. Please use .at[] or .iat[] accessors instead\n",
      "C:\\Users\\norfe\\Anaconda3\\lib\\site-packages\\ipykernel_launcher.py:66: FutureWarning: set_value is deprecated and will be removed in a future release. Please use .at[] or .iat[] accessors instead\n",
      "C:\\Users\\norfe\\Anaconda3\\lib\\site-packages\\ipykernel_launcher.py:76: FutureWarning: set_value is deprecated and will be removed in a future release. Please use .at[] or .iat[] accessors instead\n",
      "C:\\Users\\norfe\\Anaconda3\\lib\\site-packages\\ipykernel_launcher.py:25: FutureWarning: set_value is deprecated and will be removed in a future release. Please use .at[] or .iat[] accessors instead\n",
      "C:\\Users\\norfe\\Anaconda3\\lib\\site-packages\\ipykernel_launcher.py:56: FutureWarning: set_value is deprecated and will be removed in a future release. Please use .at[] or .iat[] accessors instead\n",
      "C:\\Users\\norfe\\Anaconda3\\lib\\site-packages\\ipykernel_launcher.py:59: FutureWarning: set_value is deprecated and will be removed in a future release. Please use .at[] or .iat[] accessors instead\n",
      "C:\\Users\\norfe\\Anaconda3\\lib\\site-packages\\ipykernel_launcher.py:31: FutureWarning: set_value is deprecated and will be removed in a future release. Please use .at[] or .iat[] accessors instead\n",
      "C:\\Users\\norfe\\Anaconda3\\lib\\site-packages\\ipykernel_launcher.py:51: FutureWarning: set_value is deprecated and will be removed in a future release. Please use .at[] or .iat[] accessors instead\n"
     ]
    }
   ],
   "source": [
    "beer_data = pd.DataFrame()\n",
    "# withBreweries and withIngredients are completely empty\n",
    "beer_features = ['id', 'name', 'nameDisplay', 'abv', 'ibu','styleId','year', 'glasswareId','isOrganic', 'breweries',\n",
    "                'glasswareId', 'isRetired', 'status', 'statusDisplay','ingredients']\n",
    "\n",
    "for feature in beer_features:\n",
    "    beer_data[feature]=''\n",
    "\n",
    "ing_col =['hops','malt','misc','yeast']\n",
    "for ing in ing_col:\n",
    "    beer_data[ing] = ''\n",
    "count=0\n",
    "for p in range(1,24):\n",
    "    \n",
    "    data = ap.get_data(page=p, custom='&withBreweries=Y&withIngredients=Y')\n",
    "    size = len(data['data'])\n",
    "    try:\n",
    "        for i in range(size):\n",
    "          \n",
    "            for feature in beer_features:\n",
    "             #   print('feature ' + feature + ' value ' + str(data['data'][i][feature]))\n",
    "                if feature == 'breweries':\n",
    "                  \n",
    "                    try:\n",
    "                        beer_data.set_value(count,feature,data['data'][i][feature][0]['id'])\n",
    "                    except Exception as e:\n",
    "                        print ('no brewery')\n",
    "                elif feature == 'ingredients':\n",
    "                   \n",
    "                    if 'ingredients' in data['data'][i]:\n",
    "                        beer_data.set_value(count,feature,len(data['data'][i][feature]))\n",
    "                        #rint(data['data'][i][feature])\n",
    "                        \n",
    "                        for ing,val in data['data'][i][feature].items():\n",
    "                            #print(ing)\n",
    "                            \n",
    "                                \n",
    "                                    #print(ing)\n",
    "                                    #rint(str(val[0]['id']))\n",
    "                                    h_id_string =''\n",
    "                                    for h_id in val:\n",
    "                                        #print('hola')\n",
    "                                        #print(h_id)\n",
    "                                        try:\n",
    "                                            h_id_string += str(h_id['id']) +';'\n",
    "                                        except Exception as e:\n",
    "                                          #  print ( h_id)\n",
    "                                          #  print(data['data'][i][feature])\n",
    "                                          #  print('error' + str(e))\n",
    "                                             pass\n",
    "                                    beer_data.set_value(count,ing,h_id_string)\n",
    "                          \n",
    "                                    \n",
    "                    else:\n",
    "                       # print('error ' + str(e))\n",
    "                        beer_data.set_value(count,feature,0)\n",
    "                elif feature == 'ibu':\n",
    "                    if 'ibu' in data['data'][i]:\n",
    "                        beer_data.set_value(count,feature,data['data'][i][feature])\n",
    "                        \n",
    "                    elif 'style' in data['data'][i]:\n",
    "                        try:\n",
    "                            if 'ibuMin' in data['data'][i]['style'] and 'ibuMax' in data['data'][i]['style']:\n",
    "                                ibuAve = (float(data['data'][i]['style']['ibuMin'])+float(data['data'][i]['style']['ibuMax']))/2\n",
    "                                #print(ibuAve)\n",
    "                                beer_data.set_value(count,feature, ibuAve)\n",
    "                            #print(str(ibuAve))\n",
    "                        except Exception as e:\n",
    "                            #print('no style ibu info')\n",
    "                            print(e)\n",
    "                else:\n",
    "                    try:\n",
    "                        #print('stuff')\n",
    "                        beer_data.set_value(count,feature,data['data'][i][feature])\n",
    "                    except Exception as e: \n",
    "                        beer_data.set_value(count,feature,'n/a')\n",
    "                        #print(f\"name:{data['data'][i]['name']}, page:{p}, item:{i}, feature:{feature}, error:{e}\")\n",
    "                #print('end feature')\n",
    "            count+=1\n",
    "            #print(count)\n",
    "            #beer_data.tail(2)\n",
    "    except Exception as e:\n",
    "        print(\"error \" + str(e))\n",
    "                      \n",
    "                      "
   ]
  },
  {
   "cell_type": "code",
   "execution_count": 44,
   "metadata": {},
   "outputs": [
    {
     "data": {
      "text/html": [
       "<div>\n",
       "<style scoped>\n",
       "    .dataframe tbody tr th:only-of-type {\n",
       "        vertical-align: middle;\n",
       "    }\n",
       "\n",
       "    .dataframe tbody tr th {\n",
       "        vertical-align: top;\n",
       "    }\n",
       "\n",
       "    .dataframe thead th {\n",
       "        text-align: right;\n",
       "    }\n",
       "</style>\n",
       "<table border=\"1\" class=\"dataframe\">\n",
       "  <thead>\n",
       "    <tr style=\"text-align: right;\">\n",
       "      <th></th>\n",
       "      <th>id</th>\n",
       "      <th>name</th>\n",
       "      <th>nameDisplay</th>\n",
       "      <th>abv</th>\n",
       "      <th>ibu</th>\n",
       "      <th>styleId</th>\n",
       "      <th>year</th>\n",
       "      <th>glasswareId</th>\n",
       "      <th>isOrganic</th>\n",
       "      <th>breweries</th>\n",
       "      <th>isRetired</th>\n",
       "      <th>status</th>\n",
       "      <th>statusDisplay</th>\n",
       "      <th>ingredients</th>\n",
       "      <th>hops</th>\n",
       "      <th>malt</th>\n",
       "      <th>misc</th>\n",
       "      <th>yeast</th>\n",
       "    </tr>\n",
       "  </thead>\n",
       "  <tbody>\n",
       "    <tr>\n",
       "      <th>0</th>\n",
       "      <td>c4f2KE</td>\n",
       "      <td>'Murican Pilsner</td>\n",
       "      <td>'Murican Pilsner</td>\n",
       "      <td>5.5</td>\n",
       "      <td>32.5</td>\n",
       "      <td>98</td>\n",
       "      <td>n/a</td>\n",
       "      <td>4</td>\n",
       "      <td>N</td>\n",
       "      <td>nHLlnK</td>\n",
       "      <td>N</td>\n",
       "      <td>verified</td>\n",
       "      <td>Verified</td>\n",
       "      <td>0</td>\n",
       "      <td>NaN</td>\n",
       "      <td>NaN</td>\n",
       "      <td>NaN</td>\n",
       "      <td>NaN</td>\n",
       "    </tr>\n",
       "    <tr>\n",
       "      <th>1</th>\n",
       "      <td>zTTWa2</td>\n",
       "      <td>11.5° PLATO</td>\n",
       "      <td>11.5° PLATO</td>\n",
       "      <td>4.5</td>\n",
       "      <td>35</td>\n",
       "      <td>164</td>\n",
       "      <td>n/a</td>\n",
       "      <td>n/a</td>\n",
       "      <td>N</td>\n",
       "      <td>nHLlnK</td>\n",
       "      <td>N</td>\n",
       "      <td>verified</td>\n",
       "      <td>Verified</td>\n",
       "      <td>0</td>\n",
       "      <td>NaN</td>\n",
       "      <td>NaN</td>\n",
       "      <td>NaN</td>\n",
       "      <td>NaN</td>\n",
       "    </tr>\n",
       "    <tr>\n",
       "      <th>2</th>\n",
       "      <td>zfP2fK</td>\n",
       "      <td>12th Of Never</td>\n",
       "      <td>12th Of Never</td>\n",
       "      <td>5.5</td>\n",
       "      <td>45</td>\n",
       "      <td>25</td>\n",
       "      <td>n/a</td>\n",
       "      <td>n/a</td>\n",
       "      <td>N</td>\n",
       "      <td>nLsoQ9</td>\n",
       "      <td>N</td>\n",
       "      <td>verified</td>\n",
       "      <td>Verified</td>\n",
       "      <td>0</td>\n",
       "      <td>NaN</td>\n",
       "      <td>NaN</td>\n",
       "      <td>NaN</td>\n",
       "      <td>NaN</td>\n",
       "    </tr>\n",
       "    <tr>\n",
       "      <th>3</th>\n",
       "      <td>xwYSL2</td>\n",
       "      <td>15th Anniversary Ale</td>\n",
       "      <td>15th Anniversary Ale</td>\n",
       "      <td>n/a</td>\n",
       "      <td>37.5</td>\n",
       "      <td>5</td>\n",
       "      <td>n/a</td>\n",
       "      <td>n/a</td>\n",
       "      <td>N</td>\n",
       "      <td>TMc6H2</td>\n",
       "      <td>N</td>\n",
       "      <td>verified</td>\n",
       "      <td>Verified</td>\n",
       "      <td>2</td>\n",
       "      <td>22;24;26;11;157;</td>\n",
       "      <td>247;650;</td>\n",
       "      <td>NaN</td>\n",
       "      <td>NaN</td>\n",
       "    </tr>\n",
       "    <tr>\n",
       "      <th>4</th>\n",
       "      <td>UJGpVS</td>\n",
       "      <td>16 So Fine Red Wheat Wine</td>\n",
       "      <td>16 So Fine Red Wheat Wine</td>\n",
       "      <td>11</td>\n",
       "      <td>65</td>\n",
       "      <td>35</td>\n",
       "      <td>n/a</td>\n",
       "      <td>n/a</td>\n",
       "      <td>N</td>\n",
       "      <td>TMc6H2</td>\n",
       "      <td>N</td>\n",
       "      <td>verified</td>\n",
       "      <td>Verified</td>\n",
       "      <td>1</td>\n",
       "      <td>4;11;86;157;</td>\n",
       "      <td>NaN</td>\n",
       "      <td>NaN</td>\n",
       "      <td>NaN</td>\n",
       "    </tr>\n",
       "  </tbody>\n",
       "</table>\n",
       "</div>"
      ],
      "text/plain": [
       "       id                       name                nameDisplay  abv   ibu  \\\n",
       "0  c4f2KE           'Murican Pilsner           'Murican Pilsner  5.5  32.5   \n",
       "1  zTTWa2                11.5° PLATO                11.5° PLATO  4.5    35   \n",
       "2  zfP2fK              12th Of Never              12th Of Never  5.5    45   \n",
       "3  xwYSL2       15th Anniversary Ale       15th Anniversary Ale  n/a  37.5   \n",
       "4  UJGpVS  16 So Fine Red Wheat Wine  16 So Fine Red Wheat Wine   11    65   \n",
       "\n",
       "  styleId year glasswareId isOrganic breweries isRetired    status  \\\n",
       "0      98  n/a           4         N    nHLlnK         N  verified   \n",
       "1     164  n/a         n/a         N    nHLlnK         N  verified   \n",
       "2      25  n/a         n/a         N    nLsoQ9         N  verified   \n",
       "3       5  n/a         n/a         N    TMc6H2         N  verified   \n",
       "4      35  n/a         n/a         N    TMc6H2         N  verified   \n",
       "\n",
       "  statusDisplay ingredients              hops      malt misc yeast  \n",
       "0      Verified           0               NaN       NaN  NaN   NaN  \n",
       "1      Verified           0               NaN       NaN  NaN   NaN  \n",
       "2      Verified           0               NaN       NaN  NaN   NaN  \n",
       "3      Verified           2  22;24;26;11;157;  247;650;  NaN   NaN  \n",
       "4      Verified           1      4;11;86;157;       NaN  NaN   NaN  "
      ]
     },
     "execution_count": 44,
     "metadata": {},
     "output_type": "execute_result"
    }
   ],
   "source": [
    "beer_data.head()\n"
   ]
  },
  {
   "cell_type": "code",
   "execution_count": 4,
   "metadata": {
    "scrolled": true
   },
   "outputs": [
    {
     "data": {
      "text/plain": [
       "nHLlnK    286\n",
       "q6vJUK    124\n",
       "AqEUBQ    102\n",
       "nLsoQ9     92\n",
       "TMc6H2     80\n",
       "p1tFbP     74\n",
       "BznahA     72\n",
       "IImUD9     66\n",
       "VEY3Xa     52\n",
       "4F7QA9     28\n",
       "yX6twV     26\n",
       "HaPdSL     26\n",
       "DifSi4     24\n",
       "p3YrOa     21\n",
       "DMU2Kf     12\n",
       "941OaA      9\n",
       "hGFVYy      9\n",
       "uM2jeT      6\n",
       "Name: breweries, dtype: int64"
      ]
     },
     "execution_count": 4,
     "metadata": {},
     "output_type": "execute_result"
    }
   ],
   "source": [
    "beer_data['breweries'].value_counts()"
   ]
  },
  {
   "cell_type": "markdown",
   "metadata": {},
   "source": [
    "> we'll change the column names from camel case to snake case for better consistency in notebook"
   ]
  },
  {
   "cell_type": "code",
   "execution_count": null,
   "metadata": {},
   "outputs": [],
   "source": [
    "beer_data.rename(columns={'id':'beer_id', 'nameDisplay':'display_name','isOrganic':'organic','isRetired':'retired','breweries':'brewery_id', 'styleId':'style_id', 'glasswareId':'glass_id'}, inplace=True)"
   ]
  },
  {
   "cell_type": "code",
   "execution_count": null,
   "metadata": {},
   "outputs": [],
   "source": [
    "beer_data.drop('statusDisplay',axis=1, inplace=True)"
   ]
  },
  {
   "cell_type": "code",
   "execution_count": null,
   "metadata": {},
   "outputs": [],
   "source": []
  },
  {
   "cell_type": "code",
   "execution_count": null,
   "metadata": {},
   "outputs": [],
   "source": [
    "beer_data.head()"
   ]
  },
  {
   "cell_type": "code",
   "execution_count": null,
   "metadata": {},
   "outputs": [],
   "source": [
    "beer_data.to_csv(\"data/beers.csv\")"
   ]
  },
  {
   "cell_type": "markdown",
   "metadata": {},
   "source": [
    "> we can see that there are 263 beers of the 1109 total beers that have a value for glass_id"
   ]
  },
  {
   "cell_type": "code",
   "execution_count": null,
   "metadata": {},
   "outputs": [],
   "source": [
    "beer_glass = beer_data[beer_data[\"glass_id\"].notna()]\n",
    "print(beer_glass.shape)\n",
    "beer_glass.head()"
   ]
  },
  {
   "cell_type": "markdown",
   "metadata": {},
   "source": [
    "> Below, we can see the distribution of the glasses. The majority of the beers use glass5. Because of the lack of data in several other glass_id's, it would not be safe to generalize the data over other beers/glasses"
   ]
  },
  {
   "cell_type": "code",
   "execution_count": null,
   "metadata": {},
   "outputs": [],
   "source": [
    "beer_glass.groupby('glass_id').count()['beer_id']"
   ]
  },
  {
   "cell_type": "markdown",
   "metadata": {},
   "source": [
    "> before we can create our plots, we need to clean the data and make sure that the data types are consistent with the requirements for the plot. "
   ]
  },
  {
   "cell_type": "code",
   "execution_count": null,
   "metadata": {},
   "outputs": [],
   "source": [
    "# beer_glass.info() \n",
    "# shows that all variables are categorical and abv should be turned into a float and glass_id to int to be able to plot\n",
    "beer_glass['abv'] = beer_glass['abv'].astype(float)\n",
    "beer_glass['glass_id'] = beer_glass['glass_id'].astype(int)\n",
    "beer_glass.info()"
   ]
  },
  {
   "cell_type": "code",
   "execution_count": null,
   "metadata": {},
   "outputs": [],
   "source": [
    "abv_glass = beer_glass.boxplot('abv', \"glass_id\")"
   ]
  },
  {
   "cell_type": "code",
   "execution_count": null,
   "metadata": {},
   "outputs": [],
   "source": [
    "\n",
    "abv_data = beer_data[beer_data[\"abv\"].notna()]\n",
    "abv_data['abv']=pd.to_numeric(abv_data['abv'])\n",
    "# print(abv_data.shape)\n",
    "# abv_data.head()\n",
    "\n",
    "avg_abv = abv_data['abv'].mean()\n",
    "avg_abv = '{0:.3}'.format(avg_abv)"
   ]
  },
  {
   "cell_type": "code",
   "execution_count": null,
   "metadata": {},
   "outputs": [],
   "source": [
    "#Make a histogram\n",
    "plt.hist(abv_data['abv'], bins=40)\n",
    "\n",
    "#Chart elements\n",
    "plt.title(f\"Alcohol by Volume Distribution for All Beers\")\n",
    "plt.xlabel('abv (%)')\n",
    "plt.ylabel('Number of Beers')\n",
    "plt.grid(False)\n",
    "plt.text(12, 100, f\"Mean: {avg_abv} % abv\", bbox=dict(facecolor='yellow', alpha=0.5), fontsize=11)\n",
    "\n",
    "#Save and print\n",
    "plt.savefig(\"Alcohol by Volume Distribution for All Beers.png\")\n",
    "plt.show()"
   ]
  }
 ],
 "metadata": {
  "kernelspec": {
   "display_name": "Python 3",
   "language": "python",
   "name": "python3"
  },
  "language_info": {
   "codemirror_mode": {
    "name": "ipython",
    "version": 3
   },
   "file_extension": ".py",
   "mimetype": "text/x-python",
   "name": "python",
   "nbconvert_exporter": "python",
   "pygments_lexer": "ipython3",
   "version": "3.6.5"
  }
 },
 "nbformat": 4,
 "nbformat_minor": 2
}
