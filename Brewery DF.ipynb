{
 "cells": [
  {
   "cell_type": "markdown",
   "metadata": {},
   "source": [
    "# Import Dependencies"
   ]
  },
  {
   "cell_type": "code",
   "execution_count": 1,
   "metadata": {},
   "outputs": [],
   "source": [
    "from config import api_key\n",
    "import matplotlib.pyplot as plt\n",
    "import pandas as pd\n",
    "import numpy as np\n",
    "import requests\n",
    "import datetime\n",
    "import json"
   ]
  },
  {
   "cell_type": "markdown",
   "metadata": {},
   "source": [
    "# Use API to get .json"
   ]
  },
  {
   "cell_type": "code",
   "execution_count": 2,
   "metadata": {},
   "outputs": [],
   "source": [
    "endpoint = 'breweries'\n",
    "page = 1\n",
    "url = f\"https://sandbox-api.brewerydb.com/v2/{endpoint}/?key={api_key}&p={page}&withLocations=Y&withSocialAccounts=Y\"\n",
    "brewery_data = requests.get(url).json()\n",
    "#print(json.dumps(brewery_data, indent=4, sort_keys=True))"
   ]
  },
  {
   "cell_type": "markdown",
   "metadata": {},
   "source": [
    "# Create DataFrame"
   ]
  },
  {
   "cell_type": "markdown",
   "metadata": {},
   "source": [
    "- Initially, we pull just a few interesting columns for the dataframe, most importantly, the established dates and lat/lon coordinates for each brewery\n",
    "- We will add distance columns later after doing some math\n",
    "- Change the Established Date column to numeric in order to use in the scatter plot"
   ]
  },
  {
   "cell_type": "code",
   "execution_count": 3,
   "metadata": {},
   "outputs": [
    {
     "name": "stdout",
     "output_type": "stream",
     "text": [
      "id not found\n",
      "id not found\n"
     ]
    }
   ],
   "source": [
    "brewery_dict = []\n",
    "\n",
    "for result in range(0,19):\n",
    "    try:         \n",
    "        brewery_info = {\n",
    "            'Brewery Name': brewery_data['data'][result]['name'],\n",
    "            'Brewery ID': brewery_data['data'][result]['id'], \n",
    "            'Established Date': brewery_data['data'][result]['established'],           \n",
    "            'Is in business?': brewery_data['data'][result]['isInBusiness'], \n",
    "            'Website': brewery_data['data'][result]['website'],\n",
    "            'Country': brewery_data['data'][result]['locations'][0]['country']['isoCode'],\n",
    "            'City':brewery_data['data'][result]['locations'][0]['locality'],\n",
    "            'Latitude':brewery_data['data'][result]['locations'][0]['latitude'],\n",
    "            'Longitude':brewery_data['data'][result]['locations'][0]['longitude'],\n",
    "            'Primary Location':brewery_data['data'][result]['locations'][0]['isPrimary'],\n",
    "            'Distance from Chicago (km)':'',\n",
    "            'Distance from Pottsville (km)':''\n",
    "                       }      \n",
    "    except:\n",
    "        print('id not found')\n",
    "    brewery_dict.append(brewery_info)"
   ]
  },
  {
   "cell_type": "code",
   "execution_count": 4,
   "metadata": {},
   "outputs": [],
   "source": [
    "brewery_df = pd.DataFrame(brewery_dict)\n",
    "brewery_df['Established Date']=pd.to_numeric(brewery_df['Established Date'])\n",
    "#brewery_df"
   ]
  },
  {
   "cell_type": "markdown",
   "metadata": {},
   "source": [
    "# Determine Distances from Chicago"
   ]
  },
  {
   "cell_type": "markdown",
   "metadata": {},
   "source": [
    "- use geopy to determine distances via lat/long data\n",
    "- Chicago is one of the hot-spots for early American breweries, made possible by the German immigrant community\n",
    "- Pottsville (Becky's hometown) is home to the oldest brewery in America - Yeungling!\n",
    "- update the dataframe, clean it and export as a csv"
   ]
  },
  {
   "cell_type": "code",
   "execution_count": 5,
   "metadata": {},
   "outputs": [],
   "source": [
    "#!pip install geopy"
   ]
  },
  {
   "cell_type": "code",
   "execution_count": 6,
   "metadata": {},
   "outputs": [
    {
     "name": "stderr",
     "output_type": "stream",
     "text": [
      "C:\\Users\\sponr\\Anaconda3\\lib\\site-packages\\ipykernel_launcher.py:8: SettingWithCopyWarning: \n",
      "A value is trying to be set on a copy of a slice from a DataFrame\n",
      "\n",
      "See the caveats in the documentation: http://pandas.pydata.org/pandas-docs/stable/indexing.html#indexing-view-versus-copy\n",
      "  \n",
      "C:\\Users\\sponr\\Anaconda3\\lib\\site-packages\\ipykernel_launcher.py:9: SettingWithCopyWarning: \n",
      "A value is trying to be set on a copy of a slice from a DataFrame\n",
      "\n",
      "See the caveats in the documentation: http://pandas.pydata.org/pandas-docs/stable/indexing.html#indexing-view-versus-copy\n",
      "  if __name__ == '__main__':\n"
     ]
    }
   ],
   "source": [
    "import geopy.distance\n",
    "\n",
    "Chi_coords = (41.8781, -87.6298)\n",
    "Pottsville_coords = (40.6856, -76.1955)\n",
    "\n",
    "for x in range(0,19):\n",
    "    Brewery_coords = (brewery_df['Latitude'][x], brewery_df['Longitude'][x])\n",
    "    brewery_df['Distance from Chicago (km)'][x] = geopy.distance.distance(Chi_coords, Brewery_coords).km\n",
    "    brewery_df['Distance from Pottsville (km)'][x] = geopy.distance.distance(Pottsville_coords, Brewery_coords).km"
   ]
  },
  {
   "cell_type": "code",
   "execution_count": 7,
   "metadata": {},
   "outputs": [
    {
     "data": {
      "text/html": [
       "<div>\n",
       "<style scoped>\n",
       "    .dataframe tbody tr th:only-of-type {\n",
       "        vertical-align: middle;\n",
       "    }\n",
       "\n",
       "    .dataframe tbody tr th {\n",
       "        vertical-align: top;\n",
       "    }\n",
       "\n",
       "    .dataframe thead th {\n",
       "        text-align: right;\n",
       "    }\n",
       "</style>\n",
       "<table border=\"1\" class=\"dataframe\">\n",
       "  <thead>\n",
       "    <tr style=\"text-align: right;\">\n",
       "      <th></th>\n",
       "      <th>Brewery ID</th>\n",
       "      <th>Brewery Name</th>\n",
       "      <th>City</th>\n",
       "      <th>Country</th>\n",
       "      <th>Distance from Chicago (km)</th>\n",
       "      <th>Distance from Pottsville (km)</th>\n",
       "      <th>Established Date</th>\n",
       "      <th>Is in business?</th>\n",
       "      <th>Latitude</th>\n",
       "      <th>Longitude</th>\n",
       "      <th>Primary Location</th>\n",
       "      <th>Website</th>\n",
       "    </tr>\n",
       "  </thead>\n",
       "  <tbody>\n",
       "    <tr>\n",
       "      <th>0</th>\n",
       "      <td>BznahA</td>\n",
       "      <td>Anheuser-Busch InBev</td>\n",
       "      <td>Saint Louis</td>\n",
       "      <td>US</td>\n",
       "      <td>425.153</td>\n",
       "      <td>1223.63</td>\n",
       "      <td>1852</td>\n",
       "      <td>Y</td>\n",
       "      <td>38.598504</td>\n",
       "      <td>-90.209343</td>\n",
       "      <td>Y</td>\n",
       "      <td>http://www.anheuser-busch.com/</td>\n",
       "    </tr>\n",
       "    <tr>\n",
       "      <th>2</th>\n",
       "      <td>IImUD9</td>\n",
       "      <td>Breckenridge Brewery</td>\n",
       "      <td>Denver</td>\n",
       "      <td>US</td>\n",
       "      <td>1482.63</td>\n",
       "      <td>2443.76</td>\n",
       "      <td>1990</td>\n",
       "      <td>Y</td>\n",
       "      <td>39.723668</td>\n",
       "      <td>-105.000602</td>\n",
       "      <td>Y</td>\n",
       "      <td>http://www.breckbrew.com/</td>\n",
       "    </tr>\n",
       "    <tr>\n",
       "      <th>3</th>\n",
       "      <td>uM2jeT</td>\n",
       "      <td>Brouwerij De Leite</td>\n",
       "      <td>Ruddervoorde</td>\n",
       "      <td>BE</td>\n",
       "      <td>6596.86</td>\n",
       "      <td>5965</td>\n",
       "      <td>2008</td>\n",
       "      <td>Y</td>\n",
       "      <td>51.104930</td>\n",
       "      <td>3.221300</td>\n",
       "      <td>Y</td>\n",
       "      <td>http://www.deleite.be/</td>\n",
       "    </tr>\n",
       "    <tr>\n",
       "      <th>4</th>\n",
       "      <td>p3YrOa</td>\n",
       "      <td>Dock Street Brewery</td>\n",
       "      <td>West Philly</td>\n",
       "      <td>US</td>\n",
       "      <td>1065.96</td>\n",
       "      <td>116.384</td>\n",
       "      <td>1985</td>\n",
       "      <td>Y</td>\n",
       "      <td>39.947796</td>\n",
       "      <td>-75.222931</td>\n",
       "      <td>Y</td>\n",
       "      <td>http://www.dockstreetbeer.com</td>\n",
       "    </tr>\n",
       "    <tr>\n",
       "      <th>5</th>\n",
       "      <td>HaPdSL</td>\n",
       "      <td>Guinness</td>\n",
       "      <td>Dublin City</td>\n",
       "      <td>IE</td>\n",
       "      <td>5904.55</td>\n",
       "      <td>5270.41</td>\n",
       "      <td>1759</td>\n",
       "      <td>Y</td>\n",
       "      <td>53.343090</td>\n",
       "      <td>-6.290799</td>\n",
       "      <td>Y</td>\n",
       "      <td>http://www.guinness.com/</td>\n",
       "    </tr>\n",
       "    <tr>\n",
       "      <th>7</th>\n",
       "      <td>p1tFbP</td>\n",
       "      <td>Jackalope Brewing Company</td>\n",
       "      <td>Nashville</td>\n",
       "      <td>US</td>\n",
       "      <td>640.109</td>\n",
       "      <td>1051.46</td>\n",
       "      <td>2011</td>\n",
       "      <td>Y</td>\n",
       "      <td>36.150375</td>\n",
       "      <td>-86.779494</td>\n",
       "      <td>Y</td>\n",
       "      <td>http://www.jackalopebrew.com/</td>\n",
       "    </tr>\n",
       "    <tr>\n",
       "      <th>8</th>\n",
       "      <td>nLsoQ9</td>\n",
       "      <td>Lagunitas Brewing Company</td>\n",
       "      <td>Petaluma</td>\n",
       "      <td>US</td>\n",
       "      <td>2993.93</td>\n",
       "      <td>3960.21</td>\n",
       "      <td>1993</td>\n",
       "      <td>Y</td>\n",
       "      <td>38.272435</td>\n",
       "      <td>-122.662346</td>\n",
       "      <td>N</td>\n",
       "      <td>http://www.lagunitas.com/</td>\n",
       "    </tr>\n",
       "    <tr>\n",
       "      <th>9</th>\n",
       "      <td>941OaA</td>\n",
       "      <td>Last Name Brewing</td>\n",
       "      <td>Upland</td>\n",
       "      <td>US</td>\n",
       "      <td>2761.24</td>\n",
       "      <td>3710.58</td>\n",
       "      <td>2003</td>\n",
       "      <td>Y</td>\n",
       "      <td>34.109185</td>\n",
       "      <td>-117.690934</td>\n",
       "      <td>Y</td>\n",
       "      <td>http://www.lastnamebrewing.com/</td>\n",
       "    </tr>\n",
       "    <tr>\n",
       "      <th>10</th>\n",
       "      <td>yX6twV</td>\n",
       "      <td>Laughing Dog Brewing</td>\n",
       "      <td>Ponderay</td>\n",
       "      <td>US</td>\n",
       "      <td>2369.37</td>\n",
       "      <td>3277.94</td>\n",
       "      <td>2005</td>\n",
       "      <td>Y</td>\n",
       "      <td>48.298049</td>\n",
       "      <td>-116.546132</td>\n",
       "      <td>Y</td>\n",
       "      <td>http://www.laughingdogbrewing.com/</td>\n",
       "    </tr>\n",
       "    <tr>\n",
       "      <th>11</th>\n",
       "      <td>hGFVYy</td>\n",
       "      <td>Miller Brewing Company</td>\n",
       "      <td>Milwaukee</td>\n",
       "      <td>US</td>\n",
       "      <td>132.339</td>\n",
       "      <td>1010.47</td>\n",
       "      <td>1885</td>\n",
       "      <td>Y</td>\n",
       "      <td>43.043783</td>\n",
       "      <td>-87.962092</td>\n",
       "      <td>Y</td>\n",
       "      <td>http://www.millercoors.com/</td>\n",
       "    </tr>\n",
       "    <tr>\n",
       "      <th>12</th>\n",
       "      <td>AqEUBQ</td>\n",
       "      <td>New Holland Brewing Company</td>\n",
       "      <td>Holland</td>\n",
       "      <td>US</td>\n",
       "      <td>161.457</td>\n",
       "      <td>856.212</td>\n",
       "      <td>1996</td>\n",
       "      <td>Y</td>\n",
       "      <td>42.790024</td>\n",
       "      <td>-86.104195</td>\n",
       "      <td>N</td>\n",
       "      <td>http://newhollandbrew.com/</td>\n",
       "    </tr>\n",
       "    <tr>\n",
       "      <th>13</th>\n",
       "      <td>q6vJUK</td>\n",
       "      <td>Oskar Blues Brewery</td>\n",
       "      <td>Longmont</td>\n",
       "      <td>US</td>\n",
       "      <td>1481.57</td>\n",
       "      <td>2444.9</td>\n",
       "      <td>1997</td>\n",
       "      <td>Y</td>\n",
       "      <td>40.138997</td>\n",
       "      <td>-105.122742</td>\n",
       "      <td>Y</td>\n",
       "      <td>http://www.oskarblues.com/</td>\n",
       "    </tr>\n",
       "    <tr>\n",
       "      <th>14</th>\n",
       "      <td>4F7QA9</td>\n",
       "      <td>Portsmouth Brewery</td>\n",
       "      <td>Portsmouth</td>\n",
       "      <td>US</td>\n",
       "      <td>1391.38</td>\n",
       "      <td>523.616</td>\n",
       "      <td>1991</td>\n",
       "      <td>Y</td>\n",
       "      <td>43.078007</td>\n",
       "      <td>-70.757598</td>\n",
       "      <td>Y</td>\n",
       "      <td>http://www.portsmouthbrewery.com/</td>\n",
       "    </tr>\n",
       "    <tr>\n",
       "      <th>15</th>\n",
       "      <td>nHLlnK</td>\n",
       "      <td>Sierra Nevada Brewing Company</td>\n",
       "      <td>Chico</td>\n",
       "      <td>US</td>\n",
       "      <td>2875.65</td>\n",
       "      <td>3841.11</td>\n",
       "      <td>1980</td>\n",
       "      <td>Y</td>\n",
       "      <td>39.724603</td>\n",
       "      <td>-121.815715</td>\n",
       "      <td>Y</td>\n",
       "      <td>http://www.sierranevada.com/</td>\n",
       "    </tr>\n",
       "    <tr>\n",
       "      <th>16</th>\n",
       "      <td>TMc6H2</td>\n",
       "      <td>SweetWater Brewing Company</td>\n",
       "      <td>Atlanta</td>\n",
       "      <td>US</td>\n",
       "      <td>940.047</td>\n",
       "      <td>1052.61</td>\n",
       "      <td>1997</td>\n",
       "      <td>Y</td>\n",
       "      <td>33.808102</td>\n",
       "      <td>-84.381190</td>\n",
       "      <td>Y</td>\n",
       "      <td>http://www.sweetwaterbrew.com/</td>\n",
       "    </tr>\n",
       "    <tr>\n",
       "      <th>17</th>\n",
       "      <td>DifSi4</td>\n",
       "      <td>Wachusett Brewing Company</td>\n",
       "      <td>Westminster</td>\n",
       "      <td>US</td>\n",
       "      <td>1301.49</td>\n",
       "      <td>416.055</td>\n",
       "      <td>1994</td>\n",
       "      <td>Y</td>\n",
       "      <td>42.558417</td>\n",
       "      <td>-71.870781</td>\n",
       "      <td>Y</td>\n",
       "      <td>http://www.wachusettbrew.com/</td>\n",
       "    </tr>\n",
       "    <tr>\n",
       "      <th>18</th>\n",
       "      <td>VEY3Xa</td>\n",
       "      <td>Zero Gravity Craft Brewery</td>\n",
       "      <td>Burlington</td>\n",
       "      <td>US</td>\n",
       "      <td>1205.09</td>\n",
       "      <td>485.398</td>\n",
       "      <td>2004</td>\n",
       "      <td>Y</td>\n",
       "      <td>44.459639</td>\n",
       "      <td>-73.213735</td>\n",
       "      <td>Y</td>\n",
       "      <td>http://www.zerogravitybeer.com/</td>\n",
       "    </tr>\n",
       "  </tbody>\n",
       "</table>\n",
       "</div>"
      ],
      "text/plain": [
       "   Brewery ID                   Brewery Name          City Country  \\\n",
       "0      BznahA           Anheuser-Busch InBev   Saint Louis      US   \n",
       "2      IImUD9           Breckenridge Brewery        Denver      US   \n",
       "3      uM2jeT             Brouwerij De Leite  Ruddervoorde      BE   \n",
       "4      p3YrOa            Dock Street Brewery   West Philly      US   \n",
       "5      HaPdSL                       Guinness   Dublin City      IE   \n",
       "7      p1tFbP      Jackalope Brewing Company     Nashville      US   \n",
       "8      nLsoQ9      Lagunitas Brewing Company      Petaluma      US   \n",
       "9      941OaA              Last Name Brewing        Upland      US   \n",
       "10     yX6twV           Laughing Dog Brewing      Ponderay      US   \n",
       "11     hGFVYy         Miller Brewing Company     Milwaukee      US   \n",
       "12     AqEUBQ    New Holland Brewing Company       Holland      US   \n",
       "13     q6vJUK            Oskar Blues Brewery      Longmont      US   \n",
       "14     4F7QA9             Portsmouth Brewery    Portsmouth      US   \n",
       "15     nHLlnK  Sierra Nevada Brewing Company         Chico      US   \n",
       "16     TMc6H2     SweetWater Brewing Company       Atlanta      US   \n",
       "17     DifSi4      Wachusett Brewing Company   Westminster      US   \n",
       "18     VEY3Xa     Zero Gravity Craft Brewery    Burlington      US   \n",
       "\n",
       "   Distance from Chicago (km) Distance from Pottsville (km)  Established Date  \\\n",
       "0                     425.153                       1223.63              1852   \n",
       "2                     1482.63                       2443.76              1990   \n",
       "3                     6596.86                          5965              2008   \n",
       "4                     1065.96                       116.384              1985   \n",
       "5                     5904.55                       5270.41              1759   \n",
       "7                     640.109                       1051.46              2011   \n",
       "8                     2993.93                       3960.21              1993   \n",
       "9                     2761.24                       3710.58              2003   \n",
       "10                    2369.37                       3277.94              2005   \n",
       "11                    132.339                       1010.47              1885   \n",
       "12                    161.457                       856.212              1996   \n",
       "13                    1481.57                        2444.9              1997   \n",
       "14                    1391.38                       523.616              1991   \n",
       "15                    2875.65                       3841.11              1980   \n",
       "16                    940.047                       1052.61              1997   \n",
       "17                    1301.49                       416.055              1994   \n",
       "18                    1205.09                       485.398              2004   \n",
       "\n",
       "   Is in business?   Latitude   Longitude Primary Location  \\\n",
       "0                Y  38.598504  -90.209343                Y   \n",
       "2                Y  39.723668 -105.000602                Y   \n",
       "3                Y  51.104930    3.221300                Y   \n",
       "4                Y  39.947796  -75.222931                Y   \n",
       "5                Y  53.343090   -6.290799                Y   \n",
       "7                Y  36.150375  -86.779494                Y   \n",
       "8                Y  38.272435 -122.662346                N   \n",
       "9                Y  34.109185 -117.690934                Y   \n",
       "10               Y  48.298049 -116.546132                Y   \n",
       "11               Y  43.043783  -87.962092                Y   \n",
       "12               Y  42.790024  -86.104195                N   \n",
       "13               Y  40.138997 -105.122742                Y   \n",
       "14               Y  43.078007  -70.757598                Y   \n",
       "15               Y  39.724603 -121.815715                Y   \n",
       "16               Y  33.808102  -84.381190                Y   \n",
       "17               Y  42.558417  -71.870781                Y   \n",
       "18               Y  44.459639  -73.213735                Y   \n",
       "\n",
       "                               Website  \n",
       "0       http://www.anheuser-busch.com/  \n",
       "2            http://www.breckbrew.com/  \n",
       "3               http://www.deleite.be/  \n",
       "4        http://www.dockstreetbeer.com  \n",
       "5             http://www.guinness.com/  \n",
       "7        http://www.jackalopebrew.com/  \n",
       "8            http://www.lagunitas.com/  \n",
       "9      http://www.lastnamebrewing.com/  \n",
       "10  http://www.laughingdogbrewing.com/  \n",
       "11         http://www.millercoors.com/  \n",
       "12          http://newhollandbrew.com/  \n",
       "13          http://www.oskarblues.com/  \n",
       "14   http://www.portsmouthbrewery.com/  \n",
       "15        http://www.sierranevada.com/  \n",
       "16      http://www.sweetwaterbrew.com/  \n",
       "17       http://www.wachusettbrew.com/  \n",
       "18     http://www.zerogravitybeer.com/  "
      ]
     },
     "execution_count": 7,
     "metadata": {},
     "output_type": "execute_result"
    }
   ],
   "source": [
    "brewery_df = brewery_df.drop_duplicates(subset=['Brewery ID'], keep='first')\n",
    "\n",
    "brewery_df"
   ]
  },
  {
   "cell_type": "code",
   "execution_count": 8,
   "metadata": {},
   "outputs": [],
   "source": [
    "brewery_df.to_csv(\"brewery_data.csv\", encoding=\"utf-8\", index=False)"
   ]
  },
  {
   "cell_type": "markdown",
   "metadata": {},
   "source": [
    "# Figures"
   ]
  },
  {
   "cell_type": "markdown",
   "metadata": {},
   "source": [
    "- I expect a greater number of older breweries closer to Chicago, given that some of the first instances of brewing in America occured here.\n",
    "- With such few breweries available for free (boo sandbox), the scatter plot looks a little sparse. However, the general trend gives us preliminary data that shows that there may be a coorlation! If I wanted to do more with this, this would be good enough to convince me to splurge the $20 for full access\n",
    "\n",
    "- plot for Pottsville is just for fun"
   ]
  },
  {
   "cell_type": "code",
   "execution_count": 9,
   "metadata": {},
   "outputs": [
    {
     "data": {
      "image/png": "[encoded data removed]",
      "text/plain": [
       "<Figure size 432x288 with 1 Axes>"
      ]
     },
     "metadata": {
      "needs_background": "light"
     },
     "output_type": "display_data"
    }
   ],
   "source": [
    "#Chicago\n",
    "plt.scatter(brewery_df['Distance from Chicago (km)'], brewery_df['Established Date'], alpha=0.5, edgecolor ='black', color=\"blue\",s=100)\n",
    "\n",
    "#Chart elements\n",
    "plt.title(f\"Distance from Chicago vs. Established Year\")\n",
    "plt.xlabel('Distance from Chicago (km)')\n",
    "plt.ylabel('Established Year')\n",
    "plt.grid(True)\n",
    "\n",
    "#Save and print\n",
    "plt.savefig(\"Distance from Chicago vs. Established Year.png\")\n",
    "plt.show()"
   ]
  },
  {
   "cell_type": "code",
   "execution_count": 10,
   "metadata": {},
   "outputs": [
    {
     "data": {
      "image/png": "[encoded data removed]",
      "text/plain": [
       "<Figure size 432x288 with 1 Axes>"
      ]
     },
     "metadata": {
      "needs_background": "light"
     },
     "output_type": "display_data"
    }
   ],
   "source": [
    "#Pottsville\n",
    "plt.scatter(brewery_df['Distance from Pottsville (km)'], brewery_df['Established Date'], alpha=0.5, edgecolor ='black', color=\"red\",s=100)\n",
    "\n",
    "#Chart elements\n",
    "plt.title(f\"Distance from Pottsville vs. Established Year\")\n",
    "plt.xlabel('Distance from Pottsville (km)')\n",
    "plt.ylabel('Established Year')\n",
    "plt.grid(True)\n",
    "\n",
    "#Save and print\n",
    "plt.savefig(\"Distance from Pottsville vs. Established Year.png\")\n",
    "plt.show()"
   ]
  },
  {
   "cell_type": "code",
   "execution_count": 11,
   "metadata": {},
   "outputs": [
    {
     "data": {
      "image/png": "[encoded data removed]",
      "text/plain": [
       "<Figure size 432x288 with 1 Axes>"
      ]
     },
     "metadata": {
      "needs_background": "light"
     },
     "output_type": "display_data"
    }
   ],
   "source": [
    "#Empty Plot\n",
    "plt.scatter(brewery_df['Distance from Chicago (km)'], brewery_df['Established Date'], alpha=0.5, edgecolor ='none', color=\"none\",s=100)\n",
    "\n",
    "#Chart elements\n",
    "plt.title(f\"Distance from Chicago vs. Established Year\")\n",
    "plt.xlabel('Distance from Chicago (km)')\n",
    "plt.ylabel('Established Year')\n",
    "plt.grid(True)\n",
    "\n",
    "#Save and print\n",
    "plt.savefig(\"Empty plot.png\")\n",
    "plt.show()"
   ]
  },
  {
   "cell_type": "code",
   "execution_count": null,
   "metadata": {},
   "outputs": [],
   "source": []
  }
 ],
 "metadata": {
  "kernelspec": {
   "display_name": "Python 3",
   "language": "python",
   "name": "python3"
  },
  "language_info": {
   "codemirror_mode": {
    "name": "ipython",
    "version": 3
   },
   "file_extension": ".py",
   "mimetype": "text/x-python",
   "name": "python",
   "nbconvert_exporter": "python",
   "pygments_lexer": "ipython3",
   "version": "3.7.0"
  }
 },
 "nbformat": 4,
 "nbformat_minor": 2
}
