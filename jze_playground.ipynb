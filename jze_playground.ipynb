{
 "cells": [
  {
   "cell_type": "code",
   "execution_count": 3,
   "metadata": {},
   "outputs": [
    {
     "name": "stdout",
     "output_type": "stream",
     "text": [
      "Collecting pybrewerydb\n",
      "  Downloading https://files.pythonhosted.org/packages/ed/58/e4ab59785f62cf7d0333d4ade7d246804d48202c1a47625ef821d81f7bc1/pybrewerydb-0.1.4.tar.gz\n",
      "Requirement already satisfied: requests in c:\\users\\norfe\\anaconda3\\lib\\site-packages (from pybrewerydb) (2.18.4)\n",
      "Requirement already satisfied: chardet<3.1.0,>=3.0.2 in c:\\users\\norfe\\anaconda3\\lib\\site-packages (from requests->pybrewerydb) (3.0.4)\n",
      "Requirement already satisfied: idna<2.7,>=2.5 in c:\\users\\norfe\\anaconda3\\lib\\site-packages (from requests->pybrewerydb) (2.6)\n",
      "Requirement already satisfied: urllib3<1.23,>=1.21.1 in c:\\users\\norfe\\anaconda3\\lib\\site-packages (from requests->pybrewerydb) (1.22)\n",
      "Requirement already satisfied: certifi>=2017.4.17 in c:\\users\\norfe\\anaconda3\\lib\\site-packages (from requests->pybrewerydb) (2018.4.16)\n",
      "Building wheels for collected packages: pybrewerydb\n",
      "  Running setup.py bdist_wheel for pybrewerydb: started\n",
      "  Running setup.py bdist_wheel for pybrewerydb: finished with status 'done'\n",
      "  Stored in directory: C:\\Users\\norfe\\AppData\\Local\\pip\\Cache\\wheels\\e1\\2b\\d5\\86cc83607b874146a8150da875db5bc98009895a9eb7f4b24d\n",
      "Successfully built pybrewerydb\n",
      "Installing collected packages: pybrewerydb\n",
      "Successfully installed pybrewerydb-0.1.4\n"
     ]
    }
   ],
   "source": [
    "#!pip install  pybrewerydb"
   ]
  },
  {
   "cell_type": "code",
   "execution_count": 29,
   "metadata": {},
   "outputs": [],
   "source": [
    "from config import api_key\n",
    "import pandas as pd\n",
    "import numpy as np\n",
    "import requests \n",
    "import brewerydb as br\n",
    "url = 'https://sandbox-api.brewerydb.com/v2/beers'\n",
    "query_url = f\"{url}/?key={api_key}?withBreweries=Y\""
   ]
  },
  {
   "cell_type": "code",
   "execution_count": 30,
   "metadata": {},
   "outputs": [],
   "source": [
    "d = requests.get(query_url)\n"
   ]
  },
  {
   "cell_type": "code",
   "execution_count": 31,
   "metadata": {},
   "outputs": [
    {
     "data": {
      "text/plain": [
       "{'errorMessage': 'API key could not be found', 'status': 'failure'}"
      ]
     },
     "execution_count": 31,
     "metadata": {},
     "output_type": "execute_result"
    }
   ],
   "source": [
    "d.json()\n"
   ]
  },
  {
   "cell_type": "code",
   "execution_count": 6,
   "metadata": {},
   "outputs": [
    {
     "ename": "AttributeError",
     "evalue": "module 'requests' has no attribute 'beers'",
     "output_type": "error",
     "traceback": [
      "\u001b[1;31m---------------------------------------------------------------------------\u001b[0m",
      "\u001b[1;31mAttributeError\u001b[0m                            Traceback (most recent call last)",
      "\u001b[1;32m<ipython-input-6-7ae0be415b6a>\u001b[0m in \u001b[0;36m<module>\u001b[1;34m()\u001b[0m\n\u001b[1;32m----> 1\u001b[1;33m \u001b[0mbr\u001b[0m\u001b[1;33m.\u001b[0m\u001b[0mbeers\u001b[0m\u001b[1;33m(\u001b[0m\u001b[1;33m)\u001b[0m\u001b[1;33m\u001b[0m\u001b[0m\n\u001b[0m",
      "\u001b[1;31mAttributeError\u001b[0m: module 'requests' has no attribute 'beers'"
     ]
    }
   ],
   "source": [
    "br.beers()"
   ]
  },
  {
   "cell_type": "code",
   "execution_count": 38,
   "metadata": {},
   "outputs": [],
   "source": [
    "brew_api = BreweryDB(api_key)\n",
    "#beers = brew_api.search_beer('fat tire')"
   ]
  },
  {
   "cell_type": "code",
   "execution_count": 47,
   "metadata": {},
   "outputs": [
    {
     "ename": "NameError",
     "evalue": "name 'self' is not defined",
     "output_type": "error",
     "traceback": [
      "\u001b[1;31m---------------------------------------------------------------------------\u001b[0m",
      "\u001b[1;31mNameError\u001b[0m                                 Traceback (most recent call last)",
      "\u001b[1;32m<ipython-input-47-2312c1158edb>\u001b[0m in \u001b[0;36m<module>\u001b[1;34m()\u001b[0m\n\u001b[1;32m----> 1\u001b[1;33m \u001b[0mhelp\u001b[0m\u001b[1;33m(\u001b[0m\u001b[0mtype\u001b[0m\u001b[1;33m(\u001b[0m\u001b[0mself\u001b[0m\u001b[1;33m)\u001b[0m\u001b[1;33m)\u001b[0m\u001b[1;33m\u001b[0m\u001b[0m\n\u001b[0m",
      "\u001b[1;31mNameError\u001b[0m: name 'self' is not defined"
     ]
    }
   ],
   "source": [
    "help(type(self))"
   ]
  },
  {
   "cell_type": "code",
   "execution_count": 52,
   "metadata": {},
   "outputs": [
    {
     "name": "stdout",
     "output_type": "stream",
     "text": [
      "Help on function search_beer in module brewerydb.brewerydb:\n",
      "\n",
      "search_beer(self, beer_name)\n",
      "    Search the BreweryDB for a beer.  Returns a\n",
      "    list of Beer objects.\n",
      "    \n",
      "    get /beers/\n",
      "    \n",
      "    :param beer_name: Query of the beer to search for\n",
      "    :type params: string\n",
      "    \n",
      "    :returns:  List of Beer objects\n",
      "\n"
     ]
    }
   ],
   "source": [
    "help(BreweryDB.search_beer)"
   ]
  },
  {
   "cell_type": "code",
   "execution_count": null,
   "metadata": {},
   "outputs": [],
   "source": []
  }
 ],
 "metadata": {
  "kernelspec": {
   "display_name": "Python 3",
   "language": "python",
   "name": "python3"
  },
  "language_info": {
   "codemirror_mode": {
    "name": "ipython",
    "version": 3
   },
   "file_extension": ".py",
   "mimetype": "text/x-python",
   "name": "python",
   "nbconvert_exporter": "python",
   "pygments_lexer": "ipython3",
   "version": "3.6.5"
  }
 },
 "nbformat": 4,
 "nbformat_minor": 2
}
