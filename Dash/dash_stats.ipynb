{
 "cells": [
  {
   "cell_type": "code",
   "execution_count": 1,
   "metadata": {},
   "outputs": [],
   "source": [
    "import plotly.plotly as py\n",
    "from plotly.graph_objs import *\n",
    "import plotly\n",
    "plotly.tools.set_credentials_file(username='ayang2012', api_key='fNaM0lgdr7BXqbJMRPU4')\n",
    "\n",
    "import numpy as np\n",
    "import pandas as pd"
   ]
  },
  {
   "cell_type": "code",
   "execution_count": 2,
   "metadata": {
    "scrolled": false
   },
   "outputs": [
    {
     "data": {
      "text/html": [
       "<div>\n",
       "<style scoped>\n",
       "    .dataframe tbody tr th:only-of-type {\n",
       "        vertical-align: middle;\n",
       "    }\n",
       "\n",
       "    .dataframe tbody tr th {\n",
       "        vertical-align: top;\n",
       "    }\n",
       "\n",
       "    .dataframe thead th {\n",
       "        text-align: right;\n",
       "    }\n",
       "</style>\n",
       "<table border=\"1\" class=\"dataframe\">\n",
       "  <thead>\n",
       "    <tr style=\"text-align: right;\">\n",
       "      <th></th>\n",
       "      <th>Unnamed: 0</th>\n",
       "      <th>style_id</th>\n",
       "      <th>Super Style</th>\n",
       "      <th>Style</th>\n",
       "      <th>Unnamed: 0.1</th>\n",
       "      <th>beer_id</th>\n",
       "      <th>name</th>\n",
       "      <th>display_name</th>\n",
       "      <th>abv</th>\n",
       "      <th>year</th>\n",
       "      <th>glass_id</th>\n",
       "      <th>organic</th>\n",
       "      <th>brewery_id</th>\n",
       "      <th>retired</th>\n",
       "      <th>status</th>\n",
       "    </tr>\n",
       "  </thead>\n",
       "  <tbody>\n",
       "    <tr>\n",
       "      <th>0</th>\n",
       "      <td>0</td>\n",
       "      <td>1.0</td>\n",
       "      <td>British Origin Ales</td>\n",
       "      <td>Classic English-Style Pale Ale</td>\n",
       "      <td>113.0</td>\n",
       "      <td>ZK2Swv</td>\n",
       "      <td>Beer Camp: Atlantic-Style Vintage Ale</td>\n",
       "      <td>Beer Camp: Atlantic-Style Vintage Ale (2017)</td>\n",
       "      <td>8.5</td>\n",
       "      <td>2017.0</td>\n",
       "      <td>NaN</td>\n",
       "      <td>N</td>\n",
       "      <td>nHLlnK</td>\n",
       "      <td>N</td>\n",
       "      <td>verified</td>\n",
       "    </tr>\n",
       "    <tr>\n",
       "      <th>1</th>\n",
       "      <td>1</td>\n",
       "      <td>1.0</td>\n",
       "      <td>British Origin Ales</td>\n",
       "      <td>Classic English-Style Pale Ale</td>\n",
       "      <td>466.0</td>\n",
       "      <td>ZVmIsO</td>\n",
       "      <td>Golden Flash</td>\n",
       "      <td>Golden Flash</td>\n",
       "      <td>5.7</td>\n",
       "      <td>NaN</td>\n",
       "      <td>NaN</td>\n",
       "      <td>N</td>\n",
       "      <td>AqEUBQ</td>\n",
       "      <td>N</td>\n",
       "      <td>verified</td>\n",
       "    </tr>\n",
       "    <tr>\n",
       "      <th>2</th>\n",
       "      <td>2</td>\n",
       "      <td>1.0</td>\n",
       "      <td>British Origin Ales</td>\n",
       "      <td>Classic English-Style Pale Ale</td>\n",
       "      <td>732.0</td>\n",
       "      <td>zdjQs9</td>\n",
       "      <td>Northdown</td>\n",
       "      <td>Northdown</td>\n",
       "      <td>4.1</td>\n",
       "      <td>NaN</td>\n",
       "      <td>NaN</td>\n",
       "      <td>N</td>\n",
       "      <td>VEY3Xa</td>\n",
       "      <td>N</td>\n",
       "      <td>verified</td>\n",
       "    </tr>\n",
       "    <tr>\n",
       "      <th>3</th>\n",
       "      <td>3</td>\n",
       "      <td>2.0</td>\n",
       "      <td>British Origin Ales</td>\n",
       "      <td>English-Style India Pale Ale</td>\n",
       "      <td>447.0</td>\n",
       "      <td>UFPFnA</td>\n",
       "      <td>Fusion 36: London Confusion</td>\n",
       "      <td>Fusion 36: London Confusion</td>\n",
       "      <td>6.5</td>\n",
       "      <td>NaN</td>\n",
       "      <td>NaN</td>\n",
       "      <td>N</td>\n",
       "      <td>nLsoQ9</td>\n",
       "      <td>N</td>\n",
       "      <td>verified</td>\n",
       "    </tr>\n",
       "    <tr>\n",
       "      <th>4</th>\n",
       "      <td>4</td>\n",
       "      <td>2.0</td>\n",
       "      <td>British Origin Ales</td>\n",
       "      <td>English-Style India Pale Ale</td>\n",
       "      <td>1083.0</td>\n",
       "      <td>655f2d</td>\n",
       "      <td>Wicket IPA</td>\n",
       "      <td>Wicket IPA</td>\n",
       "      <td>5.4</td>\n",
       "      <td>NaN</td>\n",
       "      <td>NaN</td>\n",
       "      <td>N</td>\n",
       "      <td>VEY3Xa</td>\n",
       "      <td>N</td>\n",
       "      <td>verified</td>\n",
       "    </tr>\n",
       "  </tbody>\n",
       "</table>\n",
       "</div>"
      ],
      "text/plain": [
       "   Unnamed: 0  style_id          Super Style                           Style  \\\n",
       "0           0       1.0  British Origin Ales  Classic English-Style Pale Ale   \n",
       "1           1       1.0  British Origin Ales  Classic English-Style Pale Ale   \n",
       "2           2       1.0  British Origin Ales  Classic English-Style Pale Ale   \n",
       "3           3       2.0  British Origin Ales    English-Style India Pale Ale   \n",
       "4           4       2.0  British Origin Ales    English-Style India Pale Ale   \n",
       "\n",
       "   Unnamed: 0.1 beer_id                                   name  \\\n",
       "0         113.0  ZK2Swv  Beer Camp: Atlantic-Style Vintage Ale   \n",
       "1         466.0  ZVmIsO                           Golden Flash   \n",
       "2         732.0  zdjQs9                              Northdown   \n",
       "3         447.0  UFPFnA            Fusion 36: London Confusion   \n",
       "4        1083.0  655f2d                             Wicket IPA   \n",
       "\n",
       "                                   display_name  abv    year  glass_id  \\\n",
       "0  Beer Camp: Atlantic-Style Vintage Ale (2017)  8.5  2017.0       NaN   \n",
       "1                                  Golden Flash  5.7     NaN       NaN   \n",
       "2                                     Northdown  4.1     NaN       NaN   \n",
       "3                   Fusion 36: London Confusion  6.5     NaN       NaN   \n",
       "4                                    Wicket IPA  5.4     NaN       NaN   \n",
       "\n",
       "  organic brewery_id retired    status  \n",
       "0       N     nHLlnK       N  verified  \n",
       "1       N     AqEUBQ       N  verified  \n",
       "2       N     VEY3Xa       N  verified  \n",
       "3       N     nLsoQ9       N  verified  \n",
       "4       N     VEY3Xa       N  verified  "
      ]
     },
     "execution_count": 2,
     "metadata": {},
     "output_type": "execute_result"
    }
   ],
   "source": [
    "df = pd.read_csv(\"../data/style_plus_beer.csv\")\n",
    "df.head()"
   ]
  },
  {
   "cell_type": "code",
   "execution_count": 3,
   "metadata": {},
   "outputs": [],
   "source": [
    "df_style_abv = df[['Super Style', 'abv']]"
   ]
  },
  {
   "cell_type": "code",
   "execution_count": 4,
   "metadata": {},
   "outputs": [
    {
     "data": {
      "text/plain": [
       "Super Style    0.0\n",
       "abv            0.0\n",
       "dtype: float64"
      ]
     },
     "execution_count": 4,
     "metadata": {},
     "output_type": "execute_result"
    }
   ],
   "source": [
    "df_style_abv['Super Style'].unique()\n",
    "df_style_abv['Super Style'].value_counts()\n",
    "df_style_abv[df_style_abv['Super Style'] == None].sum()"
   ]
  },
  {
   "cell_type": "code",
   "execution_count": 5,
   "metadata": {},
   "outputs": [],
   "source": [
    "British_Origin_Ales = df_style_abv[df_style_abv['Super Style'] == 'British Origin Ales']\n",
    "Irish_Origin_Ales = df_style_abv[df_style_abv['Super Style'] == 'Irish Origin Ales']\n",
    "North_American_Origin_Ales = df_style_abv[df_style_abv['Super Style'] == 'North American Origin Ales']\n",
    "Hybrid_mixed_Beer = df_style_abv[df_style_abv['Super Style'] == 'Hybrid/mixed Beer']\n",
    "German_Origin_Ales = df_style_abv[df_style_abv['Super Style'] == 'German Origin Ales']\n",
    "Belgian_And_French_Origin_Ales = df_style_abv[df_style_abv['Super Style'] == 'Belgian And French Origin Ales']\n",
    "International_Ale_Styles = df_style_abv[df_style_abv['Super Style'] == 'International Ale Styles']\n",
    "European_germanic_Lager = df_style_abv[df_style_abv['Super Style'] == 'European-germanic Lager']\n",
    "North_American_Lager = df_style_abv[df_style_abv['Super Style'] == 'North American Lager']\n",
    "Other_Lager = df_style_abv[df_style_abv['Super Style'] == 'Other Lager']\n",
    "International_Styles = df_style_abv[df_style_abv['Super Style'] == 'International Styles']\n",
    "Mead_Cider_Perry = df_style_abv[df_style_abv['Super Style'] == 'Mead, Cider, & Perry']\n",
    "Other_Origin = df_style_abv[df_style_abv['Super Style'] == 'Other Origin']\n",
    "Malternative_Beverages = df_style_abv[df_style_abv['Super Style'] == 'Malternative Beverages']"
   ]
  },
  {
   "cell_type": "code",
   "execution_count": 6,
   "metadata": {},
   "outputs": [],
   "source": [
    "colors = ['#1f77b4', '#aec7e8', '#ff7f0e', '#ffbb78', '#2ca02c', '#98df8a', '#d62728', '#ff9896', '#9467bd', '#c5b0d5', '#8c564b', '#c49c94', '#e377c2', '#f7b6d2', '#7f7f7f', '#c7c7c7', '#bcbd22', '#dbdb8d', '#17becf', '#9edae5', '#8dd3c7', '#ffffb3', '#bebada', '#fb8072', '#80b1d3', '#fdb462', '#b3de69', '#fccde5', '#d9d9d9', '#bc80bd', '#ccebc5', '#ffed6f', '#e41a1c', '#377eb8', '#4daf4a', '#984ea3', '#ff7f00', '#ffff33', '#a65628', '#f781bf', '#999999', '#621e15', '#e59076', '#128dcd', '#083c52', '#64c5f2', '#61afaf', '#0f7369', '#9c9da1', '#365e96', '#983334', '#77973d', '#5d437c', '#36869f', '#d1702f', '#8197c5', '#c47f80', '#acc484', '#9887b0', '#2d588a', '#58954c', '#e9a044', '#c12f32', '#723e77', '#7d807f', '#9c9ede', '#7375b5', '#4a5584', '#cedb9c', '#b5cf6b', '#8ca252', '#637939', '#e7cb94', '#e7ba52', '#bd9e39', '#8c6d31', '#e7969c', '#d6616b', '#ad494a', '#843c39', '#de9ed6', '#ce6dbd', '#a55194', '#7b4173', '#000000', '#0000FF']"
   ]
  },
  {
   "cell_type": "code",
   "execution_count": 19,
   "metadata": {},
   "outputs": [
    {
     "data": {
      "text/html": [
       "<iframe id=\"igraph\" scrolling=\"no\" style=\"border:none;\" seamless=\"seamless\" src=\"https://plot.ly/~ayang2012/4.embed\" height=\"525px\" width=\"100%\"></iframe>"
      ],
      "text/plain": [
       "<plotly.tools.PlotlyDisplay object>"
      ]
     },
     "execution_count": 19,
     "metadata": {},
     "output_type": "execute_result"
    }
   ],
   "source": [
    "data = []\n",
    "# plot the actual labels\n",
    "c=0\n",
    "for i in df_style_abv['Super Style'].unique():\n",
    "    #split up the clusters to visualize and extract sepal length and width\n",
    "    df = df_style_abv[df_style_abv['Super Style'] == i]\n",
    "    data.append({\n",
    "        'x': df['abv'],\n",
    "        'type': 'histogram',\n",
    "        'name':i,\n",
    "        'xbins': dict(\n",
    "            start=0,\n",
    "            end=16,\n",
    "            size=1),\n",
    "        'marker': dict(\n",
    "            color = colors[c],\n",
    "            opacity=0.5\n",
    "        )\n",
    "    })\n",
    "    c +=1\n",
    "layout = {\n",
    "    'hovermode':'closest',\n",
    "    'barmode':'overlay',\n",
    "    'margin': {\n",
    "        'r':10,\n",
    "        't':25,\n",
    "        'b':40,\n",
    "        'l':60\n",
    "    },\n",
    "    'title': 'Comparing ABV of Beer Styles',\n",
    "    'xaxis': {\n",
    "        #'domain': [0,1],\n",
    "        'title': 'ABV'\n",
    "    },\n",
    "    'yaxis': {\n",
    "        #'domain': [0,1],\n",
    "        'title': 'Count'\n",
    "    }\n",
    "}\n",
    "\n",
    "fig = Figure(data=data, layout=layout)\n",
    "py.iplot(fig, filename=\"beer-type-stats\")"
   ]
  },
  {
   "cell_type": "code",
   "execution_count": 20,
   "metadata": {},
   "outputs": [],
   "source": [
    "from scipy.stats import chisquare"
   ]
  },
  {
   "cell_type": "code",
   "execution_count": 21,
   "metadata": {},
   "outputs": [
    {
     "name": "stdout",
     "output_type": "stream",
     "text": [
      "Help on function chisquare in module scipy.stats.stats:\n",
      "\n",
      "chisquare(f_obs, f_exp=None, ddof=0, axis=0)\n",
      "    Calculate a one-way chi square test.\n",
      "    \n",
      "    The chi square test tests the null hypothesis that the categorical data\n",
      "    has the given frequencies.\n",
      "    \n",
      "    Parameters\n",
      "    ----------\n",
      "    f_obs : array_like\n",
      "        Observed frequencies in each category.\n",
      "    f_exp : array_like, optional\n",
      "        Expected frequencies in each category.  By default the categories are\n",
      "        assumed to be equally likely.\n",
      "    ddof : int, optional\n",
      "        \"Delta degrees of freedom\": adjustment to the degrees of freedom\n",
      "        for the p-value.  The p-value is computed using a chi-squared\n",
      "        distribution with ``k - 1 - ddof`` degrees of freedom, where `k`\n",
      "        is the number of observed frequencies.  The default value of `ddof`\n",
      "        is 0.\n",
      "    axis : int or None, optional\n",
      "        The axis of the broadcast result of `f_obs` and `f_exp` along which to\n",
      "        apply the test.  If axis is None, all values in `f_obs` are treated\n",
      "        as a single data set.  Default is 0.\n",
      "    \n",
      "    Returns\n",
      "    -------\n",
      "    chisq : float or ndarray\n",
      "        The chi-squared test statistic.  The value is a float if `axis` is\n",
      "        None or `f_obs` and `f_exp` are 1-D.\n",
      "    p : float or ndarray\n",
      "        The p-value of the test.  The value is a float if `ddof` and the\n",
      "        return value `chisq` are scalars.\n",
      "    \n",
      "    See Also\n",
      "    --------\n",
      "    power_divergence\n",
      "    mstats.chisquare\n",
      "    \n",
      "    Notes\n",
      "    -----\n",
      "    This test is invalid when the observed or expected frequencies in each\n",
      "    category are too small.  A typical rule is that all of the observed\n",
      "    and expected frequencies should be at least 5.\n",
      "    \n",
      "    The default degrees of freedom, k-1, are for the case when no parameters\n",
      "    of the distribution are estimated. If p parameters are estimated by\n",
      "    efficient maximum likelihood then the correct degrees of freedom are\n",
      "    k-1-p. If the parameters are estimated in a different way, then the\n",
      "    dof can be between k-1-p and k-1. However, it is also possible that\n",
      "    the asymptotic distribution is not a chisquare, in which case this\n",
      "    test is not appropriate.\n",
      "    \n",
      "    References\n",
      "    ----------\n",
      "    .. [1] Lowry, Richard.  \"Concepts and Applications of Inferential\n",
      "           Statistics\". Chapter 8. http://faculty.vassar.edu/lowry/ch8pt1.html\n",
      "    .. [2] \"Chi-squared test\", http://en.wikipedia.org/wiki/Chi-squared_test\n",
      "    \n",
      "    Examples\n",
      "    --------\n",
      "    When just `f_obs` is given, it is assumed that the expected frequencies\n",
      "    are uniform and given by the mean of the observed frequencies.\n",
      "    \n",
      "    >>> from scipy.stats import chisquare\n",
      "    >>> chisquare([16, 18, 16, 14, 12, 12])\n",
      "    (2.0, 0.84914503608460956)\n",
      "    \n",
      "    With `f_exp` the expected frequencies can be given.\n",
      "    \n",
      "    >>> chisquare([16, 18, 16, 14, 12, 12], f_exp=[16, 16, 16, 16, 16, 8])\n",
      "    (3.5, 0.62338762774958223)\n",
      "    \n",
      "    When `f_obs` is 2-D, by default the test is applied to each column.\n",
      "    \n",
      "    >>> obs = np.array([[16, 18, 16, 14, 12, 12], [32, 24, 16, 28, 20, 24]]).T\n",
      "    >>> obs.shape\n",
      "    (6, 2)\n",
      "    >>> chisquare(obs)\n",
      "    (array([ 2.        ,  6.66666667]), array([ 0.84914504,  0.24663415]))\n",
      "    \n",
      "    By setting ``axis=None``, the test is applied to all data in the array,\n",
      "    which is equivalent to applying the test to the flattened array.\n",
      "    \n",
      "    >>> chisquare(obs, axis=None)\n",
      "    (23.31034482758621, 0.015975692534127565)\n",
      "    >>> chisquare(obs.ravel())\n",
      "    (23.31034482758621, 0.015975692534127565)\n",
      "    \n",
      "    `ddof` is the change to make to the default degrees of freedom.\n",
      "    \n",
      "    >>> chisquare([16, 18, 16, 14, 12, 12], ddof=1)\n",
      "    (2.0, 0.73575888234288467)\n",
      "    \n",
      "    The calculation of the p-values is done by broadcasting the\n",
      "    chi-squared statistic with `ddof`.\n",
      "    \n",
      "    >>> chisquare([16, 18, 16, 14, 12, 12], ddof=[0,1,2])\n",
      "    (2.0, array([ 0.84914504,  0.73575888,  0.5724067 ]))\n",
      "    \n",
      "    `f_obs` and `f_exp` are also broadcast.  In the following, `f_obs` has\n",
      "    shape (6,) and `f_exp` has shape (2, 6), so the result of broadcasting\n",
      "    `f_obs` and `f_exp` has shape (2, 6).  To compute the desired chi-squared\n",
      "    statistics, we use ``axis=1``:\n",
      "    \n",
      "    >>> chisquare([16, 18, 16, 14, 12, 12],\n",
      "    ...           f_exp=[[16, 16, 16, 16, 16, 8], [8, 20, 20, 16, 12, 12]],\n",
      "    ...           axis=1)\n",
      "    (array([ 3.5 ,  9.25]), array([ 0.62338763,  0.09949846]))\n",
      "\n"
     ]
    }
   ],
   "source": [
    "help(chisquare)"
   ]
  },
  {
   "cell_type": "code",
   "execution_count": 56,
   "metadata": {},
   "outputs": [
    {
     "data": {
      "text/plain": [
       "array([ 8.5 ,  5.7 ,  4.1 ,  6.5 ,  5.4 ,  5.6 ,  4.5 ,  5.6 ,  5.6 ,\n",
       "        4.3 ,  7.8 ,  5.6 ,  5.2 ,  5.5 ,  7.8 ,  6.  ,  7.8 ,  8.  ,\n",
       "        7.  ,  3.2 ,  5.8 ,  7.3 ,  6.6 ,  6.9 , 10.3 ,  8.  , 20.  ,\n",
       "        7.3 , 11.3 , 11.1 ,  9.5 , 11.3 ,  7.3 ,  8.  ,  8.  ,  7.3 ,\n",
       "        9.6 ,  9.8 ,  6.1 ,  7.5 , 11.  , 10.85, 11.4 ,  9.6 , 10.5 ,\n",
       "        8.  ,  7.7 ,  5.2 ,  6.1 ,  5.6 ,  7.7 ,  6.5 ,  6.7 ,  6.  ,\n",
       "        6.5 ,  5.  ,  8.5 ,  7.  ,  4.7 ,  8.  ,  5.6 ,  5.6 ,  5.4 ,\n",
       "        5.3 ,  7.5 ,  8.5 ,  8.  ,  8.9 ,  5.9 ,  7.6 ,  5.  ,  5.4 ,\n",
       "        5.8 ,  6.  ,  5.2 ,  5.4 , 12.6 ,  5.  ,  9.  ,  5.5 ,  5.2 ,\n",
       "        4.5 ,  4.9 ,  7.5 ])"
      ]
     },
     "execution_count": 56,
     "metadata": {},
     "output_type": "execute_result"
    }
   ],
   "source": [
    "np.array(df_style_abv[df_style_abv['Super Style'] == 'British Origin Ales']['abv'].dropna())"
   ]
  },
  {
   "cell_type": "code",
   "execution_count": 58,
   "metadata": {},
   "outputs": [
    {
     "data": {
      "text/html": [
       "<iframe id=\"igraph\" scrolling=\"no\" style=\"border:none;\" seamless=\"seamless\" src=\"https://plot.ly/~ayang2012/6.embed\" height=\"525px\" width=\"100%\"></iframe>"
      ],
      "text/plain": [
       "<plotly.tools.PlotlyDisplay object>"
      ]
     },
     "execution_count": 58,
     "metadata": {},
     "output_type": "execute_result"
    }
   ],
   "source": [
    "# chisquare(f_obs=np.array(df_style_abv[df_style_abv['Super Style'] == 'British Origin Ales']['abv']), f_exp= np.array(df_style_abv[df_style_abv['Super Style'] == 'Irish Origin Ales']['abv']), ddof=1)\n",
    "\n",
    "hist_data = [np.array(df_style_abv[df_style_abv['Super Style'] == 'British Origin Ales']['abv'].dropna())]\n",
    "\n",
    "fig = ff.create_distplot(hist_data, ['British Origin Ales'], bin_size=0.5)\n",
    "py.iplot(fig, filename='Basic Distplot')"
   ]
  },
  {
   "cell_type": "code",
   "execution_count": 53,
   "metadata": {},
   "outputs": [
    {
     "data": {
      "text/html": [
       "<iframe id=\"igraph\" scrolling=\"no\" style=\"border:none;\" seamless=\"seamless\" src=\"https://plot.ly/~ayang2012/6.embed\" height=\"525px\" width=\"100%\"></iframe>"
      ],
      "text/plain": [
       "<plotly.tools.PlotlyDisplay object>"
      ]
     },
     "execution_count": 53,
     "metadata": {},
     "output_type": "execute_result"
    }
   ],
   "source": [
    "import plotly.plotly as py\n",
    "import plotly.figure_factory as ff\n",
    "\n",
    "import numpy as np\n",
    "\n",
    "x = np.random.randn(1000)  \n",
    "hist_data = [x]\n",
    "group_labels = ['distplot']\n",
    "\n",
    "fig = ff.create_distplot(hist_data, group_labels, bin_size=0.5)\n",
    "py.iplot(fig, filename='Basic Distplot')"
   ]
  },
  {
   "cell_type": "code",
   "execution_count": 54,
   "metadata": {},
   "outputs": [
    {
     "data": {
      "text/plain": [
       "[array([ 9.25520462e-01, -5.38547621e-02, -1.10711553e+00,  2.07227315e-01,\n",
       "        -7.76513584e-01,  7.46886548e-02,  3.44768582e-01,  1.53885314e+00,\n",
       "        -1.14098424e-01, -1.11566681e-01,  1.54236836e+00, -5.82953560e-02,\n",
       "        -1.29165160e+00, -1.19946269e+00, -1.76367569e+00,  5.68860179e-01,\n",
       "         1.05829362e-02, -1.35509081e+00, -7.37753967e-01,  2.09314382e+00,\n",
       "         1.26950554e+00, -1.00943611e+00,  4.72762594e-01, -7.70591318e-01,\n",
       "         1.12949310e+00, -7.86160808e-01, -6.13014201e-02, -7.39347085e-01,\n",
       "        -1.31147206e+00,  9.47931603e-03, -6.45801065e-01,  6.90455328e-01,\n",
       "        -3.18416861e-01,  7.39784285e-02, -5.50021304e-01,  8.18950281e-01,\n",
       "        -1.19775340e+00, -2.45932672e-01,  2.39305124e-03, -5.37971745e-01,\n",
       "         6.49366259e-01,  5.15929038e-01, -1.17941339e+00, -6.66693191e-01,\n",
       "        -6.08800201e-01, -8.81299695e-01, -7.30558659e-01,  1.03571139e-02,\n",
       "         1.76217537e-01, -8.28826949e-01,  2.19568467e-01,  3.02133643e-01,\n",
       "        -1.23541381e-01, -2.56891669e-01, -1.20551977e+00,  3.20103670e-01,\n",
       "        -1.84972864e-02, -1.10682383e+00, -1.17581628e+00, -1.05183803e+00,\n",
       "        -2.81240832e-01,  1.42697299e+00, -8.53451959e-01, -3.10597215e-01,\n",
       "         1.08937512e+00,  6.73847816e-01, -1.17666640e+00,  1.31674574e-01,\n",
       "         9.43790067e-01,  1.08150895e+00,  6.82297477e-01,  3.28572162e-02,\n",
       "        -4.24195376e-01, -1.03562802e+00,  2.09153237e+00,  2.90810407e-01,\n",
       "        -1.00952547e-02, -4.41642396e-01,  1.01391799e+00,  3.43795470e-01,\n",
       "        -7.35156035e-01, -2.10239362e-01,  3.03612632e-01,  1.05230523e+00,\n",
       "         2.67573400e-01, -1.01991065e-01,  1.26436759e+00,  3.51449804e-01,\n",
       "         2.90830327e-01, -4.13335847e-01, -8.97438826e-01,  1.04056930e-01,\n",
       "        -4.01260475e-01,  5.93541690e-01, -9.19582808e-01, -2.00888678e+00,\n",
       "         8.32726444e-01, -6.02773938e-01, -4.53003031e-01,  4.30912082e-01,\n",
       "         1.49785842e+00, -2.42478799e-01,  6.14775959e-01, -2.13288513e-01,\n",
       "         9.37125998e-02,  8.02932209e-01, -1.01070650e+00, -9.46635373e-02,\n",
       "        -7.64187870e-01,  5.71309149e-01,  7.44013404e-02,  9.77140935e-01,\n",
       "        -1.03592585e-01,  1.37467578e+00,  3.83083584e-01, -1.59507772e+00,\n",
       "         4.58429057e-02,  5.25728868e-01,  9.80808249e-01, -1.43391618e-01,\n",
       "         1.63476567e-01,  3.90069770e-01,  2.38805525e-01, -2.78702728e-01,\n",
       "         1.08583123e+00, -1.85572295e+00,  4.03875112e-01,  6.95189794e-01,\n",
       "         4.14318939e-02, -1.41632125e+00, -1.20641618e+00,  2.04569750e-01,\n",
       "        -2.83863428e-01,  6.95743338e-01, -9.11494319e-01,  4.18033797e-01,\n",
       "         1.58189727e+00,  6.99814872e-01,  4.92328109e-01,  4.78012880e-01,\n",
       "        -6.09327391e-01,  1.30686296e+00, -3.15071660e-01, -2.16375465e-01,\n",
       "        -2.00839675e+00, -2.66885980e-01,  6.37179272e-01, -1.60527432e+00,\n",
       "        -1.81996988e-01, -1.96350283e+00, -1.47066578e+00,  3.54425262e-01,\n",
       "         3.33191253e-01, -1.80403113e-01,  1.81956688e+00, -2.79162359e-01,\n",
       "        -4.89761730e-01,  9.25248390e-01, -1.12733599e+00,  1.60183398e+00,\n",
       "         1.23550540e+00,  4.51125134e-01,  1.32651083e+00,  1.04349395e-01,\n",
       "         1.26126391e-01, -1.12618235e+00, -4.83731635e-01, -1.55636687e-01,\n",
       "        -1.41181480e+00,  4.74742519e-01,  8.07435678e-01,  1.71533721e+00,\n",
       "         1.70665089e+00,  6.67124895e-01, -1.25063871e+00, -2.48444184e-01,\n",
       "        -1.70438273e-01, -2.04432837e+00, -1.13714896e-01, -1.46325726e+00,\n",
       "         2.25075455e+00,  1.31136204e+00, -3.95300097e-02, -1.17199970e+00,\n",
       "         7.99971620e-01,  3.10937791e-01,  4.73075101e-01, -1.20583637e+00,\n",
       "        -2.38899738e-01,  2.80641250e-01, -4.90872812e-01, -4.81216623e-01,\n",
       "         8.03513706e-01,  1.13125793e+00,  2.83158670e-01, -1.64515012e+00,\n",
       "         7.47743204e-02, -1.56241456e+00, -3.40225552e-01, -4.49135845e-01,\n",
       "        -1.25448467e+00, -1.41049243e+00, -1.13907354e+00,  5.80999585e-01,\n",
       "         2.40821343e+00, -1.72431120e+00,  2.93632671e-01, -9.10173756e-01,\n",
       "        -1.71775246e+00,  1.82093160e+00, -2.20254556e+00,  3.65551900e-01,\n",
       "         1.26960221e+00,  7.14006540e-02, -9.75871870e-01,  1.18910460e-01,\n",
       "        -8.59342566e-01,  6.14125200e-01, -1.44416415e+00, -3.29276292e-01,\n",
       "         1.58535495e+00,  2.72858733e+00,  3.24303782e-01, -5.92153479e-02,\n",
       "        -4.17756085e-01, -6.96995722e-01,  1.20738555e+00, -6.41772915e-01,\n",
       "        -1.03838662e-01, -1.87050416e+00,  4.82982737e-01, -2.26166431e-01,\n",
       "        -1.67849355e+00, -9.99892755e-01,  5.54026756e-01,  3.13211821e-01,\n",
       "        -1.74559338e+00, -2.64185490e-01, -2.34343337e-01,  1.90732785e-01,\n",
       "         2.73492155e+00, -3.85495127e-01, -4.61942918e-01,  2.92807631e-01,\n",
       "        -1.22566143e+00, -3.68565217e-01,  6.51873430e-01,  5.03293996e-01,\n",
       "         2.48754927e-01,  2.89258483e-02, -5.85494061e-02,  5.84362033e-01,\n",
       "        -2.62424927e-02, -9.21663963e-01, -3.10576379e+00,  3.91020514e-01,\n",
       "        -5.48106137e-01, -1.29096443e+00, -7.26748764e-01, -1.22791018e-01,\n",
       "        -2.55897676e+00, -1.86580282e-01,  1.11956010e+00, -4.92945551e-02,\n",
       "        -9.78885282e-01, -2.01813172e-02,  5.16306481e-01,  6.55693419e-01,\n",
       "        -1.11012868e+00, -6.13466688e-01, -6.65004868e-01,  1.81683194e-01,\n",
       "        -1.17414162e+00,  7.44917225e-02, -4.35054607e-01,  6.68006223e-01,\n",
       "        -9.09633594e-01, -1.27941268e+00, -3.86485195e-01, -7.06976349e-01,\n",
       "        -1.64701646e-02,  2.99568578e-01,  1.56020427e+00,  2.01948687e+00,\n",
       "         2.16767595e-01,  3.09546049e-02,  1.03743404e+00, -5.13474928e-01,\n",
       "        -2.15900521e-02, -1.47506844e-01, -7.86469266e-01, -7.32466970e-01,\n",
       "         9.77846216e-01, -1.87337563e+00, -5.71697572e-01,  3.74710772e-02,\n",
       "        -3.50601750e-02, -9.95445106e-01,  2.84305887e-01,  2.97155633e-01,\n",
       "         2.37055288e-01,  5.42015669e-01,  2.28377165e-02,  1.30865737e-01,\n",
       "        -2.13229489e-02,  6.06127640e-01,  3.67305364e-01, -4.97785694e-01,\n",
       "        -1.50940813e+00, -1.54245333e+00, -1.67896075e-01,  2.72326234e-01,\n",
       "         8.75823187e-01,  1.00677000e+00, -1.58351081e-01, -4.49503691e-01,\n",
       "         7.42173957e-01, -3.08666169e-02,  1.08291527e+00,  2.02523671e-01,\n",
       "        -3.70775962e-01,  4.28880728e-01,  2.83258765e-01,  1.21360461e+00,\n",
       "         9.07377868e-01,  3.17111669e-01,  2.31383717e-01, -5.13128851e-01,\n",
       "        -6.07179876e-01, -4.70353529e-02, -9.26851866e-01, -8.31055023e-01,\n",
       "         1.07368142e+00, -1.16273856e+00,  1.99209166e-01,  1.22567303e+00,\n",
       "        -1.34823140e+00,  9.05243011e-01, -4.58292855e-01, -5.46283331e-01,\n",
       "        -9.02463485e-01, -9.53982753e-01,  4.26688405e-01,  8.77402841e-01,\n",
       "        -1.51829760e+00,  4.85668103e-01, -3.88890680e-01, -4.35890437e-01,\n",
       "         1.06975591e+00,  2.22950038e-02,  2.01713986e+00, -4.41619858e-01,\n",
       "        -6.17774613e-01,  9.84035268e-01, -1.42225556e+00,  6.69352622e-01,\n",
       "        -9.72852667e-01, -9.42043184e-01,  1.55801208e-01, -5.32322479e-01,\n",
       "         9.04234240e-01, -2.00524413e-01,  1.03081413e+00,  1.18499813e+00,\n",
       "        -6.27830249e-02, -1.31009420e+00, -8.63897547e-02,  1.11264155e+00,\n",
       "        -1.56046109e+00,  1.92278036e-01, -4.02017885e-01,  1.23543194e+00,\n",
       "        -2.63259340e-01,  1.90117500e+00, -1.67337444e+00,  3.44440138e-01,\n",
       "         2.17205370e-01,  7.69412605e-01,  1.04032760e+00, -4.97039793e-02,\n",
       "         1.48508558e-01, -2.39840994e-01,  1.93883173e-02, -2.09870147e-01,\n",
       "         2.23953411e-02,  5.23917474e-01,  3.21863513e-01,  3.19953332e-01,\n",
       "        -3.36155775e-01,  8.46651719e-01,  7.20845887e-01,  6.91993829e-01,\n",
       "        -1.93830616e+00,  1.31548901e-01, -1.37632542e+00,  3.43629048e-01,\n",
       "        -5.25341142e-01, -4.86352532e-01,  9.98302149e-02,  4.67106176e-01,\n",
       "         2.01719149e+00,  2.56615220e-01, -1.25474621e+00,  6.77459459e-01,\n",
       "         2.80113585e-01, -4.37947446e-01, -9.30263193e-01, -6.85044397e-01,\n",
       "         1.34731656e+00,  2.82965283e-03, -2.19307863e-01,  9.76113272e-02,\n",
       "         1.05641941e+00,  1.14332104e+00, -6.11365869e-01, -2.23383191e+00,\n",
       "        -1.80792435e-01, -2.33102364e-02,  1.20351296e-01,  1.83036723e-01,\n",
       "         7.49841192e-01, -7.75605642e-01, -5.89010083e-01,  1.04888620e+00,\n",
       "         1.80896302e+00, -3.86795358e-01, -4.23902383e-01, -2.16246027e+00,\n",
       "        -1.90481042e+00,  2.17528006e-01, -5.23871951e-01, -2.39813668e-01,\n",
       "        -8.50304357e-01, -2.09679261e-01,  5.44449892e-02,  5.40602323e-02,\n",
       "         1.03184411e+00, -6.24158882e-01,  3.40647853e-02,  5.72071032e-01,\n",
       "         5.23134652e-01,  5.27032045e-01, -1.79246277e+00,  1.36785411e+00,\n",
       "        -1.39316843e-01,  3.25196282e-01, -6.70247164e-02,  1.42225538e+00,\n",
       "         1.13102500e+00,  2.73612248e-01,  1.89581630e-01, -1.86922555e+00,\n",
       "        -4.39980179e-01,  2.25472743e-01,  2.25883212e-01, -2.95494160e-01,\n",
       "         5.18462026e-01,  1.21834930e+00,  3.82658492e-01,  4.33566661e-02,\n",
       "         9.53104660e-01, -5.83459093e-01, -1.61783538e+00,  1.92631165e+00,\n",
       "        -1.39570715e-01,  9.85663087e-01,  6.30219565e-01, -1.07688883e+00,\n",
       "         6.48909458e-03,  7.73570975e-01, -1.17152709e-01, -1.13251178e-01,\n",
       "         4.23642846e-01, -3.32675656e-01,  4.48386554e-01, -1.54279630e-01,\n",
       "         2.10965756e+00, -1.65456475e+00, -1.49036747e+00, -1.50899593e+00,\n",
       "        -1.68779014e+00, -6.95328526e-01,  5.30563216e-01, -5.73819237e-01,\n",
       "         3.24408044e+00, -4.12870931e-01,  6.60370279e-01, -1.18847301e+00,\n",
       "        -1.33850367e+00,  5.62461368e-01,  2.54025183e-01,  1.25931223e+00,\n",
       "         1.63379819e+00,  1.22117001e+00,  8.01288067e-01,  1.12045476e+00,\n",
       "         2.33493723e-01,  8.03448299e-01, -5.47581226e-01, -9.12638415e-02,\n",
       "         1.16613667e+00, -1.17898611e+00, -2.04992377e+00,  6.74785471e-01,\n",
       "        -4.64914677e-01, -4.34721788e-01, -2.24317742e+00,  1.48236483e+00,\n",
       "         9.92837221e-01,  8.84517443e-01,  2.22675185e+00,  6.94811895e-01,\n",
       "        -6.45407045e-01, -6.39538715e-01,  1.60327783e-01, -1.11493673e+00,\n",
       "         5.27001213e-01, -1.32752017e+00, -2.20533391e-01, -2.82350803e-02,\n",
       "         5.57180630e-01, -1.83251667e-01, -1.30273408e+00, -1.05806571e+00,\n",
       "         5.29734329e-01, -1.49883605e+00,  2.23115950e-01,  6.48735762e-01,\n",
       "         4.96061425e-01, -4.16456064e-01,  2.01896316e-01,  2.76108833e-01,\n",
       "         5.43846772e-02, -3.15166102e-01, -2.95481443e-01,  1.14586879e+00,\n",
       "        -1.38777812e-01, -9.44358024e-01, -2.95744996e-01,  1.71680038e-01,\n",
       "         1.27772039e+00,  2.89752988e+00,  1.57698744e+00,  4.76175696e-01,\n",
       "        -2.36575900e-01,  1.02803840e+00, -1.10008204e-01, -8.09406287e-01,\n",
       "         1.63748442e+00, -7.81005178e-01,  1.17429484e+00,  5.08399286e-01,\n",
       "        -1.94344550e+00, -1.30493442e+00, -1.57461205e+00,  6.46174257e-01,\n",
       "         3.78694383e-02, -4.16195857e-01,  1.07444989e+00, -5.78682145e-01,\n",
       "        -7.33144277e-02, -1.17283164e+00,  5.62611756e-01, -5.55655286e-01,\n",
       "         2.66943189e-02,  2.16664801e-01, -1.09556019e-01, -9.73038608e-01,\n",
       "         5.16896174e-01,  1.56795166e+00, -1.96872209e+00, -4.31078222e-02,\n",
       "         4.83598401e-01, -1.97663327e-01,  3.06073760e-01,  1.33617963e+00,\n",
       "         9.18542009e-01, -5.79250942e-01,  9.87699762e-01,  8.80549356e-01,\n",
       "        -1.54551828e-01, -1.23936616e+00,  1.41807296e+00, -1.09078037e+00,\n",
       "        -7.91356153e-01, -8.66939334e-01,  1.27709513e-01,  1.30044073e+00,\n",
       "        -7.03769378e-01, -7.61630679e-03,  1.35026143e+00, -7.60819943e-01,\n",
       "         3.88742314e-01, -2.82810526e-01,  2.57661825e-01, -9.73755443e-02,\n",
       "        -4.95325647e-01, -2.19609121e-02,  1.26421625e+00,  2.25400985e-01,\n",
       "        -7.83033666e-01, -2.52292781e-01,  2.35290868e-02,  9.69972985e-01,\n",
       "        -6.32716809e-01,  1.09097325e+00, -1.09815149e+00, -1.91609903e+00,\n",
       "         3.83913723e-01, -6.46052691e-01,  4.56096230e-01,  8.75332130e-01,\n",
       "         1.24324975e+00, -1.27526918e+00,  4.91350371e-01, -1.26534148e-01,\n",
       "        -9.75748561e-01, -1.42024154e+00, -1.80856468e+00, -2.00761417e+00,\n",
       "         1.33317653e-02, -1.48349084e+00,  2.58736765e-02,  1.61451469e+00,\n",
       "         1.11623204e+00,  9.16993955e-01,  7.73590541e-01, -6.73757452e-01,\n",
       "         5.95934784e-01, -3.24944903e-01, -8.14284093e-01, -7.83497219e-01,\n",
       "         7.83271557e-01, -3.27158043e-01, -1.44601399e+00,  3.50532250e-02,\n",
       "        -1.21708763e-01, -1.04789948e+00, -1.01091556e+00,  1.09720152e-01,\n",
       "         5.69713462e-02, -2.27123887e+00, -2.75901424e-02,  1.31829614e+00,\n",
       "         7.68607994e-01,  6.97417562e-03, -8.89431780e-02,  6.41845075e-01,\n",
       "        -4.98012703e-01,  1.27988725e+00, -2.46454239e-01,  3.31252323e-01,\n",
       "         8.19659845e-01, -1.81548296e+00, -2.21589014e-01,  1.09028030e+00,\n",
       "         1.55979068e-01,  2.26760901e+00, -1.47719765e+00, -1.26596337e+00,\n",
       "         1.12920592e+00,  1.44437186e+00,  3.17247011e-02, -8.84847460e-01,\n",
       "         1.05611753e+00,  4.93661821e-02, -7.55045517e-01, -7.66513608e-01,\n",
       "         8.03407901e-01,  1.91929651e+00, -7.43001152e-02, -1.17539779e+00,\n",
       "        -5.43717099e-01,  7.46122766e-01,  5.22586093e-01,  1.83597579e-02,\n",
       "         3.12467653e-02, -1.01205200e-01,  9.31694170e-01,  1.54341848e-01,\n",
       "         4.01333469e-01, -2.09645557e-01,  1.59177912e+00, -6.35424140e-01,\n",
       "         1.68961531e+00,  7.92523045e-01, -7.23158969e-01, -1.38385077e+00,\n",
       "         2.57481267e-01, -9.55505825e-01,  2.67562715e-01, -5.18613365e-01,\n",
       "        -1.76342177e+00, -4.71838389e-01, -1.09928840e+00, -2.37091103e+00,\n",
       "         1.64502030e+00, -9.49882648e-01,  1.47833560e+00,  1.56722163e+00,\n",
       "         2.01541980e-01, -1.30617669e+00,  1.25875945e-01,  3.54859546e-01,\n",
       "         2.52357557e-02, -5.19080593e-01,  1.01259151e+00, -9.85595961e-01,\n",
       "        -1.82942176e-01, -3.85722629e-01, -1.12468363e+00, -3.59716333e-02,\n",
       "        -4.97918632e-01,  7.58125617e-01,  1.64713799e+00, -1.21564666e-01,\n",
       "         1.80787457e-02, -6.62199013e-01, -1.40454404e+00,  1.13390815e+00,\n",
       "         7.90019705e-01,  1.94189767e-01,  4.69239894e-01,  4.03649068e-01,\n",
       "         7.81058350e-01,  3.66825211e-01, -2.67287170e-01, -1.56432312e+00,\n",
       "         8.95650487e-01, -2.17533029e+00,  4.78180664e-01, -9.24551034e-02,\n",
       "        -4.94730873e-02,  1.51840095e+00, -1.96771914e+00, -6.41062594e-01,\n",
       "        -5.23440690e-01,  1.61621615e+00,  2.18867421e-01,  1.30571729e+00,\n",
       "        -1.51243594e+00, -2.42923308e-01,  9.02272675e-02,  1.01404831e+00,\n",
       "         1.20522722e+00, -1.26294068e+00, -1.80084166e+00, -9.16319517e-01,\n",
       "         1.59056310e+00, -1.36760060e+00,  6.23079963e-02, -3.17925864e-01,\n",
       "         2.36025481e-01, -3.55264371e-01,  9.71706668e-01, -1.73770526e-01,\n",
       "        -1.53589230e+00,  1.76381534e-01, -1.28030213e+00,  6.38028828e-01,\n",
       "         5.29666607e-01,  9.38837238e-01, -1.10056984e+00,  1.15054065e+00,\n",
       "        -8.00525327e-01,  1.96083277e-02, -6.42108363e-01,  1.26333601e+00,\n",
       "         7.76352404e-01,  7.75760433e-01,  8.24826195e-01,  1.98212242e-01,\n",
       "         1.29576203e+00, -2.33575431e+00,  1.03584002e+00,  1.12410165e+00,\n",
       "        -8.45211959e-01,  3.52774728e-01, -2.81478312e+00,  8.53742378e-01,\n",
       "        -3.30566191e-01, -1.00422561e+00,  8.82452472e-01, -5.69743407e-02,\n",
       "         5.42856534e-01, -1.81050120e+00, -1.53349480e+00, -3.22729254e-01,\n",
       "        -1.64588438e+00,  2.40283810e-01,  1.34808669e-01,  1.24872000e-02,\n",
       "        -1.36225118e+00, -1.38722053e+00, -7.06314355e-01, -4.59273007e-01,\n",
       "        -1.79038754e+00,  1.01983906e-01, -1.90890972e-01,  6.73527634e-01,\n",
       "        -7.38691019e-01,  6.56911118e-01,  1.25336586e-01,  1.73040891e+00,\n",
       "        -1.33624594e+00,  2.01914419e-01, -9.42299397e-01, -1.11941197e+00,\n",
       "        -4.53113229e-01,  1.03438121e+00,  1.05077677e+00, -9.75973465e-01,\n",
       "         1.20672091e+00, -1.17112066e-01, -1.72035479e-01,  5.00915293e-02,\n",
       "         1.47069545e-01, -2.34177476e-02, -2.82265645e-01,  9.04276377e-01,\n",
       "         7.80377535e-01,  7.69306946e-01,  5.47563981e-01,  1.57847421e-01,\n",
       "         1.12476192e+00,  3.20779221e-01, -3.35120799e-01,  6.09838814e-01,\n",
       "         6.06906083e-01, -1.22255539e+00,  1.43035027e+00,  1.04158755e+00,\n",
       "        -1.59874152e+00, -1.08954300e+00,  1.47597514e+00, -1.82834104e+00,\n",
       "         8.10471016e-01, -1.67639801e+00, -2.41555624e-01, -2.04726281e-01,\n",
       "         5.47315546e-01, -3.33947087e-03,  4.91903523e-01, -4.76522583e-01,\n",
       "         8.52953489e-01, -5.32885130e-01,  6.61178725e-02,  1.46939790e+00,\n",
       "         2.09721071e+00,  4.18345868e-01,  6.21200415e-01, -2.80905630e-02,\n",
       "         3.05226869e-01,  4.08191439e-01, -2.17857319e-01, -1.61427051e-01,\n",
       "         3.15310681e-01, -4.96552992e-01,  1.19949685e+00,  1.57554531e+00,\n",
       "        -3.42251630e-01, -2.49944203e-01,  1.30126592e+00, -2.14244363e-01,\n",
       "         1.11935273e+00,  6.35155552e-01,  1.85740919e+00, -6.53598638e-02,\n",
       "        -1.63372636e+00,  1.18152849e+00, -5.11412972e-01,  3.45811578e-02,\n",
       "        -6.44619712e-01,  2.46266376e+00, -8.22718052e-02,  2.14897939e-01,\n",
       "         6.28491769e-01,  5.48482736e-01, -1.65601986e+00,  7.23385761e-01,\n",
       "         8.46991829e-01, -4.03013535e-01,  9.58277377e-01,  7.88388990e-01,\n",
       "        -7.23864726e-01,  3.64809665e-01, -1.07336944e-01, -1.20033617e+00,\n",
       "         6.06195796e-01, -2.39585974e-01,  7.74146421e-01, -8.13748321e-01,\n",
       "         4.88922937e-01,  2.55999694e-01,  1.29955124e+00,  1.77116327e-01,\n",
       "         9.39771115e-01,  3.86791207e-01, -1.64003528e+00,  6.73563270e-01,\n",
       "         6.41329165e-01,  6.55036826e-01,  7.19902150e-01,  2.14768202e-01,\n",
       "         1.06405655e+00,  4.15902440e-01,  1.13396476e-01, -2.44974272e+00,\n",
       "         2.41974437e+00,  9.35995184e-01, -6.16285987e-01, -8.01846796e-01,\n",
       "         2.65503309e-01,  4.04315366e-01,  1.01507941e-01, -1.55464048e+00,\n",
       "        -4.96524398e-01, -3.59458189e-02,  5.57131430e-01, -5.60812616e-01,\n",
       "        -1.27278798e+00, -6.40361184e-01,  5.86682020e-01, -1.89037701e-01,\n",
       "         1.33582769e+00, -8.12090141e-01,  9.18733461e-01,  1.33439894e+00,\n",
       "         9.91608115e-01, -3.45990042e-02,  1.99345646e-01,  5.74235131e-01,\n",
       "        -2.19007694e-01, -1.53828803e-02,  4.60466060e-01,  1.90176093e+00,\n",
       "         5.05584023e-01,  2.05400080e+00,  1.27972978e+00,  1.83398736e+00,\n",
       "        -2.88776302e-01,  9.61341303e-01, -9.91510441e-01, -2.84044479e+00,\n",
       "        -6.43474817e-01, -5.89687485e-02,  1.74658305e+00,  6.97661373e-01,\n",
       "        -9.04427309e-01, -2.42779773e+00, -1.55316898e+00,  6.37276817e-01,\n",
       "        -5.78863200e-02,  1.14910769e-01,  1.56491311e+00,  7.63073255e-01,\n",
       "         5.36714430e-02, -3.74848033e-01,  1.28839623e+00,  1.69048595e+00,\n",
       "         7.99727979e-01,  7.99691099e-01,  7.56161633e-01, -1.83793406e+00,\n",
       "         1.24237871e+00,  1.48227644e+00,  2.75917588e-01,  3.08435992e-01,\n",
       "         1.45177673e+00,  8.90112863e-03,  1.86089792e+00, -4.73759464e-01,\n",
       "        -5.50983355e-01, -2.15221205e-01, -3.18105029e-02,  6.90055102e-04,\n",
       "         5.49325486e-01, -2.57822109e-01, -6.97353522e-01, -5.90887600e-01,\n",
       "        -1.69993341e-02,  1.71422527e+00,  2.48100469e-01, -3.07064130e-01,\n",
       "        -6.23764364e-01,  2.61775253e-01, -1.01649811e-01,  1.19208704e+00,\n",
       "         7.79178149e-01,  9.26788641e-03, -3.30782703e-01,  5.89567945e-01,\n",
       "         1.00048110e+00,  1.12327373e+00,  2.49951578e-01,  1.86614507e+00,\n",
       "        -1.36318297e+00, -3.96678942e-02, -7.42246804e-02, -6.62278318e-03])]"
      ]
     },
     "execution_count": 54,
     "metadata": {},
     "output_type": "execute_result"
    }
   ],
   "source": [
    "hist_data"
   ]
  },
  {
   "cell_type": "code",
   "execution_count": 44,
   "metadata": {
    "scrolled": true
   },
   "outputs": [
    {
     "ename": "PlotlyError",
     "evalue": "Oops, this function was written to handle multiple datasets, if you want to plot just one, make sure your hist_data variable is still a list of lists, i.e. x = [1, 2, 3] -> x = [[1, 2, 3]]",
     "output_type": "error",
     "traceback": [
      "\u001b[0;31m---------------------------------------------------------------------------\u001b[0m",
      "\u001b[0;31mPlotlyError\u001b[0m                               Traceback (most recent call last)",
      "\u001b[0;32m<ipython-input-44-439b2b3bd997>\u001b[0m in \u001b[0;36m<module>\u001b[0;34m\u001b[0m\n\u001b[1;32m     32\u001b[0m }\n\u001b[1;32m     33\u001b[0m \u001b[0;34m\u001b[0m\u001b[0m\n\u001b[0;32m---> 34\u001b[0;31m \u001b[0mfig\u001b[0m \u001b[0;34m=\u001b[0m \u001b[0mff\u001b[0m\u001b[0;34m.\u001b[0m\u001b[0mcreate_distplot\u001b[0m\u001b[0;34m(\u001b[0m\u001b[0mdata\u001b[0m\u001b[0;34m[\u001b[0m\u001b[0;36m0\u001b[0m\u001b[0;34m]\u001b[0m\u001b[0;34m[\u001b[0m\u001b[0;34m'data'\u001b[0m\u001b[0;34m]\u001b[0m\u001b[0;34m,\u001b[0m \u001b[0mdata\u001b[0m\u001b[0;34m[\u001b[0m\u001b[0;36m1\u001b[0m\u001b[0;34m]\u001b[0m\u001b[0;34m[\u001b[0m\u001b[0;34m'name'\u001b[0m\u001b[0;34m]\u001b[0m\u001b[0;34m)\u001b[0m\u001b[0;34m\u001b[0m\u001b[0;34m\u001b[0m\u001b[0m\n\u001b[0m\u001b[1;32m     35\u001b[0m \u001b[0;31m# py.iplot(fig, filename=\"beer-type-stats\")\u001b[0m\u001b[0;34m\u001b[0m\u001b[0;34m\u001b[0m\u001b[0;34m\u001b[0m\u001b[0m\n",
      "\u001b[0;32m~/anaconda3/lib/python3.6/site-packages/plotly/figure_factory/_distplot.py\u001b[0m in \u001b[0;36mcreate_distplot\u001b[0;34m(hist_data, group_labels, bin_size, curve_type, colors, rug_text, histnorm, show_hist, show_curve, show_rug)\u001b[0m\n\u001b[1;32m    170\u001b[0m         \u001b[0mrug_text\u001b[0m \u001b[0;34m=\u001b[0m \u001b[0;34m[\u001b[0m\u001b[0;34m]\u001b[0m\u001b[0;34m\u001b[0m\u001b[0;34m\u001b[0m\u001b[0m\n\u001b[1;32m    171\u001b[0m \u001b[0;34m\u001b[0m\u001b[0m\n\u001b[0;32m--> 172\u001b[0;31m     \u001b[0mvalidate_distplot\u001b[0m\u001b[0;34m(\u001b[0m\u001b[0mhist_data\u001b[0m\u001b[0;34m,\u001b[0m \u001b[0mcurve_type\u001b[0m\u001b[0;34m)\u001b[0m\u001b[0;34m\u001b[0m\u001b[0;34m\u001b[0m\u001b[0m\n\u001b[0m\u001b[1;32m    173\u001b[0m     \u001b[0mutils\u001b[0m\u001b[0;34m.\u001b[0m\u001b[0mvalidate_equal_length\u001b[0m\u001b[0;34m(\u001b[0m\u001b[0mhist_data\u001b[0m\u001b[0;34m,\u001b[0m \u001b[0mgroup_labels\u001b[0m\u001b[0;34m)\u001b[0m\u001b[0;34m\u001b[0m\u001b[0;34m\u001b[0m\u001b[0m\n\u001b[1;32m    174\u001b[0m \u001b[0;34m\u001b[0m\u001b[0m\n",
      "\u001b[0;32m~/anaconda3/lib/python3.6/site-packages/plotly/figure_factory/_distplot.py\u001b[0m in \u001b[0;36mvalidate_distplot\u001b[0;34m(hist_data, curve_type)\u001b[0m\n\u001b[1;32m     31\u001b[0m \u001b[0;34m\u001b[0m\u001b[0m\n\u001b[1;32m     32\u001b[0m     \u001b[0;32mif\u001b[0m \u001b[0;32mnot\u001b[0m \u001b[0misinstance\u001b[0m\u001b[0;34m(\u001b[0m\u001b[0mhist_data\u001b[0m\u001b[0;34m[\u001b[0m\u001b[0;36m0\u001b[0m\u001b[0;34m]\u001b[0m\u001b[0;34m,\u001b[0m \u001b[0mhist_data_types\u001b[0m\u001b[0;34m)\u001b[0m\u001b[0;34m:\u001b[0m\u001b[0;34m\u001b[0m\u001b[0;34m\u001b[0m\u001b[0m\n\u001b[0;32m---> 33\u001b[0;31m         raise exceptions.PlotlyError(\"Oops, this function was written \"\n\u001b[0m\u001b[1;32m     34\u001b[0m                                      \u001b[0;34m\"to handle multiple datasets, if \"\u001b[0m\u001b[0;34m\u001b[0m\u001b[0;34m\u001b[0m\u001b[0m\n\u001b[1;32m     35\u001b[0m                                      \u001b[0;34m\"you want to plot just one, make \"\u001b[0m\u001b[0;34m\u001b[0m\u001b[0;34m\u001b[0m\u001b[0m\n",
      "\u001b[0;31mPlotlyError\u001b[0m: Oops, this function was written to handle multiple datasets, if you want to plot just one, make sure your hist_data variable is still a list of lists, i.e. x = [1, 2, 3] -> x = [[1, 2, 3]]"
     ]
    }
   ],
   "source": [
    "data = []\n",
    "# plot the actual labels\n",
    "c=0\n",
    "for i in df_style_abv['Super Style'].unique():\n",
    "    #split up the clusters to visualize and extract sepal length and width\n",
    "    df = df_style_abv[df_style_abv['Super Style'] == i]\n",
    "    data.append({\n",
    "        'data': df['abv'],\n",
    "        'name':i,\n",
    "        'bin_size': 0.2\n",
    "        \n",
    "    })\n",
    "    c +=1\n",
    "layout = {\n",
    "    'hovermode':'closest',\n",
    "    'barmode':'overlay',\n",
    "    'margin': {\n",
    "        'r':10,\n",
    "        't':25,\n",
    "        'b':40,\n",
    "        'l':60\n",
    "    },\n",
    "    'title': 'Comparing ABV of Beer Styles',\n",
    "    'xaxis': {\n",
    "        #'domain': [0,1],\n",
    "        'title': 'ABV'\n",
    "    },\n",
    "    'yaxis': {\n",
    "        #'domain': [0,1],\n",
    "        'title': 'Count'\n",
    "    }\n",
    "}\n",
    "\n",
    "fig = ff.create_distplot(data[0]['data'], data[1]['name'])\n",
    "# py.iplot(fig, filename=\"beer-type-stats\")"
   ]
  },
  {
   "cell_type": "code",
   "execution_count": 59,
   "metadata": {},
   "outputs": [],
   "source": [
    "from scipy.stats import ttest_ind"
   ]
  },
  {
   "cell_type": "code",
   "execution_count": 64,
   "metadata": {},
   "outputs": [
    {
     "data": {
      "text/plain": [
       "Ttest_indResult(statistic=-2.0261068614445885, pvalue=0.09859936929378028)"
      ]
     },
     "execution_count": 64,
     "metadata": {},
     "output_type": "execute_result"
    }
   ],
   "source": [
    "ttest_ind(np.array([1, 2, 3, 4]), np.array([1,20,30]))"
   ]
  },
  {
   "cell_type": "code",
   "execution_count": 66,
   "metadata": {},
   "outputs": [
    {
     "name": "stdout",
     "output_type": "stream",
     "text": [
      "(101, 2)\n"
     ]
    },
    {
     "data": {
      "text/html": [
       "<div>\n",
       "<style scoped>\n",
       "    .dataframe tbody tr th:only-of-type {\n",
       "        vertical-align: middle;\n",
       "    }\n",
       "\n",
       "    .dataframe tbody tr th {\n",
       "        vertical-align: top;\n",
       "    }\n",
       "\n",
       "    .dataframe thead th {\n",
       "        text-align: right;\n",
       "    }\n",
       "</style>\n",
       "<table border=\"1\" class=\"dataframe\">\n",
       "  <thead>\n",
       "    <tr style=\"text-align: right;\">\n",
       "      <th></th>\n",
       "      <th>Super Style</th>\n",
       "      <th>abv</th>\n",
       "    </tr>\n",
       "  </thead>\n",
       "  <tbody>\n",
       "    <tr>\n",
       "      <th>0</th>\n",
       "      <td>British Origin Ales</td>\n",
       "      <td>8.5</td>\n",
       "    </tr>\n",
       "    <tr>\n",
       "      <th>1</th>\n",
       "      <td>British Origin Ales</td>\n",
       "      <td>5.7</td>\n",
       "    </tr>\n",
       "    <tr>\n",
       "      <th>2</th>\n",
       "      <td>British Origin Ales</td>\n",
       "      <td>4.1</td>\n",
       "    </tr>\n",
       "    <tr>\n",
       "      <th>3</th>\n",
       "      <td>British Origin Ales</td>\n",
       "      <td>6.5</td>\n",
       "    </tr>\n",
       "    <tr>\n",
       "      <th>4</th>\n",
       "      <td>British Origin Ales</td>\n",
       "      <td>5.4</td>\n",
       "    </tr>\n",
       "  </tbody>\n",
       "</table>\n",
       "</div>"
      ],
      "text/plain": [
       "           Super Style  abv\n",
       "0  British Origin Ales  8.5\n",
       "1  British Origin Ales  5.7\n",
       "2  British Origin Ales  4.1\n",
       "3  British Origin Ales  6.5\n",
       "4  British Origin Ales  5.4"
      ]
     },
     "execution_count": 66,
     "metadata": {},
     "output_type": "execute_result"
    }
   ],
   "source": [
    "brit = df_style_abv[df_style_abv['Super Style'] == 'British Origin Ales']\n",
    "print(brit.shape)\n",
    "brit.head()"
   ]
  },
  {
   "cell_type": "code",
   "execution_count": 67,
   "metadata": {},
   "outputs": [
    {
     "name": "stdout",
     "output_type": "stream",
     "text": [
      "(21, 2)\n"
     ]
    },
    {
     "data": {
      "text/html": [
       "<div>\n",
       "<style scoped>\n",
       "    .dataframe tbody tr th:only-of-type {\n",
       "        vertical-align: middle;\n",
       "    }\n",
       "\n",
       "    .dataframe tbody tr th {\n",
       "        vertical-align: top;\n",
       "    }\n",
       "\n",
       "    .dataframe thead th {\n",
       "        text-align: right;\n",
       "    }\n",
       "</style>\n",
       "<table border=\"1\" class=\"dataframe\">\n",
       "  <thead>\n",
       "    <tr style=\"text-align: right;\">\n",
       "      <th></th>\n",
       "      <th>Super Style</th>\n",
       "      <th>abv</th>\n",
       "    </tr>\n",
       "  </thead>\n",
       "  <tbody>\n",
       "    <tr>\n",
       "      <th>97</th>\n",
       "      <td>Irish Origin Ales</td>\n",
       "      <td>6.3</td>\n",
       "    </tr>\n",
       "    <tr>\n",
       "      <th>98</th>\n",
       "      <td>Irish Origin Ales</td>\n",
       "      <td>5.6</td>\n",
       "    </tr>\n",
       "    <tr>\n",
       "      <th>99</th>\n",
       "      <td>Irish Origin Ales</td>\n",
       "      <td>7.6</td>\n",
       "    </tr>\n",
       "    <tr>\n",
       "      <th>100</th>\n",
       "      <td>Irish Origin Ales</td>\n",
       "      <td>7.6</td>\n",
       "    </tr>\n",
       "    <tr>\n",
       "      <th>101</th>\n",
       "      <td>Irish Origin Ales</td>\n",
       "      <td>5.0</td>\n",
       "    </tr>\n",
       "  </tbody>\n",
       "</table>\n",
       "</div>"
      ],
      "text/plain": [
       "           Super Style  abv\n",
       "97   Irish Origin Ales  6.3\n",
       "98   Irish Origin Ales  5.6\n",
       "99   Irish Origin Ales  7.6\n",
       "100  Irish Origin Ales  7.6\n",
       "101  Irish Origin Ales  5.0"
      ]
     },
     "execution_count": 67,
     "metadata": {},
     "output_type": "execute_result"
    }
   ],
   "source": [
    "irish = df_style_abv[df_style_abv['Super Style'] == 'Irish Origin Ales']\n",
    "print(irish.shape)\n",
    "irish.head()"
   ]
  },
  {
   "cell_type": "code",
   "execution_count": 72,
   "metadata": {},
   "outputs": [
    {
     "data": {
      "text/plain": [
       "array([ 8.5 ,  5.7 ,  4.1 ,  6.5 ,  5.4 ,  5.6 ,  4.5 ,   nan,  5.6 ,\n",
       "        5.6 ,  4.3 ,   nan,  7.8 ,   nan,  5.6 ,   nan,  5.2 ,  5.5 ,\n",
       "        7.8 ,   nan,  6.  ,  7.8 ,   nan,   nan,  8.  ,  7.  ,   nan,\n",
       "        3.2 ,  5.8 ,   nan,  7.3 ,  6.6 ,   nan,  6.9 , 10.3 ,  8.  ,\n",
       "         nan, 20.  ,  7.3 , 11.3 , 11.1 ,  9.5 , 11.3 ,   nan,  7.3 ,\n",
       "        8.  ,  8.  ,  7.3 ,  9.6 ,  9.8 ,  6.1 ,  7.5 , 11.  , 10.85,\n",
       "       11.4 ,  9.6 , 10.5 ,  8.  ,  7.7 ,  5.2 ,  6.1 ,  5.6 ,  7.7 ,\n",
       "         nan,  6.5 ,  6.7 ,  6.  ,  6.5 ,  5.  ,  8.5 ,  7.  ,  4.7 ,\n",
       "        8.  ,  5.6 ,  5.6 ,   nan,   nan,   nan,  5.4 ,  5.3 ,  7.5 ,\n",
       "        8.5 ,  8.  ,  8.9 ,  5.9 ,  7.6 ,  5.  ,  5.4 ,  5.8 ,  6.  ,\n",
       "        5.2 ,  5.4 , 12.6 ,  5.  ,  9.  ,  5.5 ,  5.2 ,   nan,  4.5 ,\n",
       "        4.9 ,  7.5 ])"
      ]
     },
     "execution_count": 72,
     "metadata": {},
     "output_type": "execute_result"
    }
   ],
   "source": [
    "np.array(brit['abv'])"
   ]
  },
  {
   "cell_type": "code",
   "execution_count": 75,
   "metadata": {
    "scrolled": true
   },
   "outputs": [
    {
     "data": {
      "text/plain": [
       "Ttest_indResult(statistic=2.7541318362519807, pvalue=0.009256870623556974)"
      ]
     },
     "execution_count": 75,
     "metadata": {},
     "output_type": "execute_result"
    }
   ],
   "source": [
    "results = ttest_ind(np.array(brit['abv'].dropna()), np.array(irish['abv'].dropna()), equal_var=False)\n",
    "results"
   ]
  },
  {
   "cell_type": "code",
   "execution_count": 76,
   "metadata": {},
   "outputs": [
    {
     "data": {
      "text/plain": [
       "2.7541318362519807"
      ]
     },
     "execution_count": 76,
     "metadata": {},
     "output_type": "execute_result"
    }
   ],
   "source": [
    "results[0]"
   ]
  }
 ],
 "metadata": {
  "kernelspec": {
   "display_name": "Python 3",
   "language": "python",
   "name": "python3"
  },
  "language_info": {
   "codemirror_mode": {
    "name": "ipython",
    "version": 3
   },
   "file_extension": ".py",
   "mimetype": "text/x-python",
   "name": "python",
   "nbconvert_exporter": "python",
   "pygments_lexer": "ipython3",
   "version": "3.6.7"
  }
 },
 "nbformat": 4,
 "nbformat_minor": 2
}
