{
 "cells": [
  {
   "cell_type": "markdown",
   "metadata": {},
   "source": [
    "# Here's some starter code to grab the data\n",
    "\n",
    "File --> Make a copy --> rename the notebook  \n",
    "Link to Documentation: https://www.brewerydb.com/developers/docs\n",
    "***\n",
    "## api_setup.py\n",
    "There are two functions in api_setup. get_data will retrieve a request from the brewerydb api. navigate_json will allow you to work through json files more easily and will display the query needed to grab your data\n",
    "\n",
    "##### get_data(endpoint,page,key)\n",
    "    endpoint: (beers), breweries, categories, ingredients, etc  \n",
    "    page: (1)  \n",
    "    key: (provided)  \n",
    "\n",
    "**navigate_json(json_data)**\n",
    "***\n",
    "**The number of pages can vary depending on what you're trying to query, so you can create a for loop to parse through all the results.**"
   ]
  },
  {
   "cell_type": "code",
   "execution_count": 34,
   "metadata": {},
   "outputs": [],
   "source": [
    "import api_setup as ap\n",
    "import pandas as pd "
   ]
  },
  {
   "cell_type": "code",
   "execution_count": 35,
   "metadata": {},
   "outputs": [],
   "source": [
    "# As is endpoint = \"beers\", page = '1\"'\n",
    "data = ap.get_data(endpoint=\"styles\")\n",
    "#data"
   ]
  },
  {
   "cell_type": "markdown",
   "metadata": {},
   "source": [
    "#### Remember to use len() to navigate lists and .keys() to navigate dictionaries"
   ]
  },
  {
   "cell_type": "code",
   "execution_count": 36,
   "metadata": {},
   "outputs": [
    {
     "data": {
      "text/plain": [
       "dict_keys(['message', 'data', 'status'])"
      ]
     },
     "execution_count": 36,
     "metadata": {},
     "output_type": "execute_result"
    }
   ],
   "source": [
    "data.keys()"
   ]
  },
  {
   "cell_type": "code",
   "execution_count": 37,
   "metadata": {},
   "outputs": [
    {
     "data": {
      "text/plain": [
       "175"
      ]
     },
     "execution_count": 37,
     "metadata": {},
     "output_type": "execute_result"
    }
   ],
   "source": [
    "len(data['data'])"
   ]
  },
  {
   "cell_type": "code",
   "execution_count": 38,
   "metadata": {},
   "outputs": [],
   "source": [
    "#ap.navigate_json(data)"
   ]
  },
  {
   "cell_type": "code",
   "execution_count": 39,
   "metadata": {},
   "outputs": [],
   "source": [
    "#Super_Style\n",
    "styles_data = []\n",
    "for styles in data['data']:\n",
    "    major_style = (styles['category']['name'])\n",
    "    #print(major_style)\n",
    "    \n",
    "    #if major_style not in styles_data:\n",
    "    styles_data.append(major_style)\n",
    "\n",
    "#styles_data"
   ]
  },
  {
   "cell_type": "code",
   "execution_count": 40,
   "metadata": {},
   "outputs": [],
   "source": [
    "#Sub_Style List\n",
    "sub_style_data= []\n",
    "for styles in data['data']:\n",
    "        sub_style_data.append(styles['name'])\n",
    "#sub_style_data"
   ]
  },
  {
   "cell_type": "code",
   "execution_count": 41,
   "metadata": {},
   "outputs": [],
   "source": [
    "#Style_Ids\n",
    "style_ids = []\n",
    "for styles in data['data']:\n",
    "        style_ids.append(styles['id'])\n",
    "#style_ids\n"
   ]
  },
  {
   "cell_type": "code",
   "execution_count": 42,
   "metadata": {
    "scrolled": true
   },
   "outputs": [],
   "source": [
    "#DataFrame of Styles \n",
    "styles_dict ={\"style_id\":style_ids,\n",
    "              \"Super Style\":styles_data,\n",
    "              \"Style\":sub_style_data}\n",
    "styles_df=pd.DataFrame(styles_dict)\n",
    "#styles_df"
   ]
  },
  {
   "cell_type": "code",
   "execution_count": 43,
   "metadata": {},
   "outputs": [],
   "source": [
    "#Beers we are getting from Aaaron"
   ]
  },
  {
   "cell_type": "code",
   "execution_count": 44,
   "metadata": {},
   "outputs": [],
   "source": [
    "#ingredients = ap.get_data(endpoint=\"ingredients\")\n",
    "#ingredients"
   ]
  },
  {
   "cell_type": "code",
   "execution_count": 45,
   "metadata": {},
   "outputs": [],
   "source": [
    "#yeast = ap.get_data(endpoint=\"yeasts\")\n",
    "#yeast"
   ]
  },
  {
   "cell_type": "code",
   "execution_count": 46,
   "metadata": {},
   "outputs": [],
   "source": [
    "#beers = ap.get_data(endpoint=\"beers\",custom=\"&withIngredients=Y\")\n",
    "#beers"
   ]
  },
  {
   "cell_type": "code",
   "execution_count": 47,
   "metadata": {
    "scrolled": true
   },
   "outputs": [],
   "source": [
    "beers_data=pd.read_csv(\"beers.csv\")\n",
    "#beers_data.head() "
   ]
  },
  {
   "cell_type": "code",
   "execution_count": 48,
   "metadata": {},
   "outputs": [],
   "source": [
    "beer_style_df = pd.merge(styles_df,beers_data,on=\"style_id\",how=\"outer\")\n",
    "#beer_style_df.head()"
   ]
  },
  {
   "cell_type": "code",
   "execution_count": 49,
   "metadata": {},
   "outputs": [],
   "source": [
    "beer_style_df.to_csv('style_plus_beer.csv')\n",
    "#beer_style_df"
   ]
  },
  {
   "cell_type": "code",
   "execution_count": 50,
   "metadata": {},
   "outputs": [],
   "source": [
    "style_analysis_table = beer_style_df[[\"Super Style\",\"Style\",\"abv\",\"organic\",\"retired\"]]\n",
    "#style_analysis_table"
   ]
  },
  {
   "cell_type": "code",
   "execution_count": 51,
   "metadata": {},
   "outputs": [],
   "source": [
    "bins = [0,4,6,8]\n",
    "bin_names = [\"Hiding\",\"Just Dance\",\"Broke Up\"]"
   ]
  },
  {
   "cell_type": "code",
   "execution_count": 52,
   "metadata": {},
   "outputs": [
    {
     "name": "stderr",
     "output_type": "stream",
     "text": [
      "C:\\Users\\atcga\\Anaconda3\\lib\\site-packages\\ipykernel_launcher.py:1: SettingWithCopyWarning: \n",
      "A value is trying to be set on a copy of a slice from a DataFrame.\n",
      "Try using .loc[row_indexer,col_indexer] = value instead\n",
      "\n",
      "See the caveats in the documentation: http://pandas.pydata.org/pandas-docs/stable/indexing.html#indexing-view-versus-copy\n",
      "  \"\"\"Entry point for launching an IPython kernel.\n"
     ]
    }
   ],
   "source": [
    "style_analysis_table[\"Game Plan\"]=pd.cut(style_analysis_table[\"abv\"],bins,labels=bin_names)\n",
    "#style_analysis_table"
   ]
  },
  {
   "cell_type": "code",
   "execution_count": 53,
   "metadata": {},
   "outputs": [
    {
     "data": {
      "text/plain": [
       "Super Style\n",
       "Belgian And French Origin Ales    104\n",
       "British Origin Ales               101\n",
       "European-germanic Lager            49\n",
       "German Origin Ales                 44\n",
       "Hybrid/mixed Beer                 157\n",
       "International Ale Styles            3\n",
       "International Styles                4\n",
       "Irish Origin Ales                  21\n",
       "Malternative Beverages             12\n",
       "Mead, Cider, & Perry               18\n",
       "North American Lager              100\n",
       "North American Origin Ales        525\n",
       "Other Lager                         4\n",
       "Other Origin                        3\n",
       "Name: Style, dtype: int64"
      ]
     },
     "execution_count": 53,
     "metadata": {},
     "output_type": "execute_result"
    }
   ],
   "source": [
    "grouped_df = style_analysis_table.groupby(['Super Style'])\n",
    "grouped_df.count()[\"Style\"]"
   ]
  },
  {
   "cell_type": "code",
   "execution_count": 54,
   "metadata": {},
   "outputs": [],
   "source": [
    "# need to do ttest and pvalaue, we need to explain why we used the pvalue we chose"
   ]
  },
  {
   "cell_type": "code",
   "execution_count": 55,
   "metadata": {},
   "outputs": [
    {
     "data": {
      "text/plain": [
       "Super Style                     Style                                                     \n",
       "Belgian And French Origin Ales  Belgian-Style Blonde Ale                                         [N]\n",
       "                                Belgian-Style Dark Strong Ale                                    [N]\n",
       "                                Belgian-Style Dubbel                                             [N]\n",
       "                                Belgian-Style Flanders Oud Bruin or Oud Red Ales                 [N]\n",
       "                                Belgian-Style Fruit Lambic                                       [N]\n",
       "                                Belgian-Style Gueuze Lambic                                    [nan]\n",
       "                                Belgian-Style Lambic                                           [nan]\n",
       "                                Belgian-Style Pale Ale                                        [N, Y]\n",
       "                                Belgian-Style Pale Strong Ale                                    [N]\n",
       "                                Belgian-Style Quadrupel                                          [N]\n",
       "                                Belgian-Style Table Beer                                         [N]\n",
       "                                Belgian-Style Tripel                                             [N]\n",
       "                                Belgian-Style White (or Wit) / Belgian-Style Wheat            [N, Y]\n",
       "                                French & Belgian-Style Saison                                 [N, Y]\n",
       "                                French-Style Bière de Garde                                      [N]\n",
       "                                Other Belgian-Style Ales                                         [N]\n",
       "British Origin Ales             British-Style Barley Wine Ale                                    [N]\n",
       "                                British-Style Imperial Stout                                     [N]\n",
       "                                Brown Porter                                                  [N, Y]\n",
       "                                Classic English-Style Pale Ale                                   [N]\n",
       "                                Contemporary Gose                                                [N]\n",
       "                                Double Red Ale                                                 [nan]\n",
       "                                English-Style Brown Ale                                          [N]\n",
       "                                English-Style Dark Mild Ale                                      [N]\n",
       "                                English-Style India Pale Ale                                     [N]\n",
       "                                English-Style Pale Mild Ale                                      [N]\n",
       "                                English-Style Summer Ale                                       [nan]\n",
       "                                Extra Special Bitter                                          [N, Y]\n",
       "                                Oatmeal Stout                                                 [N, Y]\n",
       "                                Old Ale                                                          [N]\n",
       "                                                                                               ...  \n",
       "North American Lager            Contemporary American-Style Pilsener                           [nan]\n",
       "North American Origin Ales      American-Style Amber/Red Ale                                     [N]\n",
       "                                American-Style Barley Wine Ale                                   [N]\n",
       "                                American-Style Black Ale                                      [N, Y]\n",
       "                                American-Style Brown Ale                                      [Y, N]\n",
       "                                American-Style Imperial Porter                                [N, Y]\n",
       "                                American-Style Imperial Stout                                    [N]\n",
       "                                American-Style India Pale Ale                                 [N, Y]\n",
       "                                American-Style Pale Ale                                       [N, Y]\n",
       "                                American-Style Sour Ale                                       [N, Y]\n",
       "                                American-Style Stout                                          [N, Y]\n",
       "                                American-Style Strong Pale Ale                                   [N]\n",
       "                                American-Style Wheat Wine Ale                                    [N]\n",
       "                                Dark American-Belgo-Style Ale                                    [N]\n",
       "                                Fresh \"Wet\" Hop Ale                                              [N]\n",
       "                                Golden or Blonde Ale                                          [N, Y]\n",
       "                                Imperial Red Ale                                              [N, Y]\n",
       "                                Imperial or Double India Pale Ale                                [N]\n",
       "                                Juicy or Hazy Imperial or Double India Pale Ale                [nan]\n",
       "                                Juicy or Hazy India Pale Ale                                     [N]\n",
       "                                Juicy or Hazy Pale Ale                                         [nan]\n",
       "                                Pale American-Belgo-Style Ale                                    [N]\n",
       "                                Session India Pale Ale                                           [N]\n",
       "                                Smoke Porter                                                     [N]\n",
       "                                Specialty Stouts                                                 [N]\n",
       "Other Lager                     Australasian, Latin American or Tropical-Style Light Lager       [N]\n",
       "                                Baltic-Style Porter                                           [N, Y]\n",
       "Other Origin                    Classic Australian-Style Pale Ale                              [nan]\n",
       "                                Dutch-Style Kuit, Kuyt or Koyt                                 [nan]\n",
       "                                Grodziskie                                                     [nan]\n",
       "Name: organic, Length: 175, dtype: object"
      ]
     },
     "execution_count": 55,
     "metadata": {},
     "output_type": "execute_result"
    }
   ],
   "source": [
    "#grouped_df.loc[:, [\"organic\", \"N\"]].head()\n",
    "#grouped_df = pd.DataFrame({'organic':list('N')})\n",
    "#grouped_df.groupby('Super Style').count()\n",
    "#grouped_df['freq'] = grouped_df.groupby('N')['organic'].transform('count')\n",
    "#[grouped_df[N].value_counts() for N in list(grouped_df.select_dtypes(include=['N']).columns)]\n",
    "super_df = style_analysis_table.groupby(['Super Style',\"Style\"])\n",
    "super_df[\"organic\"].unique()\n"
   ]
  },
  {
   "cell_type": "code",
   "execution_count": 56,
   "metadata": {},
   "outputs": [
    {
     "data": {
      "text/plain": [
       "Super Style                     organic\n",
       "Belgian And French Origin Ales  N           93\n",
       "                                Y            9\n",
       "British Origin Ales             N           88\n",
       "                                Y            9\n",
       "European-germanic Lager         N           43\n",
       "                                Y            2\n",
       "German Origin Ales              N           34\n",
       "                                Y            5\n",
       "Hybrid/mixed Beer               N          127\n",
       "                                Y           20\n",
       "International Ale Styles        N            2\n",
       "International Styles            N            2\n",
       "                                Y            1\n",
       "Irish Origin Ales               N           21\n",
       "Malternative Beverages          N           11\n",
       "Mead, Cider, & Perry            N            3\n",
       "North American Lager            N           93\n",
       "                                Y            4\n",
       "North American Origin Ales      N          493\n",
       "                                Y           30\n",
       "Other Lager                     N            3\n",
       "                                Y            1\n",
       "Name: organic, dtype: int64"
      ]
     },
     "execution_count": 56,
     "metadata": {},
     "output_type": "execute_result"
    }
   ],
   "source": [
    "super_df = style_analysis_table.groupby(['Super Style'])\n",
    "super_df[\"organic\"].value_counts()"
   ]
  },
  {
   "cell_type": "code",
   "execution_count": 57,
   "metadata": {},
   "outputs": [
    {
     "data": {
      "text/plain": [
       "Super Style                     retired\n",
       "Belgian And French Origin Ales  N           98\n",
       "                                Y            4\n",
       "British Origin Ales             N           92\n",
       "                                Y            5\n",
       "European-germanic Lager         N           40\n",
       "                                Y            5\n",
       "German Origin Ales              N           38\n",
       "                                Y            1\n",
       "Hybrid/mixed Beer               N          146\n",
       "                                Y            1\n",
       "International Ale Styles        N            2\n",
       "International Styles            N            3\n",
       "Irish Origin Ales               N           21\n",
       "Malternative Beverages          N           11\n",
       "Mead, Cider, & Perry            N            3\n",
       "North American Lager            N           95\n",
       "                                Y            2\n",
       "North American Origin Ales      N          515\n",
       "                                Y            8\n",
       "Other Lager                     N            3\n",
       "                                Y            1\n",
       "Name: retired, dtype: int64"
      ]
     },
     "execution_count": 57,
     "metadata": {},
     "output_type": "execute_result"
    }
   ],
   "source": [
    "super_df = style_analysis_table.groupby(['Super Style'])\n",
    "retired= super_df[\"retired\"].value_counts()\n",
    "retired"
   ]
  },
  {
   "cell_type": "code",
   "execution_count": null,
   "metadata": {},
   "outputs": [],
   "source": []
  },
  {
   "cell_type": "code",
   "execution_count": 58,
   "metadata": {},
   "outputs": [],
   "source": [
    "#! pip install plotly --upgrade"
   ]
  },
  {
   "cell_type": "code",
   "execution_count": 59,
   "metadata": {},
   "outputs": [],
   "source": [
    "import plotly.plotly as py\n",
    "import plotly.graph_objs as go"
   ]
  },
  {
   "cell_type": "code",
   "execution_count": 74,
   "metadata": {},
   "outputs": [
    {
     "name": "stdout",
     "output_type": "stream",
     "text": [
      "Collecting graphviz\n",
      "  Downloading https://files.pythonhosted.org/packages/1f/e2/ef2581b5b86625657afd32030f90cf2717456c1d2b711ba074bf007c0f1a/graphviz-0.10.1-py2.py3-none-any.whl\n",
      "Installing collected packages: graphviz\n",
      "Successfully installed graphviz-0.10.1\n"
     ]
    }
   ],
   "source": [
    "#!pip install igraph\n",
    "#!pip uninstall igraph\n",
    "#!pip install --user numpy scipy matplotlib ipython jupyter pandas sympy nose\n",
    "#!pip install -U scikit-learn\n",
    "#!pip install yellowbrick\n",
    "!pip install graphviz\n",
    "#!pip install radial\n",
    "#!pip install pylab\n",
    "#!pip install radial_visualizer\n",
    "#!pip install radial_grouper"
   ]
  },
  {
   "cell_type": "code",
   "execution_count": 75,
   "metadata": {},
   "outputs": [
    {
     "ename": "DeprecationWarning",
     "evalue": "To avoid name collision with the igraph project, this visualization library has been renamed to 'jgraph'. Please upgrade when convenient.",
     "output_type": "error",
     "traceback": [
      "\u001b[1;31m---------------------------------------------------------------------------\u001b[0m",
      "\u001b[1;31mDeprecationWarning\u001b[0m                        Traceback (most recent call last)",
      "\u001b[1;32m<ipython-input-75-1dc5ec994c8e>\u001b[0m in \u001b[0;36m<module>\u001b[1;34m()\u001b[0m\n\u001b[1;32m----> 1\u001b[1;33m \u001b[1;32mimport\u001b[0m \u001b[0migraph\u001b[0m\u001b[1;33m\u001b[0m\u001b[0m\n\u001b[0m\u001b[0;32m      2\u001b[0m \u001b[1;32mfrom\u001b[0m \u001b[0migraph\u001b[0m \u001b[1;32mimport\u001b[0m \u001b[1;33m*\u001b[0m\u001b[1;33m\u001b[0m\u001b[0m\n\u001b[0;32m      3\u001b[0m \u001b[0migraph\u001b[0m\u001b[1;33m.\u001b[0m\u001b[0m__version__\u001b[0m\u001b[1;33m\u001b[0m\u001b[0m\n",
      "\u001b[1;32m~\\Anaconda3\\lib\\site-packages\\igraph\\__init__.py\u001b[0m in \u001b[0;36m<module>\u001b[1;34m()\u001b[0m\n\u001b[0;32m      6\u001b[0m \u001b[0m__license__\u001b[0m \u001b[1;33m=\u001b[0m \u001b[1;34m\"MIT\"\u001b[0m\u001b[1;33m\u001b[0m\u001b[0m\n\u001b[0;32m      7\u001b[0m \u001b[1;33m\u001b[0m\u001b[0m\n\u001b[1;32m----> 8\u001b[1;33m raise DeprecationWarning(\"To avoid name collision with the igraph project, \"\n\u001b[0m\u001b[0;32m      9\u001b[0m                          \u001b[1;34m\"this visualization library has been renamed to \"\u001b[0m\u001b[1;33m\u001b[0m\u001b[0m\n\u001b[0;32m     10\u001b[0m                          \"'jgraph'. Please upgrade when convenient.\")\n",
      "\u001b[1;31mDeprecationWarning\u001b[0m: To avoid name collision with the igraph project, this visualization library has been renamed to 'jgraph'. Please upgrade when convenient."
     ]
    }
   ],
   "source": [
    "import igraph\n",
    "from igraph import *\n",
    "igraph.__version__"
   ]
  },
  {
   "cell_type": "code",
   "execution_count": 72,
   "metadata": {},
   "outputs": [
    {
     "ename": "ModuleNotFoundError",
     "evalue": "No module named 'tree'",
     "output_type": "error",
     "traceback": [
      "\u001b[1;31m---------------------------------------------------------------------------\u001b[0m",
      "\u001b[1;31mModuleNotFoundError\u001b[0m                       Traceback (most recent call last)",
      "\u001b[1;32m<ipython-input-72-7a47c1ce16c4>\u001b[0m in \u001b[0;36m<module>\u001b[1;34m()\u001b[0m\n\u001b[0;32m      3\u001b[0m \u001b[1;32mimport\u001b[0m \u001b[0msklearn\u001b[0m\u001b[1;33m.\u001b[0m\u001b[0mimpute\u001b[0m\u001b[1;33m\u001b[0m\u001b[0m\n\u001b[0;32m      4\u001b[0m \u001b[1;32mimport\u001b[0m \u001b[0msklearn\u001b[0m\u001b[1;33m\u001b[0m\u001b[0m\n\u001b[1;32m----> 5\u001b[1;33m \u001b[1;32mimport\u001b[0m \u001b[0mtree\u001b[0m\u001b[1;33m\u001b[0m\u001b[0m\n\u001b[0m\u001b[0;32m      6\u001b[0m \u001b[1;32mfrom\u001b[0m \u001b[0myellowbrick\u001b[0m\u001b[1;33m.\u001b[0m\u001b[0mfeatures\u001b[0m \u001b[1;32mimport\u001b[0m \u001b[0mRadViz\u001b[0m\u001b[1;33m\u001b[0m\u001b[0m\n\u001b[0;32m      7\u001b[0m \u001b[1;32mimport\u001b[0m \u001b[0mscipy\u001b[0m\u001b[1;33m.\u001b[0m\u001b[0mcluster\u001b[0m\u001b[1;33m.\u001b[0m\u001b[0mhierarchy\u001b[0m \u001b[1;32mas\u001b[0m \u001b[0msch\u001b[0m\u001b[1;33m\u001b[0m\u001b[0m\n",
      "\u001b[1;31mModuleNotFoundError\u001b[0m: No module named 'tree'"
     ]
    }
   ],
   "source": [
    "from numpy import r_, ones, pi, sort\n",
    "import numpy.random \n",
    "import sklearn.impute\n",
    "import sklearn\n",
    "]from yellowbrick.features import RadViz\n",
    "import scipy.cluster.hierarchy as sch\n",
    "from scipy.spatial.distance import squareform\n",
    "#import radial_grouper\n",
    "#import radial_visualizer \n",
    "import pylab #import axis, figure, plot #,subplo\n",
    "from sklearn import tree\n",
    "import matplotlib.pyplot as plt"
   ]
  },
  {
   "cell_type": "code",
   "execution_count": 79,
   "metadata": {},
   "outputs": [
    {
     "ename": "ExecutableNotFound",
     "evalue": "failed to execute ['dot', '-Tpdf', '-O', 'iris'], make sure the Graphviz executables are on your systems' PATH",
     "output_type": "error",
     "traceback": [
      "\u001b[1;31m---------------------------------------------------------------------------\u001b[0m",
      "\u001b[1;31mFileNotFoundError\u001b[0m                         Traceback (most recent call last)",
      "\u001b[1;32m~\\Anaconda3\\lib\\site-packages\\graphviz\\backend.py\u001b[0m in \u001b[0;36mrun\u001b[1;34m(cmd, input, capture_output, check, quiet, **kwargs)\u001b[0m\n\u001b[0;32m    146\u001b[0m     \u001b[1;32mtry\u001b[0m\u001b[1;33m:\u001b[0m\u001b[1;33m\u001b[0m\u001b[0m\n\u001b[1;32m--> 147\u001b[1;33m         \u001b[0mproc\u001b[0m \u001b[1;33m=\u001b[0m \u001b[0msubprocess\u001b[0m\u001b[1;33m.\u001b[0m\u001b[0mPopen\u001b[0m\u001b[1;33m(\u001b[0m\u001b[0mcmd\u001b[0m\u001b[1;33m,\u001b[0m \u001b[0mstartupinfo\u001b[0m\u001b[1;33m=\u001b[0m\u001b[0mget_startupinfo\u001b[0m\u001b[1;33m(\u001b[0m\u001b[1;33m)\u001b[0m\u001b[1;33m,\u001b[0m \u001b[1;33m**\u001b[0m\u001b[0mkwargs\u001b[0m\u001b[1;33m)\u001b[0m\u001b[1;33m\u001b[0m\u001b[0m\n\u001b[0m\u001b[0;32m    148\u001b[0m     \u001b[1;32mexcept\u001b[0m \u001b[0mOSError\u001b[0m \u001b[1;32mas\u001b[0m \u001b[0me\u001b[0m\u001b[1;33m:\u001b[0m\u001b[1;33m\u001b[0m\u001b[0m\n",
      "\u001b[1;32m~\\Anaconda3\\lib\\subprocess.py\u001b[0m in \u001b[0;36m__init__\u001b[1;34m(self, args, bufsize, executable, stdin, stdout, stderr, preexec_fn, close_fds, shell, cwd, env, universal_newlines, startupinfo, creationflags, restore_signals, start_new_session, pass_fds, encoding, errors, text)\u001b[0m\n\u001b[0;32m    755\u001b[0m                                 \u001b[0merrread\u001b[0m\u001b[1;33m,\u001b[0m \u001b[0merrwrite\u001b[0m\u001b[1;33m,\u001b[0m\u001b[1;33m\u001b[0m\u001b[0m\n\u001b[1;32m--> 756\u001b[1;33m                                 restore_signals, start_new_session)\n\u001b[0m\u001b[0;32m    757\u001b[0m         \u001b[1;32mexcept\u001b[0m\u001b[1;33m:\u001b[0m\u001b[1;33m\u001b[0m\u001b[0m\n",
      "\u001b[1;32m~\\Anaconda3\\lib\\subprocess.py\u001b[0m in \u001b[0;36m_execute_child\u001b[1;34m(self, args, executable, preexec_fn, close_fds, pass_fds, cwd, env, startupinfo, creationflags, shell, p2cread, p2cwrite, c2pread, c2pwrite, errread, errwrite, unused_restore_signals, unused_start_new_session)\u001b[0m\n\u001b[0;32m   1154\u001b[0m                                          \u001b[0mos\u001b[0m\u001b[1;33m.\u001b[0m\u001b[0mfspath\u001b[0m\u001b[1;33m(\u001b[0m\u001b[0mcwd\u001b[0m\u001b[1;33m)\u001b[0m \u001b[1;32mif\u001b[0m \u001b[0mcwd\u001b[0m \u001b[1;32mis\u001b[0m \u001b[1;32mnot\u001b[0m \u001b[1;32mNone\u001b[0m \u001b[1;32melse\u001b[0m \u001b[1;32mNone\u001b[0m\u001b[1;33m,\u001b[0m\u001b[1;33m\u001b[0m\u001b[0m\n\u001b[1;32m-> 1155\u001b[1;33m                                          startupinfo)\n\u001b[0m\u001b[0;32m   1156\u001b[0m             \u001b[1;32mfinally\u001b[0m\u001b[1;33m:\u001b[0m\u001b[1;33m\u001b[0m\u001b[0m\n",
      "\u001b[1;31mFileNotFoundError\u001b[0m: [WinError 2] The system cannot find the file specified",
      "\nDuring handling of the above exception, another exception occurred:\n",
      "\u001b[1;31mExecutableNotFound\u001b[0m                        Traceback (most recent call last)",
      "\u001b[1;32m<ipython-input-79-e44ce7bedecc>\u001b[0m in \u001b[0;36m<module>\u001b[1;34m()\u001b[0m\n\u001b[0;32m      8\u001b[0m \u001b[0mdot_data\u001b[0m \u001b[1;33m=\u001b[0m \u001b[0mtree\u001b[0m\u001b[1;33m.\u001b[0m\u001b[0mexport_graphviz\u001b[0m\u001b[1;33m(\u001b[0m\u001b[0mclf\u001b[0m\u001b[1;33m,\u001b[0m \u001b[0mout_file\u001b[0m\u001b[1;33m=\u001b[0m\u001b[1;32mNone\u001b[0m\u001b[1;33m)\u001b[0m\u001b[1;33m\u001b[0m\u001b[0m\n\u001b[0;32m      9\u001b[0m \u001b[0mgraph\u001b[0m \u001b[1;33m=\u001b[0m \u001b[0mgraphviz\u001b[0m\u001b[1;33m.\u001b[0m\u001b[0mSource\u001b[0m\u001b[1;33m(\u001b[0m\u001b[0mdot_data\u001b[0m\u001b[1;33m)\u001b[0m\u001b[1;33m\u001b[0m\u001b[0m\n\u001b[1;32m---> 10\u001b[1;33m \u001b[0mgraph\u001b[0m\u001b[1;33m.\u001b[0m\u001b[0mrender\u001b[0m\u001b[1;33m(\u001b[0m\u001b[1;34m\"iris\"\u001b[0m\u001b[1;33m)\u001b[0m\u001b[1;33m\u001b[0m\u001b[0m\n\u001b[0m",
      "\u001b[1;32m~\\Anaconda3\\lib\\site-packages\\graphviz\\files.py\u001b[0m in \u001b[0;36mrender\u001b[1;34m(self, filename, directory, view, cleanup, format, renderer, formatter)\u001b[0m\n\u001b[0;32m    186\u001b[0m             \u001b[0mformat\u001b[0m \u001b[1;33m=\u001b[0m \u001b[0mself\u001b[0m\u001b[1;33m.\u001b[0m\u001b[0m_format\u001b[0m\u001b[1;33m\u001b[0m\u001b[0m\n\u001b[0;32m    187\u001b[0m \u001b[1;33m\u001b[0m\u001b[0m\n\u001b[1;32m--> 188\u001b[1;33m         \u001b[0mrendered\u001b[0m \u001b[1;33m=\u001b[0m \u001b[0mbackend\u001b[0m\u001b[1;33m.\u001b[0m\u001b[0mrender\u001b[0m\u001b[1;33m(\u001b[0m\u001b[0mself\u001b[0m\u001b[1;33m.\u001b[0m\u001b[0m_engine\u001b[0m\u001b[1;33m,\u001b[0m \u001b[0mformat\u001b[0m\u001b[1;33m,\u001b[0m \u001b[0mfilepath\u001b[0m\u001b[1;33m,\u001b[0m \u001b[0mrenderer\u001b[0m\u001b[1;33m,\u001b[0m \u001b[0mformatter\u001b[0m\u001b[1;33m)\u001b[0m\u001b[1;33m\u001b[0m\u001b[0m\n\u001b[0m\u001b[0;32m    189\u001b[0m \u001b[1;33m\u001b[0m\u001b[0m\n\u001b[0;32m    190\u001b[0m         \u001b[1;32mif\u001b[0m \u001b[0mcleanup\u001b[0m\u001b[1;33m:\u001b[0m\u001b[1;33m\u001b[0m\u001b[0m\n",
      "\u001b[1;32m~\\Anaconda3\\lib\\site-packages\\graphviz\\backend.py\u001b[0m in \u001b[0;36mrender\u001b[1;34m(engine, format, filepath, renderer, formatter, quiet)\u001b[0m\n\u001b[0;32m    181\u001b[0m     \"\"\"\n\u001b[0;32m    182\u001b[0m     \u001b[0mcmd\u001b[0m\u001b[1;33m,\u001b[0m \u001b[0mrendered\u001b[0m \u001b[1;33m=\u001b[0m \u001b[0mcommand\u001b[0m\u001b[1;33m(\u001b[0m\u001b[0mengine\u001b[0m\u001b[1;33m,\u001b[0m \u001b[0mformat\u001b[0m\u001b[1;33m,\u001b[0m \u001b[0mfilepath\u001b[0m\u001b[1;33m,\u001b[0m \u001b[0mrenderer\u001b[0m\u001b[1;33m,\u001b[0m \u001b[0mformatter\u001b[0m\u001b[1;33m)\u001b[0m\u001b[1;33m\u001b[0m\u001b[0m\n\u001b[1;32m--> 183\u001b[1;33m     \u001b[0mrun\u001b[0m\u001b[1;33m(\u001b[0m\u001b[0mcmd\u001b[0m\u001b[1;33m,\u001b[0m \u001b[0mcapture_output\u001b[0m\u001b[1;33m=\u001b[0m\u001b[1;32mTrue\u001b[0m\u001b[1;33m,\u001b[0m \u001b[0mcheck\u001b[0m\u001b[1;33m=\u001b[0m\u001b[1;32mTrue\u001b[0m\u001b[1;33m,\u001b[0m \u001b[0mquiet\u001b[0m\u001b[1;33m=\u001b[0m\u001b[0mquiet\u001b[0m\u001b[1;33m)\u001b[0m\u001b[1;33m\u001b[0m\u001b[0m\n\u001b[0m\u001b[0;32m    184\u001b[0m     \u001b[1;32mreturn\u001b[0m \u001b[0mrendered\u001b[0m\u001b[1;33m\u001b[0m\u001b[0m\n\u001b[0;32m    185\u001b[0m \u001b[1;33m\u001b[0m\u001b[0m\n",
      "\u001b[1;32m~\\Anaconda3\\lib\\site-packages\\graphviz\\backend.py\u001b[0m in \u001b[0;36mrun\u001b[1;34m(cmd, input, capture_output, check, quiet, **kwargs)\u001b[0m\n\u001b[0;32m    148\u001b[0m     \u001b[1;32mexcept\u001b[0m \u001b[0mOSError\u001b[0m \u001b[1;32mas\u001b[0m \u001b[0me\u001b[0m\u001b[1;33m:\u001b[0m\u001b[1;33m\u001b[0m\u001b[0m\n\u001b[0;32m    149\u001b[0m         \u001b[1;32mif\u001b[0m \u001b[0me\u001b[0m\u001b[1;33m.\u001b[0m\u001b[0merrno\u001b[0m \u001b[1;33m==\u001b[0m \u001b[0merrno\u001b[0m\u001b[1;33m.\u001b[0m\u001b[0mENOENT\u001b[0m\u001b[1;33m:\u001b[0m\u001b[1;33m\u001b[0m\u001b[0m\n\u001b[1;32m--> 150\u001b[1;33m             \u001b[1;32mraise\u001b[0m \u001b[0mExecutableNotFound\u001b[0m\u001b[1;33m(\u001b[0m\u001b[0mcmd\u001b[0m\u001b[1;33m)\u001b[0m\u001b[1;33m\u001b[0m\u001b[0m\n\u001b[0m\u001b[0;32m    151\u001b[0m         \u001b[1;32melse\u001b[0m\u001b[1;33m:\u001b[0m  \u001b[1;31m# pragma: no cover\u001b[0m\u001b[1;33m\u001b[0m\u001b[0m\n\u001b[0;32m    152\u001b[0m             \u001b[1;32mraise\u001b[0m\u001b[1;33m\u001b[0m\u001b[0m\n",
      "\u001b[1;31mExecutableNotFound\u001b[0m: failed to execute ['dot', '-Tpdf', '-O', 'iris'], make sure the Graphviz executables are on your systems' PATH"
     ]
    }
   ],
   "source": [
    "from sklearn.datasets import load_iris\n",
    "from sklearn import tree\n",
    "iris = load_iris()\n",
    "clf = tree.DecisionTreeClassifier()\n",
    "clf = clf.fit(iris.data, iris.target)\n",
    "\n",
    "import graphviz \n",
    "dot_data = tree.export_graphviz(clf, out_file=None) \n",
    "graph = graphviz.Source(dot_data) \n",
    "graph.render(\"iris\") "
   ]
  },
  {
   "cell_type": "code",
   "execution_count": null,
   "metadata": {},
   "outputs": [],
   "source": []
  },
  {
   "cell_type": "code",
   "execution_count": null,
   "metadata": {},
   "outputs": [],
   "source": [
    "import pandas as pd\n",
    "from numpy import r_, ones, pi, sort\n",
    "from numpy.random import rand\n",
    "from radial_grouper import tree, pre_order, post_order\n",
    "from radial_visualizer import simple_link\n",
    "from pylab import axis, figure, plot, subplot"
   ]
  },
  {
   "cell_type": "code",
   "execution_count": null,
   "metadata": {},
   "outputs": [],
   "source": [
    "# Libraries\n",
    "library(ggraph)\n",
    "library(igraph)\n",
    "library(tidyverse)\n",
    "library(RColorBrewer) \n",
    "set.seed(1)\n",
    "\n",
    "# create a data frame giving the hierarchical structure of your individuals\n",
    "d1=data.frame(from=\"origin\", to=paste(\"group\", seq(1,10), sep=\"\"))\n",
    "d2=data.frame(from=rep(d1$to, each=10), to=paste(\"group\", seq(1,100), sep=\"_\"))\n",
    "edges=rbind(d1, d2)\n",
    " \n",
    "# create a vertices data.frame. One line per object of our hierarchy\n",
    "vertices = data.frame(\n",
    "  name = unique(c(as.character(edges$from), as.character(edges$to))) , \n",
    "  value = runif(111)\n",
    ") \n",
    "# Let's add a column with the group of each name. It will be useful later to color points\n",
    "vertices$group = edges$from[ match( vertices$name, edges$to ) ]\n",
    " \n",
    " \n",
    "#Let's add information concerning the label we are going to add: angle, horizontal adjustement and potential flip\n",
    "#calculate the ANGLE of the labels\n",
    "vertices$id=NA\n",
    "myleaves=which(is.na( match(vertices$name, edges$from) ))\n",
    "nleaves=length(myleaves)\n",
    "vertices$id[ myleaves ] = seq(1:nleaves)\n",
    "vertices$angle= 90 - 360 * vertices$id / nleaves\n",
    " \n",
    "# calculate the alignment of labels: right or left\n",
    "# If I am on the left part of the plot, my labels have currently an angle < -90\n",
    "vertices$hjust<-ifelse( vertices$angle < -90, 1, 0)\n",
    " \n",
    "# flip angle BY to make them readable\n",
    "vertices$angle<-ifelse(vertices$angle < -90, vertices$angle+180, vertices$angle)\n",
    " \n",
    "# Create a graph object\n",
    "mygraph <- graph_from_data_frame( edges, vertices=vertices )\n",
    "\n",
    "# prepare color\n",
    "mycolor <- colormap(colormap = colormaps$viridis, nshades = 6, format = \"hex\", alpha = 1, reverse = FALSE)[sample(c(1:6), 10, replace=TRUE)]\n",
    "\n",
    "# Make the plot\n",
    "ggraph(mygraph, layout = 'dendrogram', circular = TRUE) + \n",
    "  geom_edge_diagonal(colour=\"grey\") +\n",
    "  scale_edge_colour_distiller(palette = \"RdPu\") +\n",
    "  geom_node_text(aes(x = x*1.15, y=y*1.15, filter = leaf, label=name, angle = angle, hjust=hjust, colour=group), size=2.7, alpha=1) +\n",
    "  geom_node_point(aes(filter = leaf, x = x*1.07, y=y*1.07, colour=group, size=value, alpha=0.2)) +\n",
    "  scale_colour_manual(values= mycolor) +\n",
    "  scale_size_continuous( range = c(0.1,7) ) +\n",
    "  theme_void() +\n",
    "  theme(\n",
    "    legend.position=\"none\",\n",
    "    plot.margin=unit(c(0,0,0,0),\"cm\"),\n",
    "  ) +\n",
    "  expand_limits(x = c(-1.3, 1.3), y = c(-1.3, 1.3))"
   ]
  },
  {
   "cell_type": "code",
   "execution_count": null,
   "metadata": {},
   "outputs": [],
   "source": []
  },
  {
   "cell_type": "code",
   "execution_count": null,
   "metadata": {},
   "outputs": [],
   "source": []
  },
  {
   "cell_type": "code",
   "execution_count": null,
   "metadata": {},
   "outputs": [],
   "source": []
  }
 ],
 "metadata": {
  "kernelspec": {
   "display_name": "Python 3",
   "language": "python",
   "name": "python3"
  },
  "language_info": {
   "codemirror_mode": {
    "name": "ipython",
    "version": 3
   },
   "file_extension": ".py",
   "mimetype": "text/x-python",
   "name": "python",
   "nbconvert_exporter": "python",
   "pygments_lexer": "ipython3",
   "version": "3.7.0"
  }
 },
 "nbformat": 4,
 "nbformat_minor": 2
}
