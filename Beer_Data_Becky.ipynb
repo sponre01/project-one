{
 "cells": [
  {
   "cell_type": "markdown",
   "metadata": {},
   "source": [
    "# Acquiring Beer Data \n",
    "\n",
    "From Brewerydb: https://www.brewerydb.com/"
   ]
  },
  {
   "cell_type": "code",
   "execution_count": null,
   "metadata": {},
   "outputs": [],
   "source": [
    "#import dependencies\n",
    "import api_setup as ap\n",
    "from tqdm import tqdm\n",
    "import pandas as pd\n",
    "import matplotlib.pyplot as plt"
   ]
  },
  {
   "cell_type": "code",
   "execution_count": null,
   "metadata": {},
   "outputs": [],
   "source": [
    "beer_data = pd.DataFrame()\n",
    "# withBreweries and withIngredients are completely empty\n",
    "beer_features = ['id', 'name', 'nameDisplay', 'abv', 'styleId', 'year', 'glasswareId','isOrganic', 'breweries', 'glasswareId', 'isRetired', 'status', 'statusDisplay']\n",
    "\n",
    "for feature in beer_features:\n",
    "    beer_data[feature]=''\n",
    "\n",
    "count=0\n",
    "for p in tqdm(range(1,24)):\n",
    "    data = ap.get_data(page=p, custom='&withBreweries=Y&withIngredients=Y')\n",
    "    try:\n",
    "        for i in range(50):\n",
    "            for feature in beer_features:\n",
    "                if feature == 'breweries':\n",
    "                    beer_data.set_value(count,feature,data['data'][i][feature][0]['id'])\n",
    "                else:\n",
    "                    try:\n",
    "                        beer_data.set_value(count,feature,data['data'][i][feature])\n",
    "\n",
    "                    except Exception as e: \n",
    "                        print(f\"name:{data['data'][i]['name']}, page:{p}, item:{i}, feature:{feature}, error:{e}\")\n",
    "            count+=1\n",
    "    except Exception as e:\n",
    "        print(e)\n",
    "                      \n",
    "                      "
   ]
  },
  {
   "cell_type": "code",
   "execution_count": null,
   "metadata": {},
   "outputs": [],
   "source": [
    "beer_data.head()"
   ]
  },
  {
   "cell_type": "markdown",
   "metadata": {},
   "source": [
    "> we'll change the column names from camel case to snake case for better consistency in notebook"
   ]
  },
  {
   "cell_type": "code",
   "execution_count": null,
   "metadata": {},
   "outputs": [],
   "source": [
    "beer_data.rename(columns={'id':'beer_id', 'nameDisplay':'display_name','isOrganic':'organic','isRetired':'retired','breweries':'brewery_id', 'styleId':'style_id', 'glasswareId':'glass_id'}, inplace=True)"
   ]
  },
  {
   "cell_type": "code",
   "execution_count": null,
   "metadata": {},
   "outputs": [],
   "source": [
    "beer_data.drop('statusDisplay',axis=1, inplace=True)"
   ]
  },
  {
   "cell_type": "code",
   "execution_count": null,
   "metadata": {},
   "outputs": [],
   "source": [
    "beer_data.shape"
   ]
  },
  {
   "cell_type": "code",
   "execution_count": null,
   "metadata": {},
   "outputs": [],
   "source": [
    "beer_data.head()"
   ]
  },
  {
   "cell_type": "code",
   "execution_count": null,
   "metadata": {},
   "outputs": [],
   "source": [
    "beer_data.to_csv(\"data/beers.csv\")"
   ]
  },
  {
   "cell_type": "markdown",
   "metadata": {},
   "source": [
    "> we can see that there are 263 beers of the 1109 total beers that have a value for glass_id"
   ]
  },
  {
   "cell_type": "code",
   "execution_count": null,
   "metadata": {},
   "outputs": [],
   "source": [
    "beer_glass = beer_data[beer_data[\"glass_id\"].notna()]\n",
    "print(beer_glass.shape)\n",
    "beer_glass.head()"
   ]
  },
  {
   "cell_type": "markdown",
   "metadata": {},
   "source": [
    "> Below, we can see the distribution of the glasses. The majority of the beers use glass5. Because of the lack of data in several other glass_id's, it would not be safe to generalize the data over other beers/glasses"
   ]
  },
  {
   "cell_type": "code",
   "execution_count": null,
   "metadata": {},
   "outputs": [],
   "source": [
    "beer_glass.groupby('glass_id').count()['beer_id']"
   ]
  },
  {
   "cell_type": "markdown",
   "metadata": {},
   "source": [
    "> before we can create our plots, we need to clean the data and make sure that the data types are consistent with the requirements for the plot. "
   ]
  },
  {
   "cell_type": "code",
   "execution_count": null,
   "metadata": {},
   "outputs": [],
   "source": [
    "# beer_glass.info() \n",
    "# shows that all variables are categorical and abv should be turned into a float and glass_id to int to be able to plot\n",
    "beer_glass['abv'] = beer_glass['abv'].astype(float)\n",
    "beer_glass['glass_id'] = beer_glass['glass_id'].astype(int)\n",
    "beer_glass.info()"
   ]
  },
  {
   "cell_type": "code",
   "execution_count": null,
   "metadata": {},
   "outputs": [],
   "source": [
    "abv_glass = beer_glass.boxplot('abv', \"glass_id\")\n",
    "abv_glass"
   ]
  },
  {
   "cell_type": "code",
   "execution_count": null,
   "metadata": {},
   "outputs": [],
   "source": [
    "abv_data = beer_data[beer_data[\"abv\"].notna()]\n",
    "abv_data['abv']=pd.to_numeric(abv_data['abv'])\n",
    "# print(abv_data.shape)\n",
    "# abv_data.head()\n",
    "\n",
    "avg_abv = abv_data['abv'].mean()\n",
    "avg_abv = '{0:.3}'.format(avg_abv)"
   ]
  },
  {
   "cell_type": "code",
   "execution_count": null,
   "metadata": {},
   "outputs": [],
   "source": [
    "#Make a histogram\n",
    "plt.hist(abv_data['abv'], bins=40)\n",
    "\n",
    "#Chart elements\n",
    "plt.title(f\"Alcohol by Volume Distribution for All Beers\")\n",
    "plt.xlabel('abv (%)')\n",
    "plt.ylabel('Number of Beers')\n",
    "plt.grid(False)\n",
    "plt.text(12, 100, f\"Mean: {avg_abv} % abv\", bbox=dict(facecolor='yellow', alpha=0.5), fontsize=11)\n",
    "\n",
    "#Save and print\n",
    "plt.savefig(\"images/Alcohol by Volume Distribution for All Beers.png\")\n",
    "plt.show()"
   ]
  },
  {
   "cell_type": "code",
   "execution_count": null,
   "metadata": {},
   "outputs": [],
   "source": []
  }
 ],
 "metadata": {
  "kernelspec": {
   "display_name": "Python 3",
   "language": "python",
   "name": "python3"
  },
  "language_info": {
   "codemirror_mode": {
    "name": "ipython",
    "version": 3
   },
   "file_extension": ".py",
   "mimetype": "text/x-python",
   "name": "python",
   "nbconvert_exporter": "python",
   "pygments_lexer": "ipython3",
   "version": "3.7.0"
  }
 },
 "nbformat": 4,
 "nbformat_minor": 2
}
