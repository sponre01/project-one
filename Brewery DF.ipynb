{
 "cells": [
  {
   "cell_type": "markdown",
   "metadata": {},
   "source": [
    "# Import Dependencies"
   ]
  },
  {
   "cell_type": "code",
   "execution_count": null,
   "metadata": {},
   "outputs": [],
   "source": [
    "from config import api_key\n",
    "import matplotlib.pyplot as plt\n",
    "import pandas as pd\n",
    "import numpy as np\n",
    "import requests\n",
    "import datetime\n",
    "import json"
   ]
  },
  {
   "cell_type": "markdown",
   "metadata": {},
   "source": [
    "# Use API to get .json"
   ]
  },
  {
   "cell_type": "code",
   "execution_count": null,
   "metadata": {},
   "outputs": [],
   "source": [
    "endpoint = 'breweries'\n",
    "page = 1\n",
    "url = f\"https://sandbox-api.brewerydb.com/v2/{endpoint}/?key={api_key}&p={page}&withLocations=Y&withSocialAccounts=Y\"\n",
    "brewery_data = requests.get(url).json()\n",
    "#print(json.dumps(brewery_data, indent=4, sort_keys=True))"
   ]
  },
  {
   "cell_type": "markdown",
   "metadata": {},
   "source": [
    "# Create DataFrame"
   ]
  },
  {
   "cell_type": "markdown",
   "metadata": {},
   "source": [
    "- Initially, we pull just a few interesting columns for the dataframe, most importantly, the established dates and lat/lon coordinates for each brewery\n",
    "- We will add distance columns later after doing some math\n",
    "- Change the Established Date column to numeric in order to use in the scatter plot"
   ]
  },
  {
   "cell_type": "code",
   "execution_count": null,
   "metadata": {},
   "outputs": [],
   "source": [
    "brewery_dict = []\n",
    "\n",
    "for result in range(0,19):\n",
    "    try:         \n",
    "        brewery_info = {\n",
    "            'Brewery Name': brewery_data['data'][result]['name'],\n",
    "            'Brewery ID': brewery_data['data'][result]['id'], \n",
    "            'Established Date': brewery_data['data'][result]['established'],           \n",
    "            'Is in business?': brewery_data['data'][result]['isInBusiness'], \n",
    "            'Website': brewery_data['data'][result]['website'],\n",
    "            'Country': brewery_data['data'][result]['locations'][0]['country']['isoCode'],\n",
    "            'City':brewery_data['data'][result]['locations'][0]['locality'],\n",
    "            'Latitude':brewery_data['data'][result]['locations'][0]['latitude'],\n",
    "            'Longitude':brewery_data['data'][result]['locations'][0]['longitude'],\n",
    "            'Primary Location':brewery_data['data'][result]['locations'][0]['isPrimary'],\n",
    "            'Distance from Chicago (km)':'',\n",
    "            'Distance from Pottsville (km)':''\n",
    "                       }      \n",
    "    except:\n",
    "        print('id not found')\n",
    "    brewery_dict.append(brewery_info)"
   ]
  },
  {
   "cell_type": "code",
   "execution_count": null,
   "metadata": {},
   "outputs": [],
   "source": [
    "brewery_df = pd.DataFrame(brewery_dict)\n",
    "brewery_df['Established Date']=pd.to_numeric(brewery_df['Established Date'])\n",
    "#brewery_df"
   ]
  },
  {
   "cell_type": "markdown",
   "metadata": {},
   "source": [
    "# Determine Distances from Chicago"
   ]
  },
  {
   "cell_type": "markdown",
   "metadata": {},
   "source": [
    "- use geopy to determine distances via lat/long data\n",
    "- Chicago is one of the hot-spots for early American breweries, made possible by the German immigrant community\n",
    "- Pottsville (Becky's hometown) is home to the oldest brewery in America - Yeungling!\n",
    "- update the dataframe, clean it and export as a csv"
   ]
  },
  {
   "cell_type": "code",
   "execution_count": null,
   "metadata": {},
   "outputs": [],
   "source": [
    "#!pip install geopy"
   ]
  },
  {
   "cell_type": "code",
   "execution_count": null,
   "metadata": {},
   "outputs": [],
   "source": [
    "import geopy.distance\n",
    "\n",
    "Chi_coords = (41.8781, -87.6298)\n",
    "Pottsville_coords = (40.6856, -76.1955)\n",
    "\n",
    "for x in range(0,19):\n",
    "    Brewery_coords = (brewery_df['Latitude'][x], brewery_df['Longitude'][x])\n",
    "    brewery_df['Distance from Chicago (km)'][x] = geopy.distance.distance(Chi_coords, Brewery_coords).km\n",
    "    brewery_df['Distance from Pottsville (km)'][x] = geopy.distance.distance(Pottsville_coords, Brewery_coords).km"
   ]
  },
  {
   "cell_type": "code",
   "execution_count": null,
   "metadata": {},
   "outputs": [],
   "source": [
    "brewery_df = brewery_df.drop_duplicates(subset=['Brewery ID'], keep='first')\n",
    "\n",
    "brewery_df"
   ]
  },
  {
   "cell_type": "code",
   "execution_count": null,
   "metadata": {},
   "outputs": [],
   "source": [
    "brewery_df.to_csv(\"data/brewery_data.csv\", encoding=\"utf-8\", index=False)"
   ]
  },
  {
   "cell_type": "markdown",
   "metadata": {},
   "source": [
    "# Figures"
   ]
  },
  {
   "cell_type": "markdown",
   "metadata": {},
   "source": [
    "- I expect a greater number of older breweries closer to Chicago, given that some of the first instances of brewing in America occured here.\n",
    "- With such few breweries available for free (boo sandbox), the scatter plot looks a little sparse. However, the general trend gives us preliminary data that shows that there may be a coorlation! If I wanted to do more with this, this would be good enough to convince me to splurge the $20 for full access\n",
    "\n",
    "- plot for Pottsville is just for fun"
   ]
  },
  {
   "cell_type": "code",
   "execution_count": null,
   "metadata": {},
   "outputs": [],
   "source": [
    "#Chicago\n",
    "plt.scatter(brewery_df['Distance from Chicago (km)'], brewery_df['Established Date'], \n",
    "            alpha=0.5, edgecolor ='black', color=\"blue\",s=100)\n",
    "\n",
    "#Chart elements\n",
    "plt.title(f\"Distance from Chicago vs. Established Year\")\n",
    "plt.xlabel('Distance from Chicago (km)')\n",
    "plt.ylabel('Established Year')\n",
    "plt.grid(True)\n",
    "\n",
    "#Save and print\n",
    "plt.savefig(\"images/Distance from Chicago vs. Established Year.png\")\n",
    "plt.show()"
   ]
  },
  {
   "cell_type": "code",
   "execution_count": null,
   "metadata": {},
   "outputs": [],
   "source": [
    "#Pottsville\n",
    "plt.scatter(brewery_df['Distance from Pottsville (km)'], brewery_df['Established Date'], alpha=0.5, edgecolor ='black', color=\"red\",s=100)\n",
    "\n",
    "#Chart elements\n",
    "plt.title(f\"Distance from Pottsville vs. Established Year\")\n",
    "plt.xlabel('Distance from Pottsville (km)')\n",
    "plt.ylabel('Established Year')\n",
    "plt.grid(True)\n",
    "\n",
    "#Save and print\n",
    "#plt.savefig(\"images/Distance from Pottsville vs. Established Year.png\")\n",
    "plt.show()"
   ]
  },
  {
   "cell_type": "code",
   "execution_count": null,
   "metadata": {},
   "outputs": [],
   "source": [
    "#Empty Plot\n",
    "plt.scatter(brewery_df['Distance from Chicago (km)'], brewery_df['Established Date'], alpha=0.5, edgecolor ='none', color=\"none\",s=100)\n",
    "\n",
    "#Chart elements\n",
    "plt.title(f\"Distance from Chicago vs. Established Year\")\n",
    "plt.xlabel('Distance from Chicago (km)')\n",
    "plt.ylabel('Established Year')\n",
    "plt.grid(True)\n",
    "\n",
    "#Save and print\n",
    "plt.savefig(\"images/Empty plot.png\")\n",
    "plt.show()"
   ]
  },
  {
   "cell_type": "code",
   "execution_count": null,
   "metadata": {},
   "outputs": [],
   "source": []
  }
 ],
 "metadata": {
  "kernelspec": {
   "display_name": "Python 3",
   "language": "python",
   "name": "python3"
  },
  "language_info": {
   "codemirror_mode": {
    "name": "ipython",
    "version": 3
   },
   "file_extension": ".py",
   "mimetype": "text/x-python",
   "name": "python",
   "nbconvert_exporter": "python",
   "pygments_lexer": "ipython3",
   "version": "3.7.0"
  }
 },
 "nbformat": 4,
 "nbformat_minor": 2
}
