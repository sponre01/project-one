{
 "cells": [
  {
   "cell_type": "markdown",
   "metadata": {},
   "source": [
    "# Acquiring Beer Data \n",
    "\n",
    "From Brewerydb: https://www.brewerydb.com/"
   ]
  },
  {
   "cell_type": "code",
   "execution_count": null,
   "metadata": {},
   "outputs": [],
   "source": [
    "#import dependencies\n",
    "import api_setup as ap\n",
    "from tqdm import tqdm\n",
    "import pandas as pd\n",
    "from pprint import pprint"
   ]
  },
  {
   "cell_type": "code",
   "execution_count": null,
   "metadata": {},
   "outputs": [],
   "source": [
    "beer_data = pd.DataFrame()\n",
    "# withBreweries and withIngredients are completely empty\n",
    "beer_features = ['id', 'name', 'nameDisplay', 'abv', 'styleId','year', 'glasswareId','isOrganic', 'breweries',\n",
    "                'glasswareId', 'isRetired', 'status', 'statusDisplay','ingredients']\n",
    "\n",
    "for feature in beer_features:\n",
    "    beer_data[feature]=''\n",
    "\n",
    "ing_col =['hops','malt','misc','yeast']\n",
    "for ing in ing_col:\n",
    "    beer_data[ing] = ''\n",
    "count=0\n",
    "for p in range(1,24):\n",
    "   \n",
    "    data = ap.get_data(page=p, custom='&withBreweries=Y&withIngredients=Y')\n",
    "    try:\n",
    "        for i in range(50):\n",
    "          \n",
    "            for feature in beer_features:\n",
    "             #   print('feature ' + feature + ' value ' + str(data['data'][i][feature]))\n",
    "                if feature == 'breweries':\n",
    "                  \n",
    "                    try:\n",
    "                        beer_data.set_value(count,feature,data['data'][i][feature][0]['id'])\n",
    "                    except Exception as e:\n",
    "                        print ('no brewery')\n",
    "                elif feature == 'ingredients':\n",
    "                   \n",
    "                    try:\n",
    "                        beer_data.set_value(count,feature,len(data['data'][i][feature]))\n",
    "                        #rint(data['data'][i][feature])\n",
    "                        \n",
    "                        for ing,val in data['data'][i][feature].items():\n",
    "                            #print(ing)\n",
    "                            \n",
    "                                \n",
    "                                    #print(ing)\n",
    "                                    #rint(str(val[0]['id']))\n",
    "                                    h_id_string =''\n",
    "                                    for h_id in val:\n",
    "                                        #print('hola')\n",
    "                                        #print(h_id)\n",
    "                                        try:\n",
    "                                            h_id_string += str(h_id['id']) +';'\n",
    "                                        except Exception as e:\n",
    "                                          #  print ( h_id)\n",
    "                                          #  print(data['data'][i][feature])\n",
    "                                          #  print('error' + str(e))\n",
    "                                             pass\n",
    "                                    beer_data.set_value(count,ing,h_id_string)\n",
    "                          \n",
    "                                    \n",
    "                    except Exception as e:\n",
    "                       # print('error ' + str(e))\n",
    "                        beer_data.set_value(count,feature,0)\n",
    "                else:\n",
    "                    try:\n",
    "                        #print('stuff')\n",
    "                        beer_data.set_value(count,feature,data['data'][i][feature])\n",
    "                    except Exception as e: \n",
    "                        beer_data.set_value(count,feature,'n/a')\n",
    "                        #print(f\"name:{data['data'][i]['name']}, page:{p}, item:{i}, feature:{feature}, error:{e}\")\n",
    "                #print('end feature')\n",
    "            count+=1\n",
    "            #print(count)\n",
    "            #beer_data.tail(2)\n",
    "    except Exception as e:\n",
    "        print(\"error \" + str(e))\n",
    "                      \n",
    "                      "
   ]
  },
  {
   "cell_type": "code",
   "execution_count": null,
   "metadata": {},
   "outputs": [],
   "source": [
    "beer_data.head()\n"
   ]
  },
  {
   "cell_type": "code",
   "execution_count": null,
   "metadata": {
    "scrolled": true
   },
   "outputs": [],
   "source": [
    "beer_data['breweries'].value_counts()"
   ]
  },
  {
   "cell_type": "markdown",
   "metadata": {},
   "source": [
    "> we'll change the column names from camel case to snake case for better consistency in notebook"
   ]
  },
  {
   "cell_type": "code",
   "execution_count": null,
   "metadata": {},
   "outputs": [],
   "source": [
    "beer_data.rename(columns={'id':'beer_id', 'nameDisplay':'display_name','isOrganic':'organic','isRetired':'retired','breweries':'brewery_id', 'styleId':'style_id', 'glasswareId':'glass_id'}, inplace=True)"
   ]
  },
  {
   "cell_type": "code",
   "execution_count": null,
   "metadata": {},
   "outputs": [],
   "source": [
    "beer_data.drop('statusDisplay',axis=1, inplace=True)"
   ]
  },
  {
   "cell_type": "code",
   "execution_count": null,
   "metadata": {},
   "outputs": [],
   "source": []
  },
  {
   "cell_type": "code",
   "execution_count": null,
   "metadata": {},
   "outputs": [],
   "source": [
    "beer_data.head()"
   ]
  },
  {
   "cell_type": "code",
   "execution_count": null,
   "metadata": {},
   "outputs": [],
   "source": [
    "beer_data.to_csv(\"data/beers.csv\")"
   ]
  },
  {
   "cell_type": "markdown",
   "metadata": {},
   "source": [
    "> we can see that there are 263 beers of the 1109 total beers that have a value for glass_id"
   ]
  },
  {
   "cell_type": "code",
   "execution_count": null,
   "metadata": {},
   "outputs": [],
   "source": [
    "beer_glass = beer_data[beer_data[\"glass_id\"].notna()]\n",
    "print(beer_glass.shape)\n",
    "beer_glass.head()"
   ]
  },
  {
   "cell_type": "markdown",
   "metadata": {},
   "source": [
    "> Below, we can see the distribution of the glasses. The majority of the beers use glass5. Because of the lack of data in several other glass_id's, it would not be safe to generalize the data over other beers/glasses"
   ]
  },
  {
   "cell_type": "code",
   "execution_count": null,
   "metadata": {},
   "outputs": [],
   "source": [
    "beer_glass.groupby('glass_id').count()['beer_id']"
   ]
  },
  {
   "cell_type": "markdown",
   "metadata": {},
   "source": [
    "> before we can create our plots, we need to clean the data and make sure that the data types are consistent with the requirements for the plot. "
   ]
  },
  {
   "cell_type": "code",
   "execution_count": null,
   "metadata": {},
   "outputs": [],
   "source": [
    "# beer_glass.info() \n",
    "# shows that all variables are categorical and abv should be turned into a float and glass_id to int to be able to plot\n",
    "beer_glass['abv'] = beer_glass['abv'].astype(float)\n",
    "beer_glass['glass_id'] = beer_glass['glass_id'].astype(int)\n",
    "beer_glass.info()"
   ]
  },
  {
   "cell_type": "code",
   "execution_count": null,
   "metadata": {},
   "outputs": [],
   "source": [
    "abv_glass = beer_glass.boxplot('abv', \"glass_id\")"
   ]
  },
  {
   "cell_type": "code",
   "execution_count": null,
   "metadata": {},
   "outputs": [],
   "source": [
    "abv_hist = beer_glass.plot(y='abv', kind='hist', bins=20, title='Alcohol by Volume', legend=False)"
   ]
  },
  {
   "cell_type": "code",
   "execution_count": null,
   "metadata": {},
   "outputs": [],
   "source": []
  }
 ],
 "metadata": {
  "kernelspec": {
   "display_name": "Python 3",
   "language": "python",
   "name": "python3"
  },
  "language_info": {
   "codemirror_mode": {
    "name": "ipython",
    "version": 3
   },
   "file_extension": ".py",
   "mimetype": "text/x-python",
   "name": "python",
   "nbconvert_exporter": "python",
   "pygments_lexer": "ipython3",
   "version": "3.6.5"
  }
 },
 "nbformat": 4,
 "nbformat_minor": 2
}
