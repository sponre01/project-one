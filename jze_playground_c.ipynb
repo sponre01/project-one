{
 "cells": [
  {
   "cell_type": "code",
   "execution_count": 3,
   "metadata": {},
   "outputs": [
    {
     "name": "stdout",
     "output_type": "stream",
     "text": [
      "Collecting pybrewerydb\n",
      "  Downloading https://files.pythonhosted.org/packages/ed/58/e4ab59785f62cf7d0333d4ade7d246804d48202c1a47625ef821d81f7bc1/pybrewerydb-0.1.4.tar.gz\n",
      "Requirement already satisfied: requests in c:\\users\\norfe\\anaconda3\\lib\\site-packages (from pybrewerydb) (2.18.4)\n",
      "Requirement already satisfied: chardet<3.1.0,>=3.0.2 in c:\\users\\norfe\\anaconda3\\lib\\site-packages (from requests->pybrewerydb) (3.0.4)\n",
      "Requirement already satisfied: idna<2.7,>=2.5 in c:\\users\\norfe\\anaconda3\\lib\\site-packages (from requests->pybrewerydb) (2.6)\n",
      "Requirement already satisfied: urllib3<1.23,>=1.21.1 in c:\\users\\norfe\\anaconda3\\lib\\site-packages (from requests->pybrewerydb) (1.22)\n",
      "Requirement already satisfied: certifi>=2017.4.17 in c:\\users\\norfe\\anaconda3\\lib\\site-packages (from requests->pybrewerydb) (2018.4.16)\n",
      "Building wheels for collected packages: pybrewerydb\n",
      "  Running setup.py bdist_wheel for pybrewerydb: started\n",
      "  Running setup.py bdist_wheel for pybrewerydb: finished with status 'done'\n",
      "  Stored in directory: C:\\Users\\norfe\\AppData\\Local\\pip\\Cache\\wheels\\e1\\2b\\d5\\86cc83607b874146a8150da875db5bc98009895a9eb7f4b24d\n",
      "Successfully built pybrewerydb\n",
      "Installing collected packages: pybrewerydb\n",
      "Successfully installed pybrewerydb-0.1.4\n"
     ]
    }
   ],
   "source": [
    "#!pip install  pybrewerydb"
   ]
  },
  {
   "cell_type": "code",
   "execution_count": 102,
   "metadata": {},
   "outputs": [],
   "source": [
    "from config import api_key\n",
    "import pandas as pd\n",
    "import numpy as np\n",
    "import requests \n",
    "import brewerydb as br\n",
    "url = 'https://sandbox-api.brewerydb.com/v2/search/geo/point?lat=41.8781&lng=-87.6298'\n",
    "query_url = f\"{url}&key={api_key}\""
   ]
  },
  {
   "cell_type": "code",
   "execution_count": 103,
   "metadata": {},
   "outputs": [],
   "source": [
    "d = requests.get(query_url)\n"
   ]
  },
  {
   "cell_type": "code",
   "execution_count": 104,
   "metadata": {},
   "outputs": [
    {
     "data": {
      "text/plain": [
       "{'currentPage': 1,\n",
       " 'numberOfPages': 1,\n",
       " 'totalResults': 1,\n",
       " 'data': [{'id': 'g2d9B7',\n",
       "   'name': 'Chicago',\n",
       "   'streetAddress': '2607 West 17th St.',\n",
       "   'locality': 'Chicago',\n",
       "   'region': 'Illinois',\n",
       "   'postalCode': '60608',\n",
       "   'phone': '(773) 522-2503',\n",
       "   'website': 'http://lagunitas.com/',\n",
       "   'latitude': 41.8579099,\n",
       "   'longitude': -87.691899,\n",
       "   'isPrimary': 'N',\n",
       "   'inPlanning': 'N',\n",
       "   'isClosed': 'N',\n",
       "   'openToPublic': 'Y',\n",
       "   'locationType': 'tasting',\n",
       "   'locationTypeDisplay': 'Tasting Room',\n",
       "   'countryIsoCode': 'US',\n",
       "   'status': 'verified',\n",
       "   'statusDisplay': 'Verified',\n",
       "   'createDate': '2014-08-25 12:10:03',\n",
       "   'updateDate': '2018-11-02 02:14:56',\n",
       "   'timezoneId': 'America/Chicago',\n",
       "   'breweryId': 'nLsoQ9',\n",
       "   'brewery': {'id': 'nLsoQ9',\n",
       "    'name': 'Lagunitas Brewing Company',\n",
       "    'nameShortDisplay': 'Lagunitas',\n",
       "    'description': \"From our earliest days of striving to make consistently good beer, and instead making beer that ranged from vile, to barely drinkable, to wonderful, to elegant, to questionable-at-best. From being castigated by our West Marin neighbors to finally suffering an 'eviction' by our West Marin septic system. From landing in the welcoming arms of Petaluma, and actually getting our beer into bottles, onto the streets, and into the hands of sympathatic beer geeks, to steadily losing less money each month. From all this and more, Lagunitas Brewing Company is emerging as a battle-tested brewery capable of making great beer out of goat's milk, brambles, and asphalt on the surface of the Moon, if need be.\\r\\n\\r\\nAs the poet once said, 'Where, but for the grace of God and the kindness of strangers, go I'. Where go we indeed, whatever that means.\",\n",
       "    'website': 'http://www.lagunitas.com/',\n",
       "    'established': '1993',\n",
       "    'isOrganic': 'N',\n",
       "    'images': {'icon': 'https://brewerydb-images.s3.amazonaws.com/brewery/nLsoQ9/upload_WqZkvw-icon.png',\n",
       "     'medium': 'https://brewerydb-images.s3.amazonaws.com/brewery/nLsoQ9/upload_WqZkvw-medium.png',\n",
       "     'large': 'https://brewerydb-images.s3.amazonaws.com/brewery/nLsoQ9/upload_WqZkvw-large.png',\n",
       "     'squareMedium': 'https://brewerydb-images.s3.amazonaws.com/brewery/nLsoQ9/upload_WqZkvw-squareMedium.png',\n",
       "     'squareLarge': 'https://brewerydb-images.s3.amazonaws.com/brewery/nLsoQ9/upload_WqZkvw-squareLarge.png'},\n",
       "    'status': 'verified',\n",
       "    'statusDisplay': 'Verified',\n",
       "    'createDate': '2012-01-03 02:42:00',\n",
       "    'updateDate': '2018-11-02 02:15:01',\n",
       "    'isMassOwned': 'Y',\n",
       "    'isInBusiness': 'Y',\n",
       "    'brandClassification': 'craft',\n",
       "    'isVerified': 'N'},\n",
       "   'country': {'isoCode': 'US',\n",
       "    'name': 'UNITED STATES',\n",
       "    'displayName': 'United States',\n",
       "    'isoThree': 'USA',\n",
       "    'numberCode': 840,\n",
       "    'createDate': '2012-01-03 02:41:33'},\n",
       "   'distance': 3.5}],\n",
       " 'status': 'success'}"
      ]
     },
     "execution_count": 104,
     "metadata": {},
     "output_type": "execute_result"
    }
   ],
   "source": [
    "d.json()\n"
   ]
  },
  {
   "cell_type": "code",
   "execution_count": 6,
   "metadata": {},
   "outputs": [
    {
     "ename": "AttributeError",
     "evalue": "module 'requests' has no attribute 'beers'",
     "output_type": "error",
     "traceback": [
      "\u001b[1;31m---------------------------------------------------------------------------\u001b[0m",
      "\u001b[1;31mAttributeError\u001b[0m                            Traceback (most recent call last)",
      "\u001b[1;32m<ipython-input-6-7ae0be415b6a>\u001b[0m in \u001b[0;36m<module>\u001b[1;34m()\u001b[0m\n\u001b[1;32m----> 1\u001b[1;33m \u001b[0mbr\u001b[0m\u001b[1;33m.\u001b[0m\u001b[0mbeers\u001b[0m\u001b[1;33m(\u001b[0m\u001b[1;33m)\u001b[0m\u001b[1;33m\u001b[0m\u001b[0m\n\u001b[0m",
      "\u001b[1;31mAttributeError\u001b[0m: module 'requests' has no attribute 'beers'"
     ]
    }
   ],
   "source": [
    "for brewery in d['data']:\n",
    "    "
   ]
  },
  {
   "cell_type": "code",
   "execution_count": 9,
   "metadata": {},
   "outputs": [],
   "source": [
    "brew_api = BreweryDB(api_key)\n",
    "#beers = brew_api.search_beer('fat tire')"
   ]
  },
  {
   "cell_type": "code",
   "execution_count": 11,
   "metadata": {},
   "outputs": [
    {
     "ename": "AttributeError",
     "evalue": "module 'urllib' has no attribute 'urlencode'",
     "output_type": "error",
     "traceback": [
      "\u001b[1;31m---------------------------------------------------------------------------\u001b[0m",
      "\u001b[1;31mAttributeError\u001b[0m                            Traceback (most recent call last)",
      "\u001b[1;32m<ipython-input-11-a47d97c2256b>\u001b[0m in \u001b[0;36m<module>\u001b[1;34m()\u001b[0m\n\u001b[1;32m----> 1\u001b[1;33m \u001b[0mbrew_api\u001b[0m\u001b[1;33m.\u001b[0m\u001b[0msearch_beer\u001b[0m\u001b[1;33m(\u001b[0m\u001b[1;34m'fat tire'\u001b[0m\u001b[1;33m)\u001b[0m\u001b[1;33m\u001b[0m\u001b[0m\n\u001b[0m",
      "\u001b[1;32m~\\Anaconda3\\lib\\site-packages\\brewerydb\\brewerydb.py\u001b[0m in \u001b[0;36msearch_beer\u001b[1;34m(self, beer_name)\u001b[0m\n\u001b[0;32m     55\u001b[0m \u001b[1;33m\u001b[0m\u001b[0m\n\u001b[0;32m     56\u001b[0m         \"\"\"\n\u001b[1;32m---> 57\u001b[1;33m         \u001b[0mresponse\u001b[0m \u001b[1;33m=\u001b[0m \u001b[0mjson\u001b[0m\u001b[1;33m.\u001b[0m\u001b[0mloads\u001b[0m\u001b[1;33m(\u001b[0m\u001b[0mself\u001b[0m\u001b[1;33m.\u001b[0m\u001b[0m_call\u001b[0m\u001b[1;33m(\u001b[0m\u001b[1;34m\"search\"\u001b[0m\u001b[1;33m,\u001b[0m \u001b[0mself\u001b[0m\u001b[1;33m.\u001b[0m\u001b[0m_params\u001b[0m\u001b[1;33m(\u001b[0m\u001b[0mparams\u001b[0m\u001b[1;33m=\u001b[0m\u001b[1;33m{\u001b[0m\u001b[1;34m'q'\u001b[0m\u001b[1;33m:\u001b[0m \u001b[0mbeer_name\u001b[0m\u001b[1;33m,\u001b[0m \u001b[1;34m'withBreweries'\u001b[0m\u001b[1;33m:\u001b[0m \u001b[1;34m'Y'\u001b[0m\u001b[1;33m,\u001b[0m \u001b[1;34m'type'\u001b[0m\u001b[1;33m:\u001b[0m \u001b[1;34m'beer'\u001b[0m\u001b[1;33m}\u001b[0m\u001b[1;33m)\u001b[0m\u001b[1;33m)\u001b[0m\u001b[1;33m.\u001b[0m\u001b[0mtext\u001b[0m\u001b[1;33m)\u001b[0m\u001b[1;33m\u001b[0m\u001b[0m\n\u001b[0m\u001b[0;32m     58\u001b[0m         \u001b[0mbeers\u001b[0m \u001b[1;33m=\u001b[0m \u001b[1;33m[\u001b[0m\u001b[1;33m]\u001b[0m\u001b[1;33m\u001b[0m\u001b[0m\n\u001b[0;32m     59\u001b[0m         \u001b[1;32mfor\u001b[0m \u001b[0mbeer\u001b[0m \u001b[1;32min\u001b[0m \u001b[0mresponse\u001b[0m\u001b[1;33m[\u001b[0m\u001b[1;34m'data'\u001b[0m\u001b[1;33m]\u001b[0m\u001b[1;33m:\u001b[0m\u001b[1;33m\u001b[0m\u001b[0m\n",
      "\u001b[1;32m~\\Anaconda3\\lib\\site-packages\\brewerydb\\brewerydb.py\u001b[0m in \u001b[0;36m_params\u001b[1;34m(self, params)\u001b[0m\n\u001b[0;32m     41\u001b[0m         \u001b[1;33m:\u001b[0m\u001b[0mreturns\u001b[0m\u001b[1;33m:\u001b[0m  \u001b[0mstr\u001b[0m \u001b[1;33m-\u001b[0m\u001b[1;33m-\u001b[0m \u001b[0mURL\u001b[0m \u001b[0mencoded\u001b[0m \u001b[0mquery\u001b[0m \u001b[0mparameters\u001b[0m\u001b[1;33m\u001b[0m\u001b[0m\n\u001b[0;32m     42\u001b[0m         \"\"\"\n\u001b[1;32m---> 43\u001b[1;33m         \u001b[1;32mreturn\u001b[0m \u001b[0murllib\u001b[0m\u001b[1;33m.\u001b[0m\u001b[0murlencode\u001b[0m\u001b[1;33m(\u001b[0m\u001b[0mparams\u001b[0m\u001b[1;33m)\u001b[0m\u001b[1;33m\u001b[0m\u001b[0m\n\u001b[0m\u001b[0;32m     44\u001b[0m \u001b[1;33m\u001b[0m\u001b[0m\n\u001b[0;32m     45\u001b[0m     \u001b[1;32mdef\u001b[0m \u001b[0msearch_beer\u001b[0m\u001b[1;33m(\u001b[0m\u001b[0mself\u001b[0m\u001b[1;33m,\u001b[0m \u001b[0mbeer_name\u001b[0m\u001b[1;33m)\u001b[0m\u001b[1;33m:\u001b[0m\u001b[1;33m\u001b[0m\u001b[0m\n",
      "\u001b[1;31mAttributeError\u001b[0m: module 'urllib' has no attribute 'urlencode'"
     ]
    }
   ],
   "source": [
    "brew_api.search_beer('fat tire')"
   ]
  },
  {
   "cell_type": "code",
   "execution_count": 15,
   "metadata": {},
   "outputs": [
    {
     "ename": "TypeError",
     "evalue": "'module' object is not callable",
     "output_type": "error",
     "traceback": [
      "\u001b[1;31m---------------------------------------------------------------------------\u001b[0m",
      "\u001b[1;31mTypeError\u001b[0m                                 Traceback (most recent call last)",
      "\u001b[1;32m<ipython-input-15-02a7461f875b>\u001b[0m in \u001b[0;36m<module>\u001b[1;34m()\u001b[0m\n\u001b[1;32m----> 1\u001b[1;33m \u001b[0mbr\u001b[0m\u001b[1;33m.\u001b[0m\u001b[0mbrewery\u001b[0m\u001b[1;33m(\u001b[0m\u001b[1;33m)\u001b[0m\u001b[1;33m\u001b[0m\u001b[0m\n\u001b[0m",
      "\u001b[1;31mTypeError\u001b[0m: 'module' object is not callable"
     ]
    }
   ],
   "source": [
    "br.brewery()"
   ]
  },
  {
   "cell_type": "code",
   "execution_count": null,
   "metadata": {},
   "outputs": [],
   "source": []
  }
 ],
 "metadata": {
  "kernelspec": {
   "display_name": "Python 3",
   "language": "python",
   "name": "python3"
  },
  "language_info": {
   "codemirror_mode": {
    "name": "ipython",
    "version": 3
   },
   "file_extension": ".py",
   "mimetype": "text/x-python",
   "name": "python",
   "nbconvert_exporter": "python",
   "pygments_lexer": "ipython3",
   "version": "3.6.5"
  }
 },
 "nbformat": 4,
 "nbformat_minor": 2
}
