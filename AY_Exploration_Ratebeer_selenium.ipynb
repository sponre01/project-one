{
 "cells": [
  {
   "cell_type": "markdown",
   "metadata": {},
   "source": [
    "# Webscrapping Untappd\n",
    "\n",
    "Previously, I worked with the open api from www.brewerydb.com that provided a free sandbox to grab data from. However, the data provided was extremely limited. One of the variables that I was most interested in were price nd rating. Price seemed the most difficult to find, but was able to find ratings on untappd. \n",
    "\n",
    "The website www.untappd.com had several hurdles to overcome in order to grab data. First of all, we needed to mask the browser we were using in python before getting a get request."
   ]
  },
  {
   "cell_type": "code",
   "execution_count": 13,
   "metadata": {},
   "outputs": [],
   "source": [
    "# import dependencies\n",
    "import pandas as pd\n",
    "from bs4 import BeautifulSoup\n",
    "import requests\n",
    "from tqdm import tqdm\n",
    "\n",
    "# set url and mask headers\n",
    "url = 'https://untappd.com/search?q=Murican+Pilsner'\n",
    "headers = {'User-Agent': 'Mozilla/5.0 (Macintosh; Intel Mac OS X 10_10_1) AppleWebKit/537.36 (KHTML, like Gecko) Chrome/39.0.2171.95 Safari/537.36'}\n",
    "\n",
    "# grab data from url and set headers, prep soup\n",
    "response = requests.get(url, headers=headers)\n",
    "soup = response.content"
   ]
  },
  {
   "cell_type": "code",
   "execution_count": null,
   "metadata": {},
   "outputs": [],
   "source": [
    "# import beer data grabbed from the brewerydb sandbox\n",
    "df_beers = pd.read_csv('data/beers.csv')\n",
    "df_beers.head()"
   ]
  },
  {
   "cell_type": "markdown",
   "metadata": {},
   "source": [
    "This initial grab using the beer names from the brewerydb api pull resulted in many mismatched names and few results. The total number of results amounted to around 300. This was an extremely small dataset for what I wanted to be doing (machine learning). After looking into the issue further, I found that not only were many of the beers provided in brewerydb were not on the untappd webpage, but also that my results were limited because simply getting a request would only generate the page without a login. "
   ]
  },
  {
   "cell_type": "code",
   "execution_count": null,
   "metadata": {
    "scrolled": true
   },
   "outputs": [],
   "source": [
    "ids = []\n",
    "ratings = []\n",
    "errors = []\n",
    "for i in tqdm(range(df_beers.shape[0])):\n",
    "#     print(df_beers.loc[i,'display_name'])\n",
    "    url = 'https://untappd.com/search?q='\n",
    "    url = url + str(df_beers.loc[i,'display_name'])\n",
    "    headers = {'User-Agent': 'Mozilla/5.0 (Macintosh; Intel Mac OS X 10_10_1) AppleWebKit/537.36 (KHTML, like Gecko) Chrome/39.0.2171.95 Safari/537.36'}\n",
    "    response = requests.get(url, headers=headers)\n",
    "    soup = response.content\n",
    "    soupy = BeautifulSoup(soup, 'lxml')\n",
    "    \n",
    "    beer_items = soupy.findAll(class_='beer-item')\n",
    "    for beer in beer_items:\n",
    "        try:\n",
    "            abv_raw = beer.findAll(class_='abv')[0].text.strip()\n",
    "            abv_raw = abv_raw.strip('% ABV')\n",
    "            abv = float(abv_raw)\n",
    "        except Exception as e:\n",
    "            print(e)\n",
    "        if df_beers.loc[i,'abv'].astype(float) == abv:\n",
    "            ids.append(df_beers.loc[i,'beer_id'])\n",
    "            ratings.append(beer.findAll(class_='rating')[0].text.strip())\n",
    "        elif df_beers.loc[i, 'name'].lower() == beer.findAll(class_=\"name\")[0].find('a').text.strip().lower():\n",
    "            ids.append(df_beers.loc[i,'beer_id'])\n",
    "            ratings.append(beer.findAll(class_='rating')[0].text.strip())\n",
    "        else:\n",
    "            errors.append(df_beers.loc[i,'beer_id'])\n",
    "        "
   ]
  },
  {
   "cell_type": "markdown",
   "metadata": {},
   "source": [
    "Below, we utilize selenium to log in to the website. We iterate the requests by changing the beer names in the search request in hopes of matching with the beer names of the beers from the brewerydb data by its beer_id. The resulting dataset was around 1100 data points, which was much better than the 300 before. However, after running several ml models on this group, the results were lackluster. \n",
    "> machine learning portion can be found in AY_MachineLearning\n",
    "\n",
    "In order to better predict the ratings of the beers, we either needed more data or more features to predict on."
   ]
  },
  {
   "cell_type": "code",
   "execution_count": 6,
   "metadata": {},
   "outputs": [],
   "source": [
    "from selenium import webdriver"
   ]
  },
  {
   "cell_type": "code",
   "execution_count": 7,
   "metadata": {},
   "outputs": [],
   "source": [
    "driver = webdriver.Chrome('./chromedriver')\n",
    "driver.get('https://untappd.com/login')\n",
    "\n",
    "username = driver.find_element_by_id(\"username\")\n",
    "password = driver.find_element_by_id(\"password\")\n",
    "\n",
    "username.send_keys(\"ayang2012\")\n",
    "password.send_keys(\"mulciber1\")\n",
    "\n",
    "driver.find_element_by_css_selector(\".button.yellow.submit-btn\").find_element_by_tag_name('input').click()"
   ]
  },
  {
   "cell_type": "code",
   "execution_count": null,
   "metadata": {},
   "outputs": [],
   "source": [
    "ids2 = []\n",
    "ratings2 = []\n",
    "errors2 = []\n",
    "df_untappd = pd.DataFrame()\n",
    "untappd_columns = ['id','name', 'brewery', 'style', 'abv', 'ibu', 'rating']\n",
    "for col in untappd_columns:\n",
    "    df_untappd[col]=''\n",
    "\n",
    "count=0    \n",
    "for i in tqdm(range(df_beers.shape[0])):\n",
    "\n",
    "    url = 'https://untappd.com/search?q='\n",
    "    url = url + str(df_beers.loc[i,'display_name'])\n",
    "    headers = {'User-Agent': 'Mozilla/5.0 (Macintosh; Intel Mac OS X 10_10_1) AppleWebKit/537.36 (KHTML, like Gecko) Chrome/39.0.2171.95 Safari/537.36'}\n",
    "    driver.get(url)\n",
    "    soup = driver.page_source\n",
    "    soupy = BeautifulSoup(soup, 'lxml')\n",
    "    \n",
    "    beer_items = soupy.findAll(class_='beer-item')\n",
    "\n",
    "    for beer in beer_items:\n",
    "\n",
    "        df_untappd.set_value(count, 'id', df_beers.loc[i,'beer_id']) \n",
    "        df_untappd.set_value(count, 'name', beer.findAll(class_=\"name\")[0].find('a').text.strip())\n",
    "        df_untappd.set_value(count, 'brewery', beer.findAll(class_=\"brewery\")[0].find('a').text.strip())\n",
    "        df_untappd.set_value(count, 'style', beer.findAll(class_=\"style\")[0].text.strip())\n",
    "        df_untappd.set_value(count, 'abv', beer.findAll(class_=\"abv\")[0].text.strip())\n",
    "        df_untappd.set_value(count, 'ibu', beer.findAll(class_=\"ibu\")[0].text.strip())\n",
    "        df_untappd.set_value(count, 'rating', beer.findAll(class_=\"rating\")[0].text.strip())\n",
    "        \n",
    "        count +=1"
   ]
  },
  {
   "cell_type": "code",
   "execution_count": null,
   "metadata": {},
   "outputs": [],
   "source": [
    "df_untappd.shape"
   ]
  },
  {
   "cell_type": "code",
   "execution_count": null,
   "metadata": {
    "scrolled": true
   },
   "outputs": [],
   "source": [
    "df_untappd.tail()"
   ]
  },
  {
   "cell_type": "code",
   "execution_count": null,
   "metadata": {},
   "outputs": [],
   "source": [
    "df_untappd.to_csv('untappd_beer_ratings.csv')"
   ]
  },
  {
   "cell_type": "code",
   "execution_count": null,
   "metadata": {
    "scrolled": true
   },
   "outputs": [],
   "source": [
    "df_beers[df_beers['beer_id'].apply(lambda x: x not in df_untappd['id'].unique())]"
   ]
  },
  {
   "cell_type": "markdown",
   "metadata": {},
   "source": [
    "# Finding beers from best breweries"
   ]
  },
  {
   "cell_type": "markdown",
   "metadata": {},
   "source": [
    "### first we need to get a list of breweries"
   ]
  },
  {
   "cell_type": "code",
   "execution_count": 23,
   "metadata": {},
   "outputs": [],
   "source": [
    "from lxml import html\n",
    "\n",
    "with open(\"Top Rated Breweries _ Untappd.html\") as f:\n",
    "    page = f.read()\n",
    "tree = html.fromstring(page)\n",
    "brewery = BeautifulSoup(page,'lxml')"
   ]
  },
  {
   "cell_type": "code",
   "execution_count": 24,
   "metadata": {},
   "outputs": [],
   "source": [
    "# url2 = \"https://untappd.com/brewery/top_rated?country_id=86\"\n",
    "# response = requests.get(url2, headers=headers)\n",
    "# brewery = response.content\n",
    "# brewery = BeautifulSoup(brewery, 'lxml')"
   ]
  },
  {
   "cell_type": "code",
   "execution_count": 26,
   "metadata": {},
   "outputs": [
    {
     "data": {
      "text/plain": [
       "['https://untappd.com/PipsMeadery',\n",
       " 'https://untappd.com/SchrammsMead',\n",
       " 'https://untappd.com/3SonsBrewingCo',\n",
       " 'https://untappd.com/SideProject',\n",
       " 'https://untappd.com/ColesRoadBrewery',\n",
       " 'https://untappd.com/GaragisteMeadery',\n",
       " 'https://untappd.com/treehousebrewco',\n",
       " 'https://untappd.com/w/the-alchemist/1244',\n",
       " 'https://untappd.com/w/brasserie-cantillon/202',\n",
       " 'https://untappd.com/CaseyBrewingBlending',\n",
       " 'https://untappd.com/LittleCottageBrewery',\n",
       " 'https://untappd.com/4firesmeadery',\n",
       " 'https://untappd.com/w/floodland-brewing/379455',\n",
       " 'https://untappd.com/HouseofFermentology',\n",
       " 'https://untappd.com/Bokkereyder',\n",
       " 'https://untappd.com/TheAnswerBrewpub',\n",
       " 'https://untappd.com/AfterthoughtBrewing',\n",
       " 'https://untappd.com/HorusAles',\n",
       " 'https://untappd.com/HillFarmsteadBrewery',\n",
       " 'https://untappd.com/MartoBrewing',\n",
       " 'https://untappd.com/rootandbranchbrewing',\n",
       " 'https://untappd.com/TroonHopewell',\n",
       " 'https://untappd.com/MortalisBrewingCompany',\n",
       " 'https://untappd.com/EQBrew',\n",
       " 'https://untappd.com/ObercreekBrewingCompany',\n",
       " 'https://untappd.com/DeGardeBrewing',\n",
       " 'https://untappd.com/hudson_valley_brewery',\n",
       " 'https://untappd.com/TheAleApothecary',\n",
       " 'https://untappd.com/TrilliumBrewing',\n",
       " 'https://untappd.com/MidnightProject',\n",
       " 'https://untappd.com/Brouwerij3Fonteinen',\n",
       " 'https://untappd.com/SanteAdairius',\n",
       " 'https://untappd.com/VitaminSeaBrewing',\n",
       " 'https://untappd.com/LawsonsFinestLiquids',\n",
       " 'https://untappd.com/monkishbrewing',\n",
       " 'https://untappd.com/RedDragonBreweryOps',\n",
       " 'https://untappd.com/TheRareBarrel',\n",
       " 'https://untappd.com/BarrelCulture',\n",
       " 'https://untappd.com/MAZURTBrewingCompany',\n",
       " 'https://untappd.com/Whiteroosterfarmhousebrewery',\n",
       " 'https://untappd.com/RiverRoostBrewery',\n",
       " 'https://untappd.com/Hnf',\n",
       " 'https://untappd.com/TiltedBarnBrewery',\n",
       " 'https://untappd.com/FoamBrewers',\n",
       " 'https://untappd.com/OtherHalfBrewingCompany',\n",
       " 'https://untappd.com/CycleBrewingCompany',\n",
       " 'https://untappd.com/Shared',\n",
       " 'https://untappd.com/MisbeehavinMeads',\n",
       " 'https://untappd.com/GreatNotionBrewing',\n",
       " 'https://untappd.com/NarrowGaugeBrewing']"
      ]
     },
     "execution_count": 26,
     "metadata": {},
     "output_type": "execute_result"
    }
   ],
   "source": [
    "breweries = brewery.findAll(class_='beer-details')\n",
    "breweries = [(i.findAll('a')[0].get('href')) for i in breweries]\n",
    "breweries"
   ]
  },
  {
   "cell_type": "markdown",
   "metadata": {},
   "source": [
    "Now that we have a list of breweries, we can set up the requests to output a number of results related to the beers in each brewery. My hope was to make the brewery a feature, given that there would be multiple beers per brewery, but the number of results were still limited due to my lack of knowledge of the click function."
   ]
  },
  {
   "cell_type": "markdown",
   "metadata": {},
   "source": [
    "# UPDATE\n",
    "\n",
    "With the help of my mentors, I was able to figure out the issue with the click 'See More' button. Selenium was finding the button, but was not in the right position to click, so I had to find the location of the button and offset by a few pixels to click. Then I ran into the problem of needing to scroll in order for the consecutive results to show. After going through many options, I decided to go with moving the screen to the footer. Then another issue came up with the timing/loading of the results and pages. I had to mess with some time.sleep amounts to get it going."
   ]
  },
  {
   "cell_type": "code",
   "execution_count": 72,
   "metadata": {},
   "outputs": [],
   "source": [
    "driver = webdriver.Chrome('./chromedriver')\n",
    "driver.get('https://untappd.com/login')\n",
    "\n",
    "username = driver.find_element_by_id(\"username\")\n",
    "password = driver.find_element_by_id(\"password\")\n",
    "\n",
    "username.send_keys(\"ayang2012\")\n",
    "password.send_keys(\"mulciber1\")\n",
    "\n",
    "driver.find_element_by_css_selector(\".button.yellow.submit-btn\").find_element_by_tag_name('input').click()"
   ]
  },
  {
   "cell_type": "code",
   "execution_count": 78,
   "metadata": {
    "scrolled": true
   },
   "outputs": [
    {
     "name": "stderr",
     "output_type": "stream",
     "text": [
      "\n",
      "\n",
      "\n",
      "\n",
      "\n",
      "  0%|          | 0/50 [00:00<?, ?it/s]\u001b[A\u001b[A\u001b[A\u001b[A\u001b[A"
     ]
    },
    {
     "name": "stdout",
     "output_type": "stream",
     "text": [
      "https://untappd.com/PipsMeadery/beer\n"
     ]
    },
    {
     "name": "stderr",
     "output_type": "stream",
     "text": [
      "/Users/MacBookPro/anaconda3/lib/python3.6/site-packages/ipykernel_launcher.py:68: FutureWarning: set_value is deprecated and will be removed in a future release. Please use .at[] or .iat[] accessors instead\n",
      "/Users/MacBookPro/anaconda3/lib/python3.6/site-packages/ipykernel_launcher.py:69: FutureWarning: set_value is deprecated and will be removed in a future release. Please use .at[] or .iat[] accessors instead\n",
      "/Users/MacBookPro/anaconda3/lib/python3.6/site-packages/ipykernel_launcher.py:70: FutureWarning: set_value is deprecated and will be removed in a future release. Please use .at[] or .iat[] accessors instead\n",
      "/Users/MacBookPro/anaconda3/lib/python3.6/site-packages/ipykernel_launcher.py:71: FutureWarning: set_value is deprecated and will be removed in a future release. Please use .at[] or .iat[] accessors instead\n",
      "/Users/MacBookPro/anaconda3/lib/python3.6/site-packages/ipykernel_launcher.py:72: FutureWarning: set_value is deprecated and will be removed in a future release. Please use .at[] or .iat[] accessors instead\n",
      "/Users/MacBookPro/anaconda3/lib/python3.6/site-packages/ipykernel_launcher.py:73: FutureWarning: set_value is deprecated and will be removed in a future release. Please use .at[] or .iat[] accessors instead\n",
      "/Users/MacBookPro/anaconda3/lib/python3.6/site-packages/ipykernel_launcher.py:74: FutureWarning: set_value is deprecated and will be removed in a future release. Please use .at[] or .iat[] accessors instead\n",
      "/Users/MacBookPro/anaconda3/lib/python3.6/site-packages/ipykernel_launcher.py:75: FutureWarning: set_value is deprecated and will be removed in a future release. Please use .at[] or .iat[] accessors instead\n",
      "/Users/MacBookPro/anaconda3/lib/python3.6/site-packages/ipykernel_launcher.py:76: FutureWarning: set_value is deprecated and will be removed in a future release. Please use .at[] or .iat[] accessors instead\n",
      "\n",
      "\n",
      "\n",
      "\n",
      "\n",
      "  2%|▏         | 1/50 [00:01<01:21,  1.67s/it]\u001b[A\u001b[A\u001b[A\u001b[A\u001b[A"
     ]
    },
    {
     "name": "stdout",
     "output_type": "stream",
     "text": [
      "https://untappd.com/SchrammsMead/beer\n"
     ]
    },
    {
     "name": "stderr",
     "output_type": "stream",
     "text": [
      "\n",
      "\n",
      "\n",
      "\n",
      "\n",
      "  4%|▍         | 2/50 [00:02<01:12,  1.51s/it]\u001b[A\u001b[A\u001b[A\u001b[A\u001b[A"
     ]
    },
    {
     "name": "stdout",
     "output_type": "stream",
     "text": [
      "https://untappd.com/3SonsBrewingCo/beer\n"
     ]
    },
    {
     "name": "stderr",
     "output_type": "stream",
     "text": [
      "\n",
      "\n",
      "\n",
      "\n",
      "\n",
      "  6%|▌         | 3/50 [00:04<01:07,  1.43s/it]\u001b[A\u001b[A\u001b[A\u001b[A\u001b[A"
     ]
    },
    {
     "name": "stdout",
     "output_type": "stream",
     "text": [
      "https://untappd.com/SideProject/beer\n"
     ]
    },
    {
     "name": "stderr",
     "output_type": "stream",
     "text": [
      "\n",
      "\n",
      "\n",
      "\n",
      "\n",
      "  8%|▊         | 4/50 [00:05<01:01,  1.33s/it]\u001b[A\u001b[A\u001b[A\u001b[A\u001b[A"
     ]
    },
    {
     "name": "stdout",
     "output_type": "stream",
     "text": [
      "https://untappd.com/ColesRoadBrewery/beer\n"
     ]
    },
    {
     "name": "stderr",
     "output_type": "stream",
     "text": [
      "\n",
      "\n",
      "\n",
      "\n",
      "\n",
      " 10%|█         | 5/50 [00:06<00:56,  1.26s/it]\u001b[A\u001b[A\u001b[A\u001b[A\u001b[A"
     ]
    },
    {
     "name": "stdout",
     "output_type": "stream",
     "text": [
      "https://untappd.com/GaragisteMeadery/beer\n"
     ]
    },
    {
     "name": "stderr",
     "output_type": "stream",
     "text": [
      "\n",
      "\n",
      "\n",
      "\n",
      "\n",
      " 12%|█▏        | 6/50 [00:07<00:59,  1.36s/it]\u001b[A\u001b[A\u001b[A\u001b[A\u001b[A"
     ]
    },
    {
     "name": "stdout",
     "output_type": "stream",
     "text": [
      "https://untappd.com/treehousebrewco/beer\n"
     ]
    },
    {
     "name": "stderr",
     "output_type": "stream",
     "text": [
      "\n",
      "\n",
      "\n",
      "\n",
      "\n",
      " 14%|█▍        | 7/50 [00:09<01:01,  1.43s/it]\u001b[A\u001b[A\u001b[A\u001b[A\u001b[A"
     ]
    },
    {
     "name": "stdout",
     "output_type": "stream",
     "text": [
      "https://untappd.com/w/the-alchemist/1244/beer\n"
     ]
    },
    {
     "name": "stderr",
     "output_type": "stream",
     "text": [
      "\n",
      "\n",
      "\n",
      "\n",
      "\n",
      " 16%|█▌        | 8/50 [00:10<00:58,  1.39s/it]\u001b[A\u001b[A\u001b[A\u001b[A\u001b[A"
     ]
    },
    {
     "name": "stdout",
     "output_type": "stream",
     "text": [
      "https://untappd.com/w/brasserie-cantillon/202/beer\n"
     ]
    },
    {
     "name": "stderr",
     "output_type": "stream",
     "text": [
      "\n",
      "\n",
      "\n",
      "\n",
      "\n",
      " 18%|█▊        | 9/50 [00:11<00:55,  1.35s/it]\u001b[A\u001b[A\u001b[A\u001b[A\u001b[A"
     ]
    },
    {
     "name": "stdout",
     "output_type": "stream",
     "text": [
      "https://untappd.com/CaseyBrewingBlending/beer\n"
     ]
    },
    {
     "name": "stderr",
     "output_type": "stream",
     "text": [
      "\n",
      "\n",
      "\n",
      "\n",
      "\n",
      " 20%|██        | 10/50 [00:13<00:53,  1.33s/it]\u001b[A\u001b[A\u001b[A\u001b[A\u001b[A"
     ]
    },
    {
     "name": "stdout",
     "output_type": "stream",
     "text": [
      "https://untappd.com/LittleCottageBrewery/beer\n"
     ]
    },
    {
     "name": "stderr",
     "output_type": "stream",
     "text": [
      "\n",
      "\n",
      "\n",
      "\n",
      "\n",
      " 22%|██▏       | 11/50 [00:14<00:49,  1.27s/it]\u001b[A\u001b[A\u001b[A\u001b[A\u001b[A"
     ]
    },
    {
     "name": "stdout",
     "output_type": "stream",
     "text": [
      "https://untappd.com/4firesmeadery/beer\n"
     ]
    },
    {
     "name": "stderr",
     "output_type": "stream",
     "text": [
      "\n",
      "\n",
      "\n",
      "\n",
      "\n",
      " 24%|██▍       | 12/50 [00:15<00:51,  1.35s/it]\u001b[A\u001b[A\u001b[A\u001b[A\u001b[A"
     ]
    },
    {
     "name": "stdout",
     "output_type": "stream",
     "text": [
      "https://untappd.com/w/floodland-brewing/379455/beer\n"
     ]
    },
    {
     "name": "stderr",
     "output_type": "stream",
     "text": [
      "\n",
      "\n",
      "\n",
      "\n",
      "\n",
      " 26%|██▌       | 13/50 [00:17<00:48,  1.30s/it]\u001b[A\u001b[A\u001b[A\u001b[A\u001b[A"
     ]
    },
    {
     "name": "stdout",
     "output_type": "stream",
     "text": [
      "https://untappd.com/HouseofFermentology/beer\n"
     ]
    },
    {
     "name": "stderr",
     "output_type": "stream",
     "text": [
      "\n",
      "\n",
      "\n",
      "\n",
      "\n",
      " 28%|██▊       | 14/50 [00:18<00:45,  1.25s/it]\u001b[A\u001b[A\u001b[A\u001b[A\u001b[A"
     ]
    },
    {
     "name": "stdout",
     "output_type": "stream",
     "text": [
      "https://untappd.com/Bokkereyder/beer\n"
     ]
    },
    {
     "name": "stderr",
     "output_type": "stream",
     "text": [
      "\n",
      "\n",
      "\n",
      "\n",
      "\n",
      " 30%|███       | 15/50 [00:19<00:42,  1.22s/it]\u001b[A\u001b[A\u001b[A\u001b[A\u001b[A"
     ]
    },
    {
     "name": "stdout",
     "output_type": "stream",
     "text": [
      "https://untappd.com/TheAnswerBrewpub/beer\n"
     ]
    },
    {
     "name": "stderr",
     "output_type": "stream",
     "text": [
      "\n",
      "\n",
      "\n",
      "\n",
      "\n",
      " 32%|███▏      | 16/50 [00:20<00:42,  1.26s/it]\u001b[A\u001b[A\u001b[A\u001b[A\u001b[A"
     ]
    },
    {
     "name": "stdout",
     "output_type": "stream",
     "text": [
      "https://untappd.com/AfterthoughtBrewing/beer\n"
     ]
    },
    {
     "name": "stderr",
     "output_type": "stream",
     "text": [
      "\n",
      "\n",
      "\n",
      "\n",
      "\n",
      " 34%|███▍      | 17/50 [00:22<00:42,  1.29s/it]\u001b[A\u001b[A\u001b[A\u001b[A\u001b[A"
     ]
    },
    {
     "name": "stdout",
     "output_type": "stream",
     "text": [
      "https://untappd.com/HorusAles/beer\n"
     ]
    },
    {
     "name": "stderr",
     "output_type": "stream",
     "text": [
      "\n",
      "\n",
      "\n",
      "\n",
      "\n",
      " 36%|███▌      | 18/50 [00:25<00:59,  1.85s/it]\u001b[A\u001b[A\u001b[A\u001b[A\u001b[A"
     ]
    },
    {
     "name": "stdout",
     "output_type": "stream",
     "text": [
      "https://untappd.com/HillFarmsteadBrewery/beer\n"
     ]
    },
    {
     "name": "stderr",
     "output_type": "stream",
     "text": [
      "\n",
      "\n",
      "\n",
      "\n",
      "\n",
      " 38%|███▊      | 19/50 [00:27<00:56,  1.82s/it]\u001b[A\u001b[A\u001b[A\u001b[A\u001b[A"
     ]
    },
    {
     "name": "stdout",
     "output_type": "stream",
     "text": [
      "https://untappd.com/MartoBrewing/beer\n"
     ]
    },
    {
     "name": "stderr",
     "output_type": "stream",
     "text": [
      "\n",
      "\n",
      "\n",
      "\n",
      "\n",
      " 40%|████      | 20/50 [00:28<00:50,  1.70s/it]\u001b[A\u001b[A\u001b[A\u001b[A\u001b[A"
     ]
    },
    {
     "name": "stdout",
     "output_type": "stream",
     "text": [
      "https://untappd.com/rootandbranchbrewing/beer\n"
     ]
    },
    {
     "name": "stderr",
     "output_type": "stream",
     "text": [
      "\n",
      "\n",
      "\n",
      "\n",
      "\n",
      " 42%|████▏     | 21/50 [00:30<00:48,  1.66s/it]\u001b[A\u001b[A\u001b[A\u001b[A\u001b[A"
     ]
    },
    {
     "name": "stdout",
     "output_type": "stream",
     "text": [
      "https://untappd.com/TroonHopewell/beer\n"
     ]
    },
    {
     "name": "stderr",
     "output_type": "stream",
     "text": [
      "\n",
      "\n",
      "\n",
      "\n",
      "\n",
      " 44%|████▍     | 22/50 [00:32<00:53,  1.91s/it]\u001b[A\u001b[A\u001b[A\u001b[A\u001b[A"
     ]
    },
    {
     "name": "stdout",
     "output_type": "stream",
     "text": [
      "https://untappd.com/MortalisBrewingCompany/beer\n"
     ]
    },
    {
     "name": "stderr",
     "output_type": "stream",
     "text": [
      "\n",
      "\n",
      "\n",
      "\n",
      "\n",
      " 46%|████▌     | 23/50 [00:34<00:54,  2.02s/it]\u001b[A\u001b[A\u001b[A\u001b[A\u001b[A"
     ]
    },
    {
     "name": "stdout",
     "output_type": "stream",
     "text": [
      "https://untappd.com/EQBrew/beer\n"
     ]
    },
    {
     "name": "stderr",
     "output_type": "stream",
     "text": [
      "\n",
      "\n",
      "\n",
      "\n",
      "\n",
      " 48%|████▊     | 24/50 [00:39<01:10,  2.71s/it]\u001b[A\u001b[A\u001b[A\u001b[A\u001b[A"
     ]
    },
    {
     "name": "stdout",
     "output_type": "stream",
     "text": [
      "https://untappd.com/ObercreekBrewingCompany/beer\n"
     ]
    },
    {
     "name": "stderr",
     "output_type": "stream",
     "text": [
      "\n",
      "\n",
      "\n",
      "\n",
      "\n",
      " 50%|█████     | 25/50 [00:41<01:04,  2.56s/it]\u001b[A\u001b[A\u001b[A\u001b[A\u001b[A"
     ]
    },
    {
     "name": "stdout",
     "output_type": "stream",
     "text": [
      "https://untappd.com/DeGardeBrewing/beer\n"
     ]
    },
    {
     "name": "stderr",
     "output_type": "stream",
     "text": [
      "\n",
      "\n",
      "\n",
      "\n",
      "\n",
      " 52%|█████▏    | 26/50 [00:42<00:54,  2.26s/it]\u001b[A\u001b[A\u001b[A\u001b[A\u001b[A"
     ]
    },
    {
     "name": "stdout",
     "output_type": "stream",
     "text": [
      "https://untappd.com/hudson_valley_brewery/beer\n"
     ]
    },
    {
     "name": "stderr",
     "output_type": "stream",
     "text": [
      "\n",
      "\n",
      "\n",
      "\n",
      "\n",
      " 54%|█████▍    | 27/50 [00:45<00:55,  2.43s/it]\u001b[A\u001b[A\u001b[A\u001b[A\u001b[A"
     ]
    },
    {
     "name": "stdout",
     "output_type": "stream",
     "text": [
      "https://untappd.com/TheAleApothecary/beer\n"
     ]
    },
    {
     "name": "stderr",
     "output_type": "stream",
     "text": [
      "\n",
      "\n",
      "\n",
      "\n",
      "\n",
      " 56%|█████▌    | 28/50 [00:46<00:45,  2.06s/it]\u001b[A\u001b[A\u001b[A\u001b[A\u001b[A"
     ]
    },
    {
     "name": "stdout",
     "output_type": "stream",
     "text": [
      "https://untappd.com/TrilliumBrewing/beer\n"
     ]
    },
    {
     "name": "stderr",
     "output_type": "stream",
     "text": [
      "\n",
      "\n",
      "\n",
      "\n",
      "\n",
      " 58%|█████▊    | 29/50 [00:48<00:39,  1.89s/it]\u001b[A\u001b[A\u001b[A\u001b[A\u001b[A"
     ]
    },
    {
     "name": "stdout",
     "output_type": "stream",
     "text": [
      "https://untappd.com/MidnightProject/beer\n"
     ]
    },
    {
     "name": "stderr",
     "output_type": "stream",
     "text": [
      "\n",
      "\n",
      "\n",
      "\n",
      "\n",
      " 60%|██████    | 30/50 [00:49<00:35,  1.75s/it]\u001b[A\u001b[A\u001b[A\u001b[A\u001b[A"
     ]
    },
    {
     "name": "stdout",
     "output_type": "stream",
     "text": [
      "https://untappd.com/Brouwerij3Fonteinen/beer\n"
     ]
    },
    {
     "name": "stderr",
     "output_type": "stream",
     "text": [
      "\n",
      "\n",
      "\n",
      "\n",
      "\n",
      " 62%|██████▏   | 31/50 [00:51<00:31,  1.67s/it]\u001b[A\u001b[A\u001b[A\u001b[A\u001b[A"
     ]
    },
    {
     "name": "stdout",
     "output_type": "stream",
     "text": [
      "https://untappd.com/SanteAdairius/beer\n"
     ]
    },
    {
     "name": "stderr",
     "output_type": "stream",
     "text": [
      "\n",
      "\n",
      "\n",
      "\n",
      "\n",
      " 64%|██████▍   | 32/50 [00:54<00:36,  2.04s/it]\u001b[A\u001b[A\u001b[A\u001b[A\u001b[A"
     ]
    },
    {
     "name": "stdout",
     "output_type": "stream",
     "text": [
      "https://untappd.com/VitaminSeaBrewing/beer\n"
     ]
    },
    {
     "name": "stderr",
     "output_type": "stream",
     "text": [
      "\n",
      "\n",
      "\n",
      "\n",
      "\n",
      " 66%|██████▌   | 33/50 [00:56<00:35,  2.06s/it]\u001b[A\u001b[A\u001b[A\u001b[A\u001b[A"
     ]
    },
    {
     "name": "stdout",
     "output_type": "stream",
     "text": [
      "https://untappd.com/LawsonsFinestLiquids/beer\n"
     ]
    },
    {
     "name": "stderr",
     "output_type": "stream",
     "text": [
      "\n",
      "\n",
      "\n",
      "\n",
      "\n",
      " 68%|██████▊   | 34/50 [00:59<00:37,  2.32s/it]\u001b[A\u001b[A\u001b[A\u001b[A\u001b[A"
     ]
    },
    {
     "name": "stdout",
     "output_type": "stream",
     "text": [
      "https://untappd.com/monkishbrewing/beer\n"
     ]
    },
    {
     "name": "stderr",
     "output_type": "stream",
     "text": [
      "\n",
      "\n",
      "\n",
      "\n",
      "\n",
      " 70%|███████   | 35/50 [01:00<00:31,  2.11s/it]\u001b[A\u001b[A\u001b[A\u001b[A\u001b[A"
     ]
    },
    {
     "name": "stdout",
     "output_type": "stream",
     "text": [
      "https://untappd.com/RedDragonBreweryOps/beer\n"
     ]
    },
    {
     "name": "stderr",
     "output_type": "stream",
     "text": [
      "\n",
      "\n",
      "\n",
      "\n",
      "\n",
      " 72%|███████▏  | 36/50 [01:02<00:29,  2.09s/it]\u001b[A\u001b[A\u001b[A\u001b[A\u001b[A"
     ]
    },
    {
     "name": "stdout",
     "output_type": "stream",
     "text": [
      "https://untappd.com/TheRareBarrel/beer\n"
     ]
    },
    {
     "name": "stderr",
     "output_type": "stream",
     "text": [
      "\n",
      "\n",
      "\n",
      "\n",
      "\n",
      " 74%|███████▍  | 37/50 [01:04<00:25,  1.96s/it]\u001b[A\u001b[A\u001b[A\u001b[A\u001b[A"
     ]
    },
    {
     "name": "stdout",
     "output_type": "stream",
     "text": [
      "https://untappd.com/BarrelCulture/beer\n"
     ]
    },
    {
     "name": "stderr",
     "output_type": "stream",
     "text": [
      "\n",
      "\n",
      "\n",
      "\n",
      "\n",
      " 76%|███████▌  | 38/50 [01:06<00:22,  1.84s/it]\u001b[A\u001b[A\u001b[A\u001b[A\u001b[A\n",
      "\n",
      "\n",
      "\n",
      "\n",
      " 78%|███████▊  | 39/50 [01:06<00:14,  1.32s/it]\u001b[A\u001b[A\u001b[A\u001b[A\u001b[A"
     ]
    },
    {
     "name": "stdout",
     "output_type": "stream",
     "text": [
      "https://untappd.com/MAZURTBrewingCompany/beer\n",
      "https://untappd.com/Whiteroosterfarmhousebrewery/beer\n",
      "https://untappd.com/RiverRoostBrewery/beer\n"
     ]
    },
    {
     "name": "stderr",
     "output_type": "stream",
     "text": [
      "\n",
      "\n",
      "\n",
      "\n",
      "\n",
      " 82%|████████▏ | 41/50 [01:06<00:08,  1.05it/s]\u001b[A\u001b[A\u001b[A\u001b[A\u001b[A\n",
      "\n",
      "\n",
      "\n",
      "\n",
      " 86%|████████▌ | 43/50 [01:06<00:04,  1.45it/s]\u001b[A\u001b[A\u001b[A\u001b[A\u001b[A"
     ]
    },
    {
     "name": "stdout",
     "output_type": "stream",
     "text": [
      "https://untappd.com/Hnf/beer\n",
      "https://untappd.com/TiltedBarnBrewery/beer\n",
      "https://untappd.com/FoamBrewers/beer\n"
     ]
    },
    {
     "name": "stderr",
     "output_type": "stream",
     "text": [
      "\n",
      "\n",
      "\n",
      "\n",
      "\n",
      " 90%|█████████ | 45/50 [01:06<00:02,  1.95it/s]\u001b[A\u001b[A\u001b[A\u001b[A\u001b[A"
     ]
    },
    {
     "name": "stdout",
     "output_type": "stream",
     "text": [
      "https://untappd.com/OtherHalfBrewingCompany/beer\n",
      "https://untappd.com/CycleBrewingCompany/beer\n",
      "https://untappd.com/Shared/beer\n"
     ]
    },
    {
     "name": "stderr",
     "output_type": "stream",
     "text": [
      "\n",
      "\n",
      "\n",
      "\n",
      "\n",
      " 94%|█████████▍| 47/50 [01:06<00:01,  2.60it/s]\u001b[A\u001b[A\u001b[A\u001b[A\u001b[A\n",
      "\n",
      "\n",
      "\n",
      "\n",
      " 98%|█████████▊| 49/50 [01:07<00:00,  3.39it/s]\u001b[A\u001b[A\u001b[A\u001b[A\u001b[A"
     ]
    },
    {
     "name": "stdout",
     "output_type": "stream",
     "text": [
      "https://untappd.com/MisbeehavinMeads/beer\n",
      "https://untappd.com/GreatNotionBrewing/beer\n",
      "https://untappd.com/NarrowGaugeBrewing/beer\n"
     ]
    },
    {
     "name": "stderr",
     "output_type": "stream",
     "text": [
      "\n",
      "\n",
      "\n",
      "\n",
      "\n",
      "100%|██████████| 50/50 [01:07<00:00,  1.34s/it]\u001b[A\u001b[A\u001b[A\u001b[A\u001b[A"
     ]
    }
   ],
   "source": [
    "from selenium.webdriver.common.action_chains import ActionChains\n",
    "\n",
    "df_breweries = pd.DataFrame()\n",
    "untappd_columns = ['name', 'brewery', 'style', 'abv', 'ibu', 'rating', 'raters', 'date']\n",
    "for col in untappd_columns:\n",
    "    df_breweries[col]=''\n",
    "\n",
    "count=0    \n",
    "error = True\n",
    "for i in tqdm(breweries):\n",
    "    url = i + '/beer'\n",
    "    print(url)\n",
    "    headers = {'User-Agent': 'Mozilla/5.0 (Macintosh; Intel Mac OS X 10_10_1) AppleWebKit/537.36 (KHTML, like Gecko) Chrome/39.0.2171.95 Safari/537.36'}\n",
    "    driver.get(url)\n",
    "\n",
    "    error=True\n",
    "    while(error):\n",
    "        try:\n",
    "            target = driver.find_element_by_class_name('footer-nav')\n",
    "            actions = ActionChains(driver)\n",
    "            actions.move_to_element_with_offset(target, 0, -50)\n",
    "            actions.perform()\n",
    "            \n",
    "            temp = driver.page_source\n",
    "            tempy = BeautifulSoup(temp, 'lxml')\n",
    "            beer_items_tempy = tempy.findAll(class_='beer-item')\n",
    "            err1 = len(beer_items_tempy)\n",
    "\n",
    "#           print line below to check for 'show more itterations'            \n",
    "#            print(\"err1: \" + str(err1))\n",
    "    \n",
    "            button = driver.find_element_by_css_selector(\"a.button.yellow.more-list-items\")\n",
    "            action = ActionChains(driver)\n",
    "            action.move_to_element_with_offset(button, 10, 5)\n",
    "            action.click()\n",
    "            action.perform()\n",
    "            \n",
    "            time.sleep(1)\n",
    "            \n",
    "            target = driver.find_element_by_class_name('footer-nav')\n",
    "            actions = ActionChains(driver)\n",
    "            actions.move_to_element_with_offset(target, 0, -50)\n",
    "            actions.perform()\n",
    "            \n",
    "            time.sleep(1)\n",
    "            \n",
    "            temp2 = driver.page_source\n",
    "            tempy2 = BeautifulSoup(temp2, 'lxml')\n",
    "            beer_items_tempy2 = tempy2.findAll(class_='beer-item')\n",
    "            err2 = len(beer_items_tempy2)\n",
    "\n",
    "#           print line below to check for 'show more itterations'\n",
    "#             print(\"err2: \" + str(err2))\n",
    "            \n",
    "            if err1 == err2:\n",
    "                error=False\n",
    "\n",
    "        except Exception as e:\n",
    "            error=False\n",
    "        \n",
    "    soup = driver.page_source\n",
    "    soupy = BeautifulSoup(soup, 'lxml')\n",
    "    \n",
    "    beer_items = soupy.findAll(class_='beer-item')\n",
    "\n",
    "    for beer in beer_items:\n",
    "\n",
    "        df_breweries.set_value(count, 'name', beer.findAll(class_=\"name\")[0].find('a').text.strip())\n",
    "        df_breweries.set_value(count, 'brewery', i)\n",
    "        df_breweries.set_value(count, 'style', beer.findAll(class_=\"style\")[0].text.strip())\n",
    "        df_breweries.set_value(count, 'abv', beer.findAll(class_=\"abv\")[0].text.strip())\n",
    "        df_breweries.set_value(count, 'ibu', beer.findAll(class_=\"ibu\")[0].text.strip())\n",
    "        df_breweries.set_value(count, 'rating', beer.findAll(class_=\"rating\")[0].text.strip())\n",
    "        df_breweries.set_value(count, 'raters', beer.findAll(class_=\"raters\")[0].text.strip())\n",
    "        df_breweries.set_value(count, 'date', beer.findAll(class_=\"date\")[0].text.strip())\n",
    "        df_breweries.set_value(count, 'text',beer.findAll(class_='desc')[0].text.strip())\n",
    "        \n",
    "        count +=1"
   ]
  },
  {
   "cell_type": "code",
   "execution_count": 79,
   "metadata": {},
   "outputs": [
    {
     "data": {
      "text/plain": [
       "(934, 9)"
      ]
     },
     "execution_count": 79,
     "metadata": {},
     "output_type": "execute_result"
    }
   ],
   "source": [
    "df_breweries['brewery'].value_counts()\n",
    "df_breweries.shape"
   ]
  },
  {
   "cell_type": "code",
   "execution_count": 80,
   "metadata": {},
   "outputs": [],
   "source": [
    "df_breweries.to_csv('data/test2.csv')"
   ]
  },
  {
   "cell_type": "code",
   "execution_count": null,
   "metadata": {},
   "outputs": [],
   "source": [
    "df_breweries.head()\n",
    "df_breweries.to_csv('data/full_brewery_data.csv')"
   ]
  },
  {
   "cell_type": "markdown",
   "metadata": {},
   "source": [
    "# NLP data grab\n",
    "\n",
    "After building some ML models with the data I just grabbed, the results weren't so good. Train: 35% Test: 22%, we should have enough data at 5000+ observations. Now we need to find some better features. We'll use NLP on the description texts we grab to do some more feature creation."
   ]
  },
  {
   "cell_type": "code",
   "execution_count": null,
   "metadata": {},
   "outputs": [],
   "source": [
    "driver = webdriver.Chrome('./chromedriver')\n",
    "driver.get('https://untappd.com/login')\n",
    "\n",
    "username = driver.find_element_by_id(\"username\")\n",
    "password = driver.find_element_by_id(\"password\")\n",
    "\n",
    "username.send_keys(\"ayang2012\")\n",
    "password.send_keys(\"mulciber1\")\n",
    "\n",
    "driver.find_element_by_css_selector(\".button.yellow.submit-btn\").find_element_by_tag_name('input').click()"
   ]
  },
  {
   "cell_type": "code",
   "execution_count": null,
   "metadata": {
    "scrolled": false
   },
   "outputs": [],
   "source": [
    "df_breweries = pd.DataFrame()\n",
    "untappd_columns = ['name', 'text']\n",
    "for col in untappd_columns:\n",
    "    df_breweries[col]=''\n",
    "\n",
    "count=0    \n",
    "error = True\n",
    "for i in tqdm(breweries):\n",
    "    url = i + '/beer'\n",
    "    print(url)\n",
    "    headers = {'User-Agent': 'Mozilla/5.0 (Macintosh; Intel Mac OS X 10_10_1) AppleWebKit/537.36 (KHTML, like Gecko) Chrome/39.0.2171.95 Safari/537.36'}\n",
    "    driver.get(url)\n",
    "    \n",
    "    error=True\n",
    "    while(error):\n",
    "        try:\n",
    "            temp = driver.page_source\n",
    "            tempy = BeautifulSoup(temp, 'lxml')\n",
    "            beer_items_tempy = tempy.findAll(class_='beer-item')\n",
    "            err1 = len(beer_items_tempy)\n",
    "\n",
    "#           print line below to check for 'show more itterations'            \n",
    "#            print(\"err1: \" + str(err1))\n",
    "    \n",
    "            button = driver.find_element_by_css_selector(\"a.button.yellow.more-list-items\")\n",
    "            action = ActionChains(driver)\n",
    "            action.move_to_element_with_offset(button, 10, 5)\n",
    "            action.click()\n",
    "            action.perform()\n",
    "            \n",
    "            time.sleep(1)\n",
    "            \n",
    "            target = driver.find_element_by_class_name('footer-nav')\n",
    "            actions = ActionChains(driver)\n",
    "            actions.move_to_element(target)\n",
    "            actions.perform()\n",
    "            \n",
    "            temp2 = driver.page_source\n",
    "            tempy2 = BeautifulSoup(temp2, 'lxml')\n",
    "            beer_items_tempy2 = tempy2.findAll(class_='beer-item')\n",
    "            err2 = len(beer_items_tempy2)\n",
    "\n",
    "#           print line below to check for 'show more itterations'\n",
    "#             print(\"err2: \" + str(err2))\n",
    "            \n",
    "            if err1 == err2:\n",
    "                error=False\n",
    "\n",
    "        except Exception as e:\n",
    "            error=False\n",
    "        \n",
    "    soup = driver.page_source\n",
    "    soupy = BeautifulSoup(soup, 'lxml')\n",
    "    \n",
    "    beer_items = soupy.findAll(class_='beer-item')\n",
    "\n",
    "    for beer in beer_items:\n",
    "\n",
    "        df_breweries.set_value(count, 'name', beer.findAll(class_=\"name\")[0].find('a').text.strip())\n",
    "        df_breweries.set_value(count, 'text',beer.findAll(class_='desc')[0].text.strip())\n",
    "        count +=1"
   ]
  },
  {
   "cell_type": "code",
   "execution_count": null,
   "metadata": {},
   "outputs": [],
   "source": [
    "df_breweries.to_csv(\"untappd_beer_texts.csv\")"
   ]
  },
  {
   "cell_type": "code",
   "execution_count": null,
   "metadata": {},
   "outputs": [],
   "source": []
  },
  {
   "cell_type": "code",
   "execution_count": null,
   "metadata": {},
   "outputs": [],
   "source": [
    "import random\n",
    "countries = random.sample(range(1, 100), 0)\n"
   ]
  },
  {
   "cell_type": "code",
   "execution_count": null,
   "metadata": {},
   "outputs": [],
   "source": [
    "df_breweries = pd.DataFrame()\n",
    "untappd_columns = ['name', 'brewery', 'style', 'abv', 'ibu', 'rating', 'raters', 'date']\n",
    "for col in untappd_columns:\n",
    "    df_breweries[col]=''\n",
    "\n",
    "count=0    \n",
    "error = True\n",
    "for i in countries:\n",
    "    url = 'https://untappd.com/beer/top_rated?country_id=' + str(i)\n",
    "    print(url)\n",
    "    headers = {'User-Agent': 'Mozilla/5.0 (Macintosh; Intel Mac OS X 10_10_1) AppleWebKit/537.36 (KHTML, like Gecko) Chrome/39.0.2171.95 Safari/537.36'}\n",
    "    driver.get(url)\n",
    "    \n",
    "    error=True\n",
    "    while(error):\n",
    "        try:\n",
    "            temp = driver.page_source\n",
    "            tempy = BeautifulSoup(temp, 'lxml')\n",
    "            beer_items_tempy = tempy.findAll(class_='beer-item')\n",
    "            err1 = len(beer_items_tempy)\n",
    "\n",
    "#           print line below to check for 'show more itterations'            \n",
    "#            print(\"err1: \" + str(err1))\n",
    "    \n",
    "            button = driver.find_element_by_css_selector(\"a.button.yellow.more-list-items\")\n",
    "            action = ActionChains(driver)\n",
    "            action.move_to_element_with_offset(button, 10, 5)\n",
    "            action.click()\n",
    "            action.perform()\n",
    "            \n",
    "            time.sleep(1)\n",
    "            \n",
    "            target = driver.find_element_by_class_name('footer-nav')\n",
    "            actions = ActionChains(driver)\n",
    "            actions.move_to_element(target)\n",
    "            actions.perform()\n",
    "            \n",
    "            temp2 = driver.page_source\n",
    "            tempy2 = BeautifulSoup(temp2, 'lxml')\n",
    "            beer_items_tempy2 = tempy2.findAll(class_='beer-item')\n",
    "            err2 = len(beer_items_tempy2)\n",
    "\n",
    "#           print line below to check for 'show more itterations'\n",
    "#             print(\"err2: \" + str(err2))\n",
    "            \n",
    "            if err1 == err2:\n",
    "                error=False\n",
    "\n",
    "        except Exception as e:\n",
    "            error=False\n",
    "        \n",
    "    soup = driver.page_source\n",
    "    soupy = BeautifulSoup(soup, 'lxml')\n",
    "    \n",
    "    beer_items = soupy.findAll(class_='beer-item')\n",
    "\n",
    "    for beer in beer_items:\n",
    "\n",
    "        df_breweries.set_value(count, 'name', beer.findAll(class_=\"name\")[0].find('a').text.strip())\n",
    "        df_breweries.set_value(count, 'brewery', beer.findAll(class_='style')[0].findAll('a')[0]['href'].strip())\n",
    "        df_breweries.set_value(count, 'style', beer.findAll(class_=\"style\")[0].text.strip())\n",
    "        df_breweries.set_value(count, 'abv', beer.findAll(class_=\"abv\")[0].text.strip())\n",
    "        df_breweries.set_value(count, 'ibu', beer.findAll(class_=\"ibu\")[0].text.strip())\n",
    "        df_breweries.set_value(count, 'rating', beer.findAll(class_=\"rating\")[0].text.strip())\n",
    "        df_breweries.set_value(count, 'raters', beer.findAll(class_=\"raters\")[0].text.strip())\n",
    "        df_breweries.set_value(count, 'date', beer.findAll(class_=\"date\")[0].text.strip())\n",
    "        df_breweries.set_value(count, 'text',beer.findAll(class_='desc')[0].text.strip())\n",
    "        \n",
    "        count +=1"
   ]
  },
  {
   "cell_type": "code",
   "execution_count": null,
   "metadata": {},
   "outputs": [],
   "source": [
    "df_breweries.head()"
   ]
  },
  {
   "cell_type": "code",
   "execution_count": null,
   "metadata": {},
   "outputs": [],
   "source": [
    "df_breweries.to_csv('30countries_test_1.csv')"
   ]
  },
  {
   "cell_type": "code",
   "execution_count": 2,
   "metadata": {},
   "outputs": [
    {
     "data": {
      "text/html": [
       "<div>\n",
       "<style scoped>\n",
       "    .dataframe tbody tr th:only-of-type {\n",
       "        vertical-align: middle;\n",
       "    }\n",
       "\n",
       "    .dataframe tbody tr th {\n",
       "        vertical-align: top;\n",
       "    }\n",
       "\n",
       "    .dataframe thead th {\n",
       "        text-align: right;\n",
       "    }\n",
       "</style>\n",
       "<table border=\"1\" class=\"dataframe\">\n",
       "  <thead>\n",
       "    <tr style=\"text-align: right;\">\n",
       "      <th></th>\n",
       "      <th>Unnamed: 0</th>\n",
       "      <th>name</th>\n",
       "      <th>brewery</th>\n",
       "      <th>style</th>\n",
       "      <th>abv</th>\n",
       "      <th>ibu</th>\n",
       "      <th>rating</th>\n",
       "      <th>raters</th>\n",
       "      <th>date</th>\n",
       "      <th>text</th>\n",
       "    </tr>\n",
       "  </thead>\n",
       "  <tbody>\n",
       "    <tr>\n",
       "      <th>0</th>\n",
       "      <td>0</td>\n",
       "      <td>La Negra</td>\n",
       "      <td>/CadejoBrewingCompany</td>\n",
       "      <td>Cadejo Brewing Company</td>\n",
       "      <td>4.8% ABV</td>\n",
       "      <td>31 IBU</td>\n",
       "      <td>(3.53)</td>\n",
       "      <td>710 Ratings</td>\n",
       "      <td>Added 03/30/14</td>\n",
       "      <td>El estilo clásico irlandés. Elaborada con una ...</td>\n",
       "    </tr>\n",
       "    <tr>\n",
       "      <th>1</th>\n",
       "      <td>1</td>\n",
       "      <td>La Suegra IPA</td>\n",
       "      <td>/CadejoBrewingCompany</td>\n",
       "      <td>Cadejo Brewing Company</td>\n",
       "      <td>5.5% ABV</td>\n",
       "      <td>N/A IBU</td>\n",
       "      <td>(3.53)</td>\n",
       "      <td>414 Ratings</td>\n",
       "      <td>Added 06/18/16</td>\n",
       "      <td>NaN</td>\n",
       "    </tr>\n",
       "    <tr>\n",
       "      <th>2</th>\n",
       "      <td>2</td>\n",
       "      <td>Roja</td>\n",
       "      <td>/CadejoBrewingCompany</td>\n",
       "      <td>Cadejo Brewing Company</td>\n",
       "      <td>5.3% ABV</td>\n",
       "      <td>31 IBU</td>\n",
       "      <td>(3.47)</td>\n",
       "      <td>951 Ratings</td>\n",
       "      <td>Added 03/26/13</td>\n",
       "      <td>Aromática, con buen balance entre el amargo de...</td>\n",
       "    </tr>\n",
       "    <tr>\n",
       "      <th>3</th>\n",
       "      <td>3</td>\n",
       "      <td>Hija De Pooh</td>\n",
       "      <td>/CadejoBrewingCompany</td>\n",
       "      <td>Cadejo Brewing Company</td>\n",
       "      <td>4.3% ABV</td>\n",
       "      <td>17 IBU</td>\n",
       "      <td>(3.42)</td>\n",
       "      <td>784 Ratings</td>\n",
       "      <td>Added 09/06/15</td>\n",
       "      <td>Hija de Pooh - Honey Blonde Ale Una cerveza un...</td>\n",
       "    </tr>\n",
       "    <tr>\n",
       "      <th>4</th>\n",
       "      <td>4</td>\n",
       "      <td>Suprema Roja</td>\n",
       "      <td>/w/industrias-la-constancia/56613</td>\n",
       "      <td>Industrias La Constancia</td>\n",
       "      <td>5.2% ABV</td>\n",
       "      <td>N/A IBU</td>\n",
       "      <td>(3.37)</td>\n",
       "      <td>202 Ratings</td>\n",
       "      <td>Added 05/17/13</td>\n",
       "      <td>NaN</td>\n",
       "    </tr>\n",
       "  </tbody>\n",
       "</table>\n",
       "</div>"
      ],
      "text/plain": [
       "   Unnamed: 0           name                            brewery  \\\n",
       "0           0       La Negra              /CadejoBrewingCompany   \n",
       "1           1  La Suegra IPA              /CadejoBrewingCompany   \n",
       "2           2           Roja              /CadejoBrewingCompany   \n",
       "3           3   Hija De Pooh              /CadejoBrewingCompany   \n",
       "4           4   Suprema Roja  /w/industrias-la-constancia/56613   \n",
       "\n",
       "                      style       abv      ibu  rating       raters  \\\n",
       "0    Cadejo Brewing Company  4.8% ABV   31 IBU  (3.53)  710 Ratings   \n",
       "1    Cadejo Brewing Company  5.5% ABV  N/A IBU  (3.53)  414 Ratings   \n",
       "2    Cadejo Brewing Company  5.3% ABV   31 IBU  (3.47)  951 Ratings   \n",
       "3    Cadejo Brewing Company  4.3% ABV   17 IBU  (3.42)  784 Ratings   \n",
       "4  Industrias La Constancia  5.2% ABV  N/A IBU  (3.37)  202 Ratings   \n",
       "\n",
       "             date                                               text  \n",
       "0  Added 03/30/14  El estilo clásico irlandés. Elaborada con una ...  \n",
       "1  Added 06/18/16                                                NaN  \n",
       "2  Added 03/26/13  Aromática, con buen balance entre el amargo de...  \n",
       "3  Added 09/06/15  Hija de Pooh - Honey Blonde Ale Una cerveza un...  \n",
       "4  Added 05/17/13                                                NaN  "
      ]
     },
     "execution_count": 2,
     "metadata": {},
     "output_type": "execute_result"
    }
   ],
   "source": [
    "import pandas as pd\n",
    "df1 = pd.read_csv(\"30countries_test_1.csv\")\n",
    "df1.head()"
   ]
  },
  {
   "cell_type": "code",
   "execution_count": 2,
   "metadata": {},
   "outputs": [
    {
     "data": {
      "text/plain": [
       "(2229, 10)"
      ]
     },
     "execution_count": 2,
     "metadata": {},
     "output_type": "execute_result"
    }
   ],
   "source": [
    "import pandas as pd\n",
    "df1 = pd.read_csv(\"data/full_brewery_data.csv\")\n",
    "df1.shape"
   ]
  },
  {
   "cell_type": "code",
   "execution_count": 5,
   "metadata": {},
   "outputs": [
    {
     "data": {
      "text/plain": [
       "(5134, 9)"
      ]
     },
     "execution_count": 5,
     "metadata": {},
     "output_type": "execute_result"
    }
   ],
   "source": [
    "df2 = pd.read_csv(\"data/untappd_breweries_ratings.csv\")\n",
    "df2.shape"
   ]
  },
  {
   "cell_type": "code",
   "execution_count": 6,
   "metadata": {},
   "outputs": [
    {
     "data": {
      "text/html": [
       "<div>\n",
       "<style scoped>\n",
       "    .dataframe tbody tr th:only-of-type {\n",
       "        vertical-align: middle;\n",
       "    }\n",
       "\n",
       "    .dataframe tbody tr th {\n",
       "        vertical-align: top;\n",
       "    }\n",
       "\n",
       "    .dataframe thead th {\n",
       "        text-align: right;\n",
       "    }\n",
       "</style>\n",
       "<table border=\"1\" class=\"dataframe\">\n",
       "  <thead>\n",
       "    <tr style=\"text-align: right;\">\n",
       "      <th></th>\n",
       "      <th>Unnamed: 0</th>\n",
       "      <th>name</th>\n",
       "      <th>brewery</th>\n",
       "      <th>style</th>\n",
       "      <th>abv</th>\n",
       "      <th>ibu</th>\n",
       "      <th>rating</th>\n",
       "      <th>raters</th>\n",
       "      <th>date</th>\n",
       "    </tr>\n",
       "  </thead>\n",
       "  <tbody>\n",
       "    <tr>\n",
       "      <th>0</th>\n",
       "      <td>0</td>\n",
       "      <td>Blue Suede Shews</td>\n",
       "      <td>https://untappd.com/PipsMeadery</td>\n",
       "      <td>Mead - Other</td>\n",
       "      <td>14% ABV</td>\n",
       "      <td>N/A IBU</td>\n",
       "      <td>(4.85)</td>\n",
       "      <td>643 Ratings</td>\n",
       "      <td>Added 04/29/16</td>\n",
       "    </tr>\n",
       "    <tr>\n",
       "      <th>1</th>\n",
       "      <td>1</td>\n",
       "      <td>Find the Lady</td>\n",
       "      <td>https://untappd.com/PipsMeadery</td>\n",
       "      <td>Mead - Melomel</td>\n",
       "      <td>14% ABV</td>\n",
       "      <td>N/A IBU</td>\n",
       "      <td>(4.65)</td>\n",
       "      <td>532 Ratings</td>\n",
       "      <td>Added 01/19/17</td>\n",
       "    </tr>\n",
       "    <tr>\n",
       "      <th>2</th>\n",
       "      <td>2</td>\n",
       "      <td>The Monte</td>\n",
       "      <td>https://untappd.com/PipsMeadery</td>\n",
       "      <td>Mead - Other</td>\n",
       "      <td>14% ABV</td>\n",
       "      <td>N/A IBU</td>\n",
       "      <td>(4.72)</td>\n",
       "      <td>474 Ratings</td>\n",
       "      <td>Added 03/18/17</td>\n",
       "    </tr>\n",
       "    <tr>\n",
       "      <th>3</th>\n",
       "      <td>3</td>\n",
       "      <td>Levitation</td>\n",
       "      <td>https://untappd.com/PipsMeadery</td>\n",
       "      <td>Mead - Other</td>\n",
       "      <td>14% ABV</td>\n",
       "      <td>N/A IBU</td>\n",
       "      <td>(4.54)</td>\n",
       "      <td>311 Ratings</td>\n",
       "      <td>Added 04/20/18</td>\n",
       "    </tr>\n",
       "    <tr>\n",
       "      <th>4</th>\n",
       "      <td>4</td>\n",
       "      <td>Call of the Void</td>\n",
       "      <td>https://untappd.com/PipsMeadery</td>\n",
       "      <td>Mead - Melomel</td>\n",
       "      <td>14% ABV</td>\n",
       "      <td>N/A IBU</td>\n",
       "      <td>(4.85)</td>\n",
       "      <td>308 Ratings</td>\n",
       "      <td>Added 08/12/17</td>\n",
       "    </tr>\n",
       "  </tbody>\n",
       "</table>\n",
       "</div>"
      ],
      "text/plain": [
       "   Unnamed: 0              name                          brewery  \\\n",
       "0           0  Blue Suede Shews  https://untappd.com/PipsMeadery   \n",
       "1           1     Find the Lady  https://untappd.com/PipsMeadery   \n",
       "2           2         The Monte  https://untappd.com/PipsMeadery   \n",
       "3           3        Levitation  https://untappd.com/PipsMeadery   \n",
       "4           4  Call of the Void  https://untappd.com/PipsMeadery   \n",
       "\n",
       "            style      abv      ibu  rating       raters            date  \n",
       "0    Mead - Other  14% ABV  N/A IBU  (4.85)  643 Ratings  Added 04/29/16  \n",
       "1  Mead - Melomel  14% ABV  N/A IBU  (4.65)  532 Ratings  Added 01/19/17  \n",
       "2    Mead - Other  14% ABV  N/A IBU  (4.72)  474 Ratings  Added 03/18/17  \n",
       "3    Mead - Other  14% ABV  N/A IBU  (4.54)  311 Ratings  Added 04/20/18  \n",
       "4  Mead - Melomel  14% ABV  N/A IBU  (4.85)  308 Ratings  Added 08/12/17  "
      ]
     },
     "execution_count": 6,
     "metadata": {},
     "output_type": "execute_result"
    }
   ],
   "source": [
    "df2.head()"
   ]
  },
  {
   "cell_type": "code",
   "execution_count": null,
   "metadata": {},
   "outputs": [],
   "source": [
    "df2['style'].value_counts()"
   ]
  },
  {
   "cell_type": "code",
   "execution_count": 9,
   "metadata": {},
   "outputs": [
    {
     "data": {
      "text/plain": [
       "0      mead other\n",
       "1    mead melomel\n",
       "2      mead other\n",
       "3      mead other\n",
       "4    mead melomel\n",
       "Name: style, dtype: object"
      ]
     },
     "execution_count": 9,
     "metadata": {},
     "output_type": "execute_result"
    }
   ],
   "source": [
    "import QK\n",
    "df_texts = QK.process_data(df2['style'])\n",
    "df_texts.head()"
   ]
  },
  {
   "cell_type": "code",
   "execution_count": 10,
   "metadata": {},
   "outputs": [
    {
     "name": "stderr",
     "output_type": "stream",
     "text": [
      "[nltk_data] Downloading package stopwords to\n",
      "[nltk_data]     /Users/MacBookPro/nltk_data...\n",
      "[nltk_data]   Package stopwords is already up-to-date!\n"
     ]
    },
    {
     "data": {
      "text/plain": [
       "0            mead\n",
       "1    mead melomel\n",
       "2            mead\n",
       "3            mead\n",
       "4    mead melomel\n",
       "Name: style, dtype: object"
      ]
     },
     "execution_count": 10,
     "metadata": {},
     "output_type": "execute_result"
    }
   ],
   "source": [
    "df_texts = QK.stop_stem((df_texts.apply(str)))\n",
    "df_texts.head()"
   ]
  },
  {
   "cell_type": "code",
   "execution_count": 27,
   "metadata": {
    "scrolled": true
   },
   "outputs": [
    {
     "data": {
      "text/plain": [
       "['ale',\n",
       " 'american',\n",
       " 'ipa',\n",
       " 'imperi',\n",
       " 'doubl',\n",
       " 'sour',\n",
       " 'stout',\n",
       " 'farmhous',\n",
       " 'wild',\n",
       " 'saison',\n",
       " 'mead',\n",
       " 'new',\n",
       " 'england',\n",
       " 'berlin',\n",
       " 'weiss',\n",
       " 'gose',\n",
       " 'fruit',\n",
       " 'pale',\n",
       " 'melomel',\n",
       " 'beer']"
      ]
     },
     "execution_count": 27,
     "metadata": {},
     "output_type": "execute_result"
    }
   ],
   "source": [
    "[i[0] for i in all_words.most_common(20)]"
   ]
  },
  {
   "cell_type": "code",
   "execution_count": 23,
   "metadata": {},
   "outputs": [
    {
     "data": {
      "text/plain": [
       "FreqDist({'ale': 1731, 'american': 1445, 'ipa': 1287, 'imperi': 1280, 'doubl': 1160, 'sour': 888, 'stout': 854, 'farmhous': 506, 'wild': 504, 'saison': 462, ...})"
      ]
     },
     "execution_count": 23,
     "metadata": {},
     "output_type": "execute_result"
    }
   ],
   "source": [
    "all_words"
   ]
  },
  {
   "cell_type": "code",
   "execution_count": 19,
   "metadata": {
    "scrolled": true
   },
   "outputs": [
    {
     "name": "stderr",
     "output_type": "stream",
     "text": [
      "[nltk_data] Downloading package punkt to\n",
      "[nltk_data]     /Users/MacBookPro/nltk_data...\n",
      "[nltk_data]   Package punkt is already up-to-date!\n"
     ]
    },
    {
     "name": "stdout",
     "output_type": "stream",
     "text": [
      "('mead', 344)\n",
      "('melomel', 173)\n",
      "('pyment', 13)\n",
      "('cyser', 15)\n",
      "('metheglin', 16)\n",
      "('stout', 854)\n",
      "('imperi', 1280)\n",
      "('doubl', 1160)\n",
      "('oatmeal', 32)\n",
      "('barleywin', 38)\n",
      "('english', 28)\n",
      "('sour', 888)\n",
      "('berlin', 208)\n",
      "('weiss', 208)\n",
      "('russian', 38)\n",
      "('american', 1445)\n",
      "('ipa', 1287)\n",
      "('new', 262)\n",
      "('england', 259)\n",
      "('pumpkin', 6)\n",
      "('yam', 6)\n",
      "('beer', 140)\n",
      "('milk', 99)\n",
      "('sweet', 99)\n",
      "('wild', 504)\n",
      "('ale', 1731)\n",
      "('brown', 37)\n",
      "('scotch', 9)\n",
      "('wee', 9)\n",
      "('heavi', 9)\n",
      "('belgian', 99)\n",
      "('strong', 37)\n",
      "('golden', 33)\n",
      "('gose', 201)\n",
      "('pale', 175)\n",
      "('porter', 80)\n",
      "('rye', 5)\n",
      "('wheat', 22)\n",
      "('saison', 462)\n",
      "('farmhous', 506)\n",
      "('red', 28)\n",
      "('blond', 59)\n",
      "('dubbel', 12)\n",
      "('pilsner', 39)\n",
      "('witbier', 10)\n",
      "('flander', 8)\n",
      "('oud', 4)\n",
      "('bruin', 4)\n",
      "('grisett', 6)\n",
      "('adambi', 1)\n",
      "('quad', 4)\n",
      "('bièr', 16)\n",
      "('de', 14)\n",
      "('champagn', 2)\n",
      "('brut', 7)\n",
      "('old', 5)\n",
      "('baltic', 7)\n",
      "('tripl', 49)\n",
      "('fruit', 179)\n",
      "('amber', 10)\n",
      "('extra', 4)\n",
      "('special', 4)\n",
      "('bitter', 6)\n",
      "('german', 9)\n",
      "('coffe', 25)\n",
      "('kellerbi', 5)\n",
      "('zwickelbi', 5)\n",
      "('lager', 26)\n",
      "('north', 3)\n",
      "('adjunct', 3)\n",
      "('mild', 4)\n",
      "('irish', 2)\n",
      "('dark', 24)\n",
      "('black', 9)\n",
      "('cascadian', 9)\n",
      "('schwarzbier', 1)\n",
      "('hefeweizen', 6)\n",
      "('lambic', 81)\n",
      "('frambois', 7)\n",
      "('gueuz', 15)\n",
      "('kriek', 14)\n",
      "('tradit', 26)\n",
      "('faro', 2)\n",
      "('gard', 12)\n",
      "('honey', 1)\n",
      "('intern', 6)\n",
      "('session', 76)\n",
      "('india', 41)\n",
      "('ipl', 3)\n",
      "('czech', 4)\n",
      "('light', 4)\n",
      "('shandi', 3)\n",
      "('radler', 3)\n",
      "('märzen', 8)\n",
      "('zealand', 3)\n",
      "('kölsch', 6)\n",
      "('milkshak', 21)\n",
      "('white', 1)\n",
      "('cream', 7)\n",
      "('cider', 5)\n",
      "('dri', 1)\n",
      "('sahti', 2)\n",
      "('wine', 1)\n",
      "('patersbi', 1)\n",
      "('tripel', 12)\n",
      "('harvest', 1)\n",
      "('dunkelweizen', 1)\n",
      "('hell', 1)\n",
      "('vienna', 1)\n",
      "('spice', 3)\n",
      "('herb', 3)\n",
      "('winter', 1)\n",
      "('bock', 1)\n",
      "('eisbock', 1)\n",
      "('tabl', 2)\n",
      "('braggot', 1)\n",
      "('oyster', 1)\n",
      "('non', 1)\n",
      "('alcohol', 1)\n"
     ]
    }
   ],
   "source": [
    "all_words = QK.generate_words(df_texts)\n",
    "for x in [(i, all_words[i]) for i in all_words]:\n",
    "    print(x)"
   ]
  },
  {
   "cell_type": "code",
   "execution_count": null,
   "metadata": {},
   "outputs": [],
   "source": []
  },
  {
   "cell_type": "code",
   "execution_count": 12,
   "metadata": {},
   "outputs": [
    {
     "data": {
      "text/plain": [
       "['mead',\n",
       " 'melomel',\n",
       " 'pyment',\n",
       " 'cyser',\n",
       " 'metheglin',\n",
       " 'stout',\n",
       " 'imperi',\n",
       " 'doubl',\n",
       " 'oatmeal',\n",
       " 'barleywin',\n",
       " 'english',\n",
       " 'sour',\n",
       " 'berlin',\n",
       " 'weiss',\n",
       " 'russian',\n",
       " 'american',\n",
       " 'ipa',\n",
       " 'new',\n",
       " 'england',\n",
       " 'pumpkin']"
      ]
     },
     "execution_count": 12,
     "metadata": {},
     "output_type": "execute_result"
    }
   ],
   "source": [
    "word_features = list(all_words.keys())[:20]\n",
    "word_features"
   ]
  },
  {
   "cell_type": "code",
   "execution_count": null,
   "metadata": {},
   "outputs": [],
   "source": []
  }
 ],
 "metadata": {
  "kernelspec": {
   "display_name": "Python 3",
   "language": "python",
   "name": "python3"
  },
  "language_info": {
   "codemirror_mode": {
    "name": "ipython",
    "version": 3
   },
   "file_extension": ".py",
   "mimetype": "text/x-python",
   "name": "python",
   "nbconvert_exporter": "python",
   "pygments_lexer": "ipython3",
   "version": "3.6.7"
  }
 },
 "nbformat": 4,
 "nbformat_minor": 2
}
