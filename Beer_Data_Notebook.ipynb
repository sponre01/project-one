{
 "cells": [
  {
   "cell_type": "markdown",
   "metadata": {},
   "source": [
    "# Acquiring Beer Data \n",
    "\n",
    "From Brewerydb: https://www.brewerydb.com/"
   ]
  },
  {
   "cell_type": "code",
   "execution_count": 1,
   "metadata": {},
   "outputs": [],
   "source": [
    "#import dependencies\n",
    "import api_setup as ap\n",
    "from tqdm import tqdm\n",
    "import pandas as pd"
   ]
  },
  {
   "cell_type": "code",
   "execution_count": null,
   "metadata": {},
   "outputs": [],
   "source": [
    "beer_data = pd.DataFrame()\n",
    "# withBreweries and withIngredients are completely empty\n",
    "beer_features = ['id', 'name', 'nameDisplay', 'abv', 'styleId', 'year', 'glasswareId','isOrganic', 'breweries', 'glasswareId', 'isRetired', 'status', 'statusDisplay']\n",
    "\n",
    "for feature in beer_features:\n",
    "    beer_data[feature]=''\n",
    "\n",
    "count=0\n",
    "for p in tqdm(range(1,24)):\n",
    "    data = ap.get_data(page=p, custom='&withBreweries=Y&withIngredients=Y')\n",
    "    try:\n",
    "        for i in range(50):\n",
    "            for feature in beer_features:\n",
    "                if feature == 'breweries':\n",
    "                    beer_data.set_value(count,feature,data['data'][i][feature][0]['id'])\n",
    "                else:\n",
    "                    try:\n",
    "                        beer_data.set_value(count,feature,data['data'][i][feature])\n",
    "\n",
    "                    except Exception as e: \n",
    "                        print(f\"name:{data['data'][i]['name']}, page:{p}, item:{i}, feature:{feature}, error:{e}\")\n",
    "            count+=1\n",
    "    except Exception as e:\n",
    "        print(e)\n",
    "                      \n",
    "                      "
   ]
  },
  {
   "cell_type": "code",
   "execution_count": 3,
   "metadata": {},
   "outputs": [
    {
     "data": {
      "text/html": [
       "<div>\n",
       "<style scoped>\n",
       "    .dataframe tbody tr th:only-of-type {\n",
       "        vertical-align: middle;\n",
       "    }\n",
       "\n",
       "    .dataframe tbody tr th {\n",
       "        vertical-align: top;\n",
       "    }\n",
       "\n",
       "    .dataframe thead th {\n",
       "        text-align: right;\n",
       "    }\n",
       "</style>\n",
       "<table border=\"1\" class=\"dataframe\">\n",
       "  <thead>\n",
       "    <tr style=\"text-align: right;\">\n",
       "      <th></th>\n",
       "      <th>id</th>\n",
       "      <th>name</th>\n",
       "      <th>nameDisplay</th>\n",
       "      <th>abv</th>\n",
       "      <th>styleId</th>\n",
       "      <th>year</th>\n",
       "      <th>glasswareId</th>\n",
       "      <th>isOrganic</th>\n",
       "      <th>breweries</th>\n",
       "      <th>isRetired</th>\n",
       "      <th>status</th>\n",
       "      <th>statusDisplay</th>\n",
       "    </tr>\n",
       "  </thead>\n",
       "  <tbody>\n",
       "    <tr>\n",
       "      <th>0</th>\n",
       "      <td>c4f2KE</td>\n",
       "      <td>'Murican Pilsner</td>\n",
       "      <td>'Murican Pilsner</td>\n",
       "      <td>5.5</td>\n",
       "      <td>98</td>\n",
       "      <td>NaN</td>\n",
       "      <td>4</td>\n",
       "      <td>N</td>\n",
       "      <td>nHLlnK</td>\n",
       "      <td>N</td>\n",
       "      <td>verified</td>\n",
       "      <td>Verified</td>\n",
       "    </tr>\n",
       "    <tr>\n",
       "      <th>1</th>\n",
       "      <td>zTTWa2</td>\n",
       "      <td>11.5° PLATO</td>\n",
       "      <td>11.5° PLATO</td>\n",
       "      <td>4.5</td>\n",
       "      <td>164</td>\n",
       "      <td>NaN</td>\n",
       "      <td>NaN</td>\n",
       "      <td>N</td>\n",
       "      <td>nHLlnK</td>\n",
       "      <td>N</td>\n",
       "      <td>verified</td>\n",
       "      <td>Verified</td>\n",
       "    </tr>\n",
       "    <tr>\n",
       "      <th>2</th>\n",
       "      <td>zfP2fK</td>\n",
       "      <td>12th Of Never</td>\n",
       "      <td>12th Of Never</td>\n",
       "      <td>5.5</td>\n",
       "      <td>25</td>\n",
       "      <td>NaN</td>\n",
       "      <td>NaN</td>\n",
       "      <td>N</td>\n",
       "      <td>nLsoQ9</td>\n",
       "      <td>N</td>\n",
       "      <td>verified</td>\n",
       "      <td>Verified</td>\n",
       "    </tr>\n",
       "    <tr>\n",
       "      <th>3</th>\n",
       "      <td>xwYSL2</td>\n",
       "      <td>15th Anniversary Ale</td>\n",
       "      <td>15th Anniversary Ale</td>\n",
       "      <td>NaN</td>\n",
       "      <td>5</td>\n",
       "      <td>NaN</td>\n",
       "      <td>NaN</td>\n",
       "      <td>N</td>\n",
       "      <td>TMc6H2</td>\n",
       "      <td>N</td>\n",
       "      <td>verified</td>\n",
       "      <td>Verified</td>\n",
       "    </tr>\n",
       "    <tr>\n",
       "      <th>4</th>\n",
       "      <td>UJGpVS</td>\n",
       "      <td>16 So Fine Red Wheat Wine</td>\n",
       "      <td>16 So Fine Red Wheat Wine</td>\n",
       "      <td>11</td>\n",
       "      <td>35</td>\n",
       "      <td>NaN</td>\n",
       "      <td>NaN</td>\n",
       "      <td>N</td>\n",
       "      <td>TMc6H2</td>\n",
       "      <td>N</td>\n",
       "      <td>verified</td>\n",
       "      <td>Verified</td>\n",
       "    </tr>\n",
       "  </tbody>\n",
       "</table>\n",
       "</div>"
      ],
      "text/plain": [
       "       id                       name                nameDisplay  abv styleId  \\\n",
       "0  c4f2KE           'Murican Pilsner           'Murican Pilsner  5.5      98   \n",
       "1  zTTWa2                11.5° PLATO                11.5° PLATO  4.5     164   \n",
       "2  zfP2fK              12th Of Never              12th Of Never  5.5      25   \n",
       "3  xwYSL2       15th Anniversary Ale       15th Anniversary Ale  NaN       5   \n",
       "4  UJGpVS  16 So Fine Red Wheat Wine  16 So Fine Red Wheat Wine   11      35   \n",
       "\n",
       "  year glasswareId isOrganic breweries isRetired    status statusDisplay  \n",
       "0  NaN           4         N    nHLlnK         N  verified      Verified  \n",
       "1  NaN         NaN         N    nHLlnK         N  verified      Verified  \n",
       "2  NaN         NaN         N    nLsoQ9         N  verified      Verified  \n",
       "3  NaN         NaN         N    TMc6H2         N  verified      Verified  \n",
       "4  NaN         NaN         N    TMc6H2         N  verified      Verified  "
      ]
     },
     "execution_count": 3,
     "metadata": {},
     "output_type": "execute_result"
    }
   ],
   "source": [
    "beer_data.head()"
   ]
  },
  {
   "cell_type": "markdown",
   "metadata": {},
   "source": [
    "> we'll change the column names from camel case to snake case for better consistency in notebook"
   ]
  },
  {
   "cell_type": "code",
   "execution_count": 4,
   "metadata": {},
   "outputs": [],
   "source": [
    "beer_data.rename(columns={'id':'beer_id', 'nameDisplay':'display_name','isOrganic':'organic','isRetired':'retired','breweries':'brewery_id', 'styleId':'style_id', 'glasswareId':'glass_id'}, inplace=True)"
   ]
  },
  {
   "cell_type": "code",
   "execution_count": 5,
   "metadata": {},
   "outputs": [],
   "source": [
    "beer_data.drop('statusDisplay',axis=1, inplace=True)"
   ]
  },
  {
   "cell_type": "code",
   "execution_count": 10,
   "metadata": {},
   "outputs": [
    {
     "data": {
      "text/plain": [
       "(1109, 11)"
      ]
     },
     "execution_count": 10,
     "metadata": {},
     "output_type": "execute_result"
    }
   ],
   "source": [
    "beer_data.shape"
   ]
  },
  {
   "cell_type": "code",
   "execution_count": 6,
   "metadata": {},
   "outputs": [
    {
     "data": {
      "text/html": [
       "<div>\n",
       "<style scoped>\n",
       "    .dataframe tbody tr th:only-of-type {\n",
       "        vertical-align: middle;\n",
       "    }\n",
       "\n",
       "    .dataframe tbody tr th {\n",
       "        vertical-align: top;\n",
       "    }\n",
       "\n",
       "    .dataframe thead th {\n",
       "        text-align: right;\n",
       "    }\n",
       "</style>\n",
       "<table border=\"1\" class=\"dataframe\">\n",
       "  <thead>\n",
       "    <tr style=\"text-align: right;\">\n",
       "      <th></th>\n",
       "      <th>beer_id</th>\n",
       "      <th>name</th>\n",
       "      <th>display_name</th>\n",
       "      <th>abv</th>\n",
       "      <th>style_id</th>\n",
       "      <th>year</th>\n",
       "      <th>glass_id</th>\n",
       "      <th>organic</th>\n",
       "      <th>brewery_id</th>\n",
       "      <th>retired</th>\n",
       "      <th>status</th>\n",
       "    </tr>\n",
       "  </thead>\n",
       "  <tbody>\n",
       "    <tr>\n",
       "      <th>0</th>\n",
       "      <td>c4f2KE</td>\n",
       "      <td>'Murican Pilsner</td>\n",
       "      <td>'Murican Pilsner</td>\n",
       "      <td>5.5</td>\n",
       "      <td>98</td>\n",
       "      <td>NaN</td>\n",
       "      <td>4</td>\n",
       "      <td>N</td>\n",
       "      <td>nHLlnK</td>\n",
       "      <td>N</td>\n",
       "      <td>verified</td>\n",
       "    </tr>\n",
       "    <tr>\n",
       "      <th>1</th>\n",
       "      <td>zTTWa2</td>\n",
       "      <td>11.5° PLATO</td>\n",
       "      <td>11.5° PLATO</td>\n",
       "      <td>4.5</td>\n",
       "      <td>164</td>\n",
       "      <td>NaN</td>\n",
       "      <td>NaN</td>\n",
       "      <td>N</td>\n",
       "      <td>nHLlnK</td>\n",
       "      <td>N</td>\n",
       "      <td>verified</td>\n",
       "    </tr>\n",
       "    <tr>\n",
       "      <th>2</th>\n",
       "      <td>zfP2fK</td>\n",
       "      <td>12th Of Never</td>\n",
       "      <td>12th Of Never</td>\n",
       "      <td>5.5</td>\n",
       "      <td>25</td>\n",
       "      <td>NaN</td>\n",
       "      <td>NaN</td>\n",
       "      <td>N</td>\n",
       "      <td>nLsoQ9</td>\n",
       "      <td>N</td>\n",
       "      <td>verified</td>\n",
       "    </tr>\n",
       "    <tr>\n",
       "      <th>3</th>\n",
       "      <td>xwYSL2</td>\n",
       "      <td>15th Anniversary Ale</td>\n",
       "      <td>15th Anniversary Ale</td>\n",
       "      <td>NaN</td>\n",
       "      <td>5</td>\n",
       "      <td>NaN</td>\n",
       "      <td>NaN</td>\n",
       "      <td>N</td>\n",
       "      <td>TMc6H2</td>\n",
       "      <td>N</td>\n",
       "      <td>verified</td>\n",
       "    </tr>\n",
       "    <tr>\n",
       "      <th>4</th>\n",
       "      <td>UJGpVS</td>\n",
       "      <td>16 So Fine Red Wheat Wine</td>\n",
       "      <td>16 So Fine Red Wheat Wine</td>\n",
       "      <td>11</td>\n",
       "      <td>35</td>\n",
       "      <td>NaN</td>\n",
       "      <td>NaN</td>\n",
       "      <td>N</td>\n",
       "      <td>TMc6H2</td>\n",
       "      <td>N</td>\n",
       "      <td>verified</td>\n",
       "    </tr>\n",
       "  </tbody>\n",
       "</table>\n",
       "</div>"
      ],
      "text/plain": [
       "  beer_id                       name               display_name  abv style_id  \\\n",
       "0  c4f2KE           'Murican Pilsner           'Murican Pilsner  5.5       98   \n",
       "1  zTTWa2                11.5° PLATO                11.5° PLATO  4.5      164   \n",
       "2  zfP2fK              12th Of Never              12th Of Never  5.5       25   \n",
       "3  xwYSL2       15th Anniversary Ale       15th Anniversary Ale  NaN        5   \n",
       "4  UJGpVS  16 So Fine Red Wheat Wine  16 So Fine Red Wheat Wine   11       35   \n",
       "\n",
       "  year glass_id organic brewery_id retired    status  \n",
       "0  NaN        4       N     nHLlnK       N  verified  \n",
       "1  NaN      NaN       N     nHLlnK       N  verified  \n",
       "2  NaN      NaN       N     nLsoQ9       N  verified  \n",
       "3  NaN      NaN       N     TMc6H2       N  verified  \n",
       "4  NaN      NaN       N     TMc6H2       N  verified  "
      ]
     },
     "execution_count": 6,
     "metadata": {},
     "output_type": "execute_result"
    }
   ],
   "source": [
    "beer_data.head()"
   ]
  },
  {
   "cell_type": "code",
   "execution_count": 7,
   "metadata": {},
   "outputs": [],
   "source": [
    "beer_data.to_csv(\"data/beers.csv\")"
   ]
  },
  {
   "cell_type": "markdown",
   "metadata": {},
   "source": [
    "> we can see that there are 263 beers of the 1109 total beers that have a value for glass_id"
   ]
  },
  {
   "cell_type": "code",
   "execution_count": 9,
   "metadata": {},
   "outputs": [
    {
     "name": "stdout",
     "output_type": "stream",
     "text": [
      "(263, 11)\n"
     ]
    },
    {
     "data": {
      "text/html": [
       "<div>\n",
       "<style scoped>\n",
       "    .dataframe tbody tr th:only-of-type {\n",
       "        vertical-align: middle;\n",
       "    }\n",
       "\n",
       "    .dataframe tbody tr th {\n",
       "        vertical-align: top;\n",
       "    }\n",
       "\n",
       "    .dataframe thead th {\n",
       "        text-align: right;\n",
       "    }\n",
       "</style>\n",
       "<table border=\"1\" class=\"dataframe\">\n",
       "  <thead>\n",
       "    <tr style=\"text-align: right;\">\n",
       "      <th></th>\n",
       "      <th>beer_id</th>\n",
       "      <th>name</th>\n",
       "      <th>display_name</th>\n",
       "      <th>abv</th>\n",
       "      <th>style_id</th>\n",
       "      <th>year</th>\n",
       "      <th>glass_id</th>\n",
       "      <th>organic</th>\n",
       "      <th>brewery_id</th>\n",
       "      <th>retired</th>\n",
       "      <th>status</th>\n",
       "    </tr>\n",
       "  </thead>\n",
       "  <tbody>\n",
       "    <tr>\n",
       "      <th>0</th>\n",
       "      <td>c4f2KE</td>\n",
       "      <td>'Murican Pilsner</td>\n",
       "      <td>'Murican Pilsner</td>\n",
       "      <td>5.5</td>\n",
       "      <td>98</td>\n",
       "      <td>NaN</td>\n",
       "      <td>4</td>\n",
       "      <td>N</td>\n",
       "      <td>nHLlnK</td>\n",
       "      <td>N</td>\n",
       "      <td>verified</td>\n",
       "    </tr>\n",
       "    <tr>\n",
       "      <th>10</th>\n",
       "      <td>qGDeH1</td>\n",
       "      <td>2 x 4</td>\n",
       "      <td>2 x 4</td>\n",
       "      <td>8.7</td>\n",
       "      <td>70</td>\n",
       "      <td>NaN</td>\n",
       "      <td>5</td>\n",
       "      <td>N</td>\n",
       "      <td>nHLlnK</td>\n",
       "      <td>N</td>\n",
       "      <td>verified</td>\n",
       "    </tr>\n",
       "    <tr>\n",
       "      <th>14</th>\n",
       "      <td>uIgENV</td>\n",
       "      <td>20th Street Ale Citra</td>\n",
       "      <td>20th Street Ale Citra</td>\n",
       "      <td>7.3</td>\n",
       "      <td>NaN</td>\n",
       "      <td>NaN</td>\n",
       "      <td>5</td>\n",
       "      <td>N</td>\n",
       "      <td>nHLlnK</td>\n",
       "      <td>N</td>\n",
       "      <td>verified</td>\n",
       "    </tr>\n",
       "    <tr>\n",
       "      <th>25</th>\n",
       "      <td>NoNhan</td>\n",
       "      <td>420 Extra Pale Ale</td>\n",
       "      <td>420 Extra Pale Ale</td>\n",
       "      <td>5.4</td>\n",
       "      <td>25</td>\n",
       "      <td>NaN</td>\n",
       "      <td>5</td>\n",
       "      <td>N</td>\n",
       "      <td>TMc6H2</td>\n",
       "      <td>N</td>\n",
       "      <td>verified</td>\n",
       "    </tr>\n",
       "    <tr>\n",
       "      <th>29</th>\n",
       "      <td>fa0oqf</td>\n",
       "      <td>471 ESB - Extra Special Bitter</td>\n",
       "      <td>471 ESB - Extra Special Bitter</td>\n",
       "      <td>7.8</td>\n",
       "      <td>5</td>\n",
       "      <td>NaN</td>\n",
       "      <td>5</td>\n",
       "      <td>N</td>\n",
       "      <td>IImUD9</td>\n",
       "      <td>Y</td>\n",
       "      <td>verified</td>\n",
       "    </tr>\n",
       "  </tbody>\n",
       "</table>\n",
       "</div>"
      ],
      "text/plain": [
       "   beer_id                            name                    display_name  \\\n",
       "0   c4f2KE                'Murican Pilsner                'Murican Pilsner   \n",
       "10  qGDeH1                           2 x 4                           2 x 4   \n",
       "14  uIgENV           20th Street Ale Citra           20th Street Ale Citra   \n",
       "25  NoNhan              420 Extra Pale Ale              420 Extra Pale Ale   \n",
       "29  fa0oqf  471 ESB - Extra Special Bitter  471 ESB - Extra Special Bitter   \n",
       "\n",
       "    abv style_id year glass_id organic brewery_id retired    status  \n",
       "0   5.5       98  NaN        4       N     nHLlnK       N  verified  \n",
       "10  8.7       70  NaN        5       N     nHLlnK       N  verified  \n",
       "14  7.3      NaN  NaN        5       N     nHLlnK       N  verified  \n",
       "25  5.4       25  NaN        5       N     TMc6H2       N  verified  \n",
       "29  7.8        5  NaN        5       N     IImUD9       Y  verified  "
      ]
     },
     "execution_count": 9,
     "metadata": {},
     "output_type": "execute_result"
    }
   ],
   "source": [
    "beer_glass = beer_data[beer_data[\"glass_id\"].notna()]\n",
    "print(beer_glass.shape)\n",
    "beer_glass.head()"
   ]
  },
  {
   "cell_type": "markdown",
   "metadata": {},
   "source": [
    "> Below, we can see the distribution of the glasses. The majority of the beers use glass5. Because of the lack of data in several other glass_id's, it would not be safe to generalize the data over other beers/glasses"
   ]
  },
  {
   "cell_type": "code",
   "execution_count": 12,
   "metadata": {},
   "outputs": [
    {
     "data": {
      "text/plain": [
       "glass_id\n",
       "1      1\n",
       "2      1\n",
       "3      4\n",
       "4     15\n",
       "5    214\n",
       "6      9\n",
       "8     15\n",
       "9      4\n",
       "Name: beer_id, dtype: int64"
      ]
     },
     "execution_count": 12,
     "metadata": {},
     "output_type": "execute_result"
    }
   ],
   "source": [
    "beer_glass.groupby('glass_id').count()['beer_id']"
   ]
  },
  {
   "cell_type": "markdown",
   "metadata": {},
   "source": [
    "> before we can create our plots, we need to clean the data and make sure that the data types are consistent with the requirements for the plot. "
   ]
  },
  {
   "cell_type": "code",
   "execution_count": 15,
   "metadata": {},
   "outputs": [
    {
     "name": "stdout",
     "output_type": "stream",
     "text": [
      "<class 'pandas.core.frame.DataFrame'>\n",
      "Int64Index: 263 entries, 0 to 1106\n",
      "Data columns (total 11 columns):\n",
      "beer_id         263 non-null object\n",
      "name            263 non-null object\n",
      "display_name    263 non-null object\n",
      "abv             259 non-null float64\n",
      "style_id        258 non-null object\n",
      "year            20 non-null object\n",
      "glass_id        263 non-null int64\n",
      "organic         263 non-null object\n",
      "brewery_id      263 non-null object\n",
      "retired         263 non-null object\n",
      "status          263 non-null object\n",
      "dtypes: float64(1), int64(1), object(9)\n",
      "memory usage: 24.7+ KB\n"
     ]
    },
    {
     "name": "stderr",
     "output_type": "stream",
     "text": [
      "/Users/MacBookPro/anaconda3/lib/python3.6/site-packages/ipykernel_launcher.py:3: SettingWithCopyWarning: \n",
      "A value is trying to be set on a copy of a slice from a DataFrame.\n",
      "Try using .loc[row_indexer,col_indexer] = value instead\n",
      "\n",
      "See the caveats in the documentation: http://pandas.pydata.org/pandas-docs/stable/indexing.html#indexing-view-versus-copy\n",
      "  This is separate from the ipykernel package so we can avoid doing imports until\n",
      "/Users/MacBookPro/anaconda3/lib/python3.6/site-packages/ipykernel_launcher.py:4: SettingWithCopyWarning: \n",
      "A value is trying to be set on a copy of a slice from a DataFrame.\n",
      "Try using .loc[row_indexer,col_indexer] = value instead\n",
      "\n",
      "See the caveats in the documentation: http://pandas.pydata.org/pandas-docs/stable/indexing.html#indexing-view-versus-copy\n",
      "  after removing the cwd from sys.path.\n"
     ]
    }
   ],
   "source": [
    "# beer_glass.info() \n",
    "# shows that all variables are categorical and abv should be turned into a float and glass_id to int to be able to plot\n",
    "beer_glass['abv'] = beer_glass['abv'].astype(float)\n",
    "beer_glass['glass_id'] = beer_glass['glass_id'].astype(int)\n",
    "beer_glass.info()"
   ]
  },
  {
   "cell_type": "code",
   "execution_count": 16,
   "metadata": {},
   "outputs": [
    {
     "data": {
      "image/png": "[encoded data removed]",
      "text/plain": [
       "<Figure size 432x288 with 1 Axes>"
      ]
     },
     "metadata": {
      "needs_background": "light"
     },
     "output_type": "display_data"
    }
   ],
   "source": [
    "abv_glass = beer_glass.boxplot('abv', \"glass_id\")"
   ]
  },
  {
   "cell_type": "code",
   "execution_count": 17,
   "metadata": {},
   "outputs": [
    {
     "data": {
      "image/png": "[encoded data removed]",
      "text/plain": [
       "<Figure size 432x288 with 1 Axes>"
      ]
     },
     "metadata": {
      "needs_background": "light"
     },
     "output_type": "display_data"
    }
   ],
   "source": [
    "abv_hist = beer_glass.plot(y='abv', kind='hist', bins=20, title='Alcohol by Volume', legend=False)"
   ]
  },
  {
   "cell_type": "code",
   "execution_count": null,
   "metadata": {},
   "outputs": [],
   "source": []
  }
 ],
 "metadata": {
  "kernelspec": {
   "display_name": "Python 3",
   "language": "python",
   "name": "python3"
  },
  "language_info": {
   "codemirror_mode": {
    "name": "ipython",
    "version": 3
   },
   "file_extension": ".py",
   "mimetype": "text/x-python",
   "name": "python",
   "nbconvert_exporter": "python",
   "pygments_lexer": "ipython3",
   "version": "3.6.7"
  }
 },
 "nbformat": 4,
 "nbformat_minor": 2
}
