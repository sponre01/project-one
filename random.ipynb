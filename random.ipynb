{
 "cells": [
  {
   "cell_type": "code",
   "execution_count": 14,
   "metadata": {},
   "outputs": [],
   "source": [
    "from config import api_key\n",
    "import pandas as pd\n",
    "import numpy as np\n",
    "import requests\n",
    "url = 'https://sandbox-api.brewerydb.com/v2/beer/random'\n",
    "query_url = f\"{url}/?key={api_key}\""
   ]
  },
  {
   "cell_type": "code",
   "execution_count": 15,
   "metadata": {},
   "outputs": [],
   "source": [
    "d = requests.get(query_url)"
   ]
  },
  {
   "cell_type": "code",
   "execution_count": 16,
   "metadata": {},
   "outputs": [
    {
     "data": {
      "text/plain": [
       "{'message': 'READ ONLY MODE: Request Successful',\n",
       " 'data': {'id': 'Oobtwc',\n",
       "  'name': 'IceyPA',\n",
       "  'nameDisplay': 'IceyPA',\n",
       "  'abv': '7',\n",
       "  'styleId': 30,\n",
       "  'isRetired': 'N',\n",
       "  'status': 'verified',\n",
       "  'statusDisplay': 'Verified',\n",
       "  'createDate': '2014-06-17 14:47:28',\n",
       "  'updateDate': '2018-11-02 02:15:14',\n",
       "  'style': {'id': 30,\n",
       "   'categoryId': 3,\n",
       "   'category': {'id': 3,\n",
       "    'name': 'North American Origin Ales',\n",
       "    'createDate': '2012-03-21 20:06:45'},\n",
       "   'name': 'American-Style India Pale Ale',\n",
       "   'shortName': 'American IPA',\n",
       "   'description': 'American-style India pale ales are perceived to have medium-high to intense hop bitterness, flavor and aroma with medium-high alcohol content. The style is further characterized by floral, fruity, citrus-like, piney, resinous, or sulfur-like American-variety hop character. Note that one or more of these American-variety hop characters is the perceived end, but the hop characters may be a result of the skillful use of hops of other national origins. The use of water with high mineral content results in a crisp, dry beer. This pale gold to deep copper-colored ale has a full, flowery hop aroma and may have a strong hop flavor (in addition to the perception of hop bitterness). India pale ales possess medium maltiness which contributes to a medium body. Fruity-ester flavors and aromas are moderate to very strong. Diacetyl can be absent or may be perceived at very low levels. Chill and/or hop haze is allowable at cold temperatures. (English and citrus-like American hops are considered enough of a distinction justifying separate American-style IPA and English-style IPA categories or subcategories. Hops of other origins may be used for bitterness or approximating traditional American or English character. See English-style India Pale Ale',\n",
       "   'ibuMin': '50',\n",
       "   'ibuMax': '70',\n",
       "   'abvMin': '6.3',\n",
       "   'abvMax': '7.5',\n",
       "   'srmMin': '6',\n",
       "   'srmMax': '14',\n",
       "   'ogMin': '1.06',\n",
       "   'fgMin': '1.012',\n",
       "   'fgMax': '1.018',\n",
       "   'createDate': '2012-03-21 20:06:45',\n",
       "   'updateDate': '2015-04-07 15:26:37'}},\n",
       " 'status': 'success'}"
      ]
     },
     "execution_count": 16,
     "metadata": {},
     "output_type": "execute_result"
    }
   ],
   "source": [
    "d.json()\n"
   ]
  },
  {
   "cell_type": "code",
   "execution_count": null,
   "metadata": {},
   "outputs": [],
   "source": []
  }
 ],
 "metadata": {
  "kernelspec": {
   "display_name": "Python 3",
   "language": "python",
   "name": "python3"
  },
  "language_info": {
   "codemirror_mode": {
    "name": "ipython",
    "version": 3
   },
   "file_extension": ".py",
   "mimetype": "text/x-python",
   "name": "python",
   "nbconvert_exporter": "python",
   "pygments_lexer": "ipython3",
   "version": "3.6.5"
  }
 },
 "nbformat": 4,
 "nbformat_minor": 2
}
